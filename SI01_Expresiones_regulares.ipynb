{
  "nbformat": 4,
  "nbformat_minor": 0,
  "metadata": {
    "colab": {
      "provenance": [],
      "toc_visible": true,
      "include_colab_link": true
    },
    "kernelspec": {
      "name": "python3",
      "display_name": "Python 3"
    },
    "language_info": {
      "name": "python"
    }
  },
  "cells": [
    {
      "cell_type": "markdown",
      "metadata": {
        "id": "view-in-github",
        "colab_type": "text"
      },
      "source": [
        "<a href=\"https://colab.research.google.com/github/SantiagoMaya10/PPI-MayaRestrepo-2024-1s/blob/main/SI01_Expresiones_regulares.ipynb\" target=\"_parent\"><img src=\"https://colab.research.google.com/assets/colab-badge.svg\" alt=\"Open In Colab\"/></a>"
      ]
    },
    {
      "cell_type": "markdown",
      "source": [
        "##«*Mira y escucha. Una rosa tiembla, agitada por la brisa, y el ruiseñor le canta un himno apasionado*».\n",
        "###[Omar Khayyam](https://en.wikipedia.org/wiki/Omar_Khayyam)\n"
      ],
      "metadata": {
        "id": "vw4vyHJgIWfA"
      }
    },
    {
      "cell_type": "markdown",
      "source": [
        "# SI01 Expresiones regulares\n",
        "\n",
        "Resuelva los siguientes ejercicios con códigos que se ajusten al PEP8. Recuerde incluir los comentarios en el código y documentar las funciones con docstrings al estilo de Google.\n",
        "\n",
        "**Descargue de [archivos datos regex](https://github.com/gabrielawad/talleresGoogleColab/tree/main/Archivo_datos/regex) el que corresponda con su número de documento de identidad**."
      ],
      "metadata": {
        "id": "dgqyju__IQ2K"
      }
    },
    {
      "cell_type": "markdown",
      "source": [
        "# Preparación del ejercicio\n",
        "\n",
        "*   Importe las librerías requeridas\n",
        "*   Lea el dataset a utilizar desde una url\n",
        "\n",
        "**Sugerencia**: suba el dataset a un repositorio de GitHub, o al Googledrive **de su cuenta personal de gmail** y luego publíquelo en la web como un archivo *.csv. El siguiente enlace le indica cómo hacerlo: [Cómo publicar archivos de Documentos, Hojas de cálculo, Presentaciones y Formularios de Google](https://support.google.com/docs/answer/183965?hl=es-419&co=GENIE.Platform%3DDesktop).\n",
        "\n",
        "Nota: si lo desea puede utilizar otro método para obtener la url del dataset.\n",
        "\n"
      ],
      "metadata": {
        "id": "rP2Y7el2JAp5"
      }
    },
    {
      "cell_type": "code",
      "source": [
        "# Escriba aquí su código\n",
        "\n",
        "# Importar las librerías necesarias\n",
        "\n",
        "# Se importa pandas únicamente para utilizar su funcionalidad de importar archivos csv desde una URL\n",
        "import pandas as pd\n",
        "# Se importa re para manejo de expresiones regulares\n",
        "import re\n",
        "# Módulo nativo de python para contar elementos de una lista\n",
        "from collections import Counter\n",
        "\n",
        "\n",
        "\n",
        "# Conocer la versiones de las librerías instaladas\n",
        "print('Pandas version:', pd.__version__)\n",
        "print('re version:', re.__version__)\n",
        "\n",
        "\n",
        "\n",
        "# Guardar en la variable 'ruta' la url del dataset, esta se apunta a mi drive personal\n",
        "ruta = 'https://docs.google.com/spreadsheets/d/e/2PACX-1vTpicTMuS0diyGHsEvjWjrOb1vOAMfwLsxMp33JThkAmrCz8VvPvoff8fDGvmpBu0J3ieHgK0e_DiAQ/pub?gid=1832152455&single=true&output=csv'\n",
        "\n",
        "\n",
        "# Cargar el dataset a partir de la ruta establecida\n",
        "data = pd.read_csv(ruta)\n",
        "\n",
        "# Se hace un split por espacios de los elementos del dataset para que queden en forma de lista\n",
        "# y así poder filtrarlos más fácil\n",
        "data_en_texto_plano = data.to_string().split()\n",
        "\n",
        "# Verificar la lectura del dataset\n",
        "print('Elementos del texto:', data_en_texto_plano)\n",
        "print('Longitud lista resultante:', len(data_en_texto_plano))\n",
        "\n"
      ],
      "metadata": {
        "id": "WDXlcxw2LUl5",
        "colab": {
          "base_uri": "https://localhost:8080/"
        },
        "outputId": "d58c77d3-11a1-4c8e-95a9-20ca394287c5"
      },
      "execution_count": 80,
      "outputs": [
        {
          "output_type": "stream",
          "name": "stdout",
          "text": [
            "Pandas version: 2.0.3\n",
            "re version: 2.2.1\n",
            "Elementos del texto: ['421-255-3317', '#f1b', '3477057', '15/11/1995', '@rshnbaf12', 'http://example.com/image.jpg', 'PAZ', 'mlopez@outlook.com', 'http://example.com/27', '0', 'PYTHON', 'mlopez@icloud.com', 'http://example.com/image.gif', '144.153.46.161', '28/1/1990', '1', '968-555-8385', '4029805', '148.233.64.194', 'https://example.com/38', '#v2mkwrs4', 'http://example.com/image.jpg', '@6oq', 'EJEMPLO', '30/8/1978', '2', 'https://example.com/79', 'bsanchez@yahoo.com', '#qwe8tcuw', '7479717', 'CASA', '536-899-3546', '1/6/1957', '@7la72tin_a', 'http://example.com/image.jpg', '3', '@gdmww8', '4645955', '2/11/1953', 'http://example.com/image.png', '#gc6b7a', '81.118.60.90', '904-919-2476', 'aperez@icloud.com', 'PAZ', 'https://example.com/85', '4', 'http://example.com/image.png', '27/3/2022', 'HOLA', '28.129.144.110', '#ce8q8', '@iud', 'aperez@gmail.com', '5', 'PAZ', '#t3pd', 'jgonzalez@outlook.com', '315-704-2364', '21/6/1993', 'http://example.com/71', '4878049', 'http://example.com/image.png', '48.38.123.52', '@j6_', '6', '#yz0fy', 'FAMILIA', '253-891-3078', '7613733', '@fzdz43', 'http://example.com/image.gif', 'http://example.com/100', '7', 'jgonzalez@hotmail.com', '13/6/1961', 'https://example.com/26', '17.90.73.119', '@ip461r16', '6471233', '#3oyw', '287-521-8427', 'HOLA', 'http://example.com/image.jpg', '8', 'http://example.com/36', '202.32.92.241', '#ea3bwc08', '294-145-9419', 'MUNDO', '8371737', '@gptdl3kzy3', '9', '30/12/1960', '62.74.174.108', '4240713', 'PYTHON', '#tuzuk049', 'https://example.com/90', 'http://example.com/image.png', '@zg4mwg', '108-493-4916', 'mlopez@gmail.com', '10', '243-604-3314', '2985328', '@vxt7', '10/11/1987', 'https://example.com/94', 'bsanchez@hotmail.com', 'PYTHON', '124.178.174.9', '#63z27a', 'http://example.com/image.png', '11', 'http://example.com/image.gif', '@2ruho4', '879-353-9371', 'https://example.com/95', '23/4/1970', 'HOLA', '#u6s_a', '12', 'jgonzalez@icloud.com', '#cc4i', '120.75.129.44', '@t7x7fm', '9947326', '13', 'http://example.com/image.jpg', '@69wns85', 'aperez@outlook.com', '1388042', '3/11/1988', '14', '117-474-9122', '@kq', '#u1lr_5', '6121177', '19/3/2019', '54.69.73.133', '15', '462-545-7222', 'http://example.com/image.jpg', '110.86.132.44', 'mlopez@yahoo.com', '#f84vzxj', '19/11/1989', 'http://example.com/99', '@x', '9120890', 'AMOR', '16', 'http://example.com/image.png', '736-406-6322', '131.193.107.113', '1998149', 'mlopez@icloud.com', 'AMOR', '17', 'bsanchez@outlook.com', 'https://example.com/37', 'EJEMPLO', '15/5/2002', '70.184.102.94', 'http://example.com/image.gif', '#q3a1eu9', '598-321-2789', '18', 'http://example.com/image.jpg', '0139502', 'http://example.com/47', '@zsvokkbi6', '6/3/1962', '19', '@_49d', '79.233.197.13', 'mlopez@outlook.com', '21/6/1996', '#u8cr548u', '1697203', '20', 'https://example.com/49', '@qbwi1sb5', '#5xr39uhp', 'jgonzalez@yahoo.com', '3109267', 'PUEBLO', '18/3/2021', '21', 'AMOR', '4/3/1962', '75.0.64.186', '1403567', 'https://example.com/65', '22', '89.132.81.5', '@hcq', '1917060', 'MUNDO', 'https://example.com/68', '492-156-5675', '23', '5063171', '31/11/1963', 'FELICIDADES', '668-739-1582', 'https://example.com/21', '120.77.118.57', '#w2ywd6iy7', 'http://example.com/image.jpg', 'aperez@gmail.com', '@k83tyw4a', '24', '329-246-7340', 'bsanchez@yahoo.com', '8260874', 'http://example.com/9', 'MUNDO', '28/11/1987', '@z7f99', '25', 'aperez@icloud.com', '#pl_utl', '2870095', 'http://example.com/38', '@7fij', '643-870-3198', '26', '6/9/1968', 'https://example.com/74', '#o74r9', '@vqima', 'MUNDO', 'http://example.com/image.gif', '27', 'aperez@outlook.com', '420-465-4697', '60.115.97.160', '#7bo0', '@wf44c', 'https://example.com/50', 'http://example.com/image.gif', '8/7/2000', '1689088', 'EJEMPLO', '28', '0177905', 'http://example.com/42', '5/12/1986', '205.121.4.243', 'http://example.com/image.png', '996-993-2343', 'PUEBLO', '#66l9', '29', '18/5/1958', '0540018', 'MUNDO', '@466l9q8xq', '#u', 'http://example.com/46', 'http://example.com/image.jpg', '866-826-5846', '30', '243.199.174.34', 'http://example.com/image.jpg', 'CASA', '@sc', '#gesx', '31', '203.30.8.64', 'https://example.com/90', '5630602', '#k8', 'http://example.com/image.png', 'bsanchez@icloud.com', 'FELICIDADES', '21/9/1988', '214-363-5976', '@81ns5vn', '32', '2823905', '30/1/1960', '931-393-4266', 'mlopez@hotmail.com', 'http://example.com/image.png', 'PUEBLO', '186.96.108.252', '#d', '@zjbrfq_', '33', 'https://example.com/34', 'CASA', '#cjnitsda', 'http://example.com/image.jpg', '104.188.154.50', '8073247', '976-368-8693', '34', 'FAMILIA', 'mlopez@hotmail.com', '208-380-3133', '@_lwpw', '9369992', '27/10/1951', 'https://example.com/36', '#w7e2', '35', '137.246.10.50', '#4b6c7wev', 'aperez@icloud.com', '6362759', 'https://example.com/96', '@e86lb3t', '864-140-8848', '36', '9/1/2007', '105.54.120.202', '1723546', '#ups', '@rhxhwt0', 'aperez@yahoo.com', '37', '1077747', '157.107.54.189', 'ctamayo@icloud.com', 'https://example.com/59', 'http://example.com/image.jpg', 'PAZ', '23/5/1982', '#j2kj8le', '@71vtjdfg', '564-546-6096', '38', 'mlopez@icloud.com', 'http://example.com/image.jpg', '@61t', 'MUNDO', '#zjny6hxwtc', '19/12/2018', 'http://example.com/92', '39', 'PYTHON', '#ylkd3cc6', '214.162.57.36', '26/3/2000', 'http://example.com/image.png', '6111134', 'bsanchez@hotmail.com', '40', 'http://example.com/79', '863-317-6237', '22.58.209.182', '#m39ra5n', '14/11/2016', '@xcaijir', 'FELICIDADES', 'ctamayo@hotmail.com', 'http://example.com/image.jpg', '2366458', '41', 'http://example.com/image.gif', 'https://example.com/95', '8014654', 'ctamayo@yahoo.com', '858-889-1700', '20/12/2012', '158.225.96.94', '42', '@r22n', '729-904-6289', 'http://example.com/52', '1/12/1953', 'aperez@gmail.com', 'http://example.com/image.jpg', '9579483', '#24mqho7', '43', '2947736', 'PAZ', '#jip', '579-895-9798', 'http://example.com/1', 'http://example.com/image.png', '@_0j2qhk', '119.0.91.100']\n",
            "Longitud lista resultante: 387\n"
          ]
        }
      ]
    },
    {
      "cell_type": "markdown",
      "source": [
        "## Ejercicio 00\n",
        "\n",
        "Escriba un programa que lea el archivo de referencia y reporte cuántas direcciones de correo electrónico contiene en total y cuantas por cada dominio de correo electrónico.\n",
        "\n",
        "\n"
      ],
      "metadata": {
        "id": "4kpeP548VfWv"
      }
    },
    {
      "cell_type": "code",
      "source": [
        "# Resuelva en esta casilla el ejercicio 00\n",
        "\n",
        "def imprimir_cantidad_emails_y_ocurrencias_por_dominio(data_en_texto_plano):\n",
        "    \"\"\"\n",
        "    Calcula la cantidad de direcciones de correo electrónico y sus ocurrencias por dominio.\n",
        "\n",
        "    Args:\n",
        "        data_en_texto_plano (list): Una lista de cadenas de texto que pueden contener direcciones de correo electrónico.\n",
        "\n",
        "    Returns:\n",
        "        None\n",
        "\n",
        "    Prints:\n",
        "        Imprime la cantidad total de direcciones de correo electrónico encontradas en el texto proporcionado.\n",
        "        Imprime las ocurrencias de cada dominio de correo electrónico junto con su cantidad respectiva.\n",
        "\n",
        "    \"\"\"\n",
        "\n",
        "    # Regex que valida correo electronico\n",
        "    patron_email = '[A-Za-z0-9._%+-]+@{1}[A-Za-z0-9-]+\\.{1}[A-Za-z]{2,}'\n",
        "\n",
        "    # Se hace uso de filtrado de python con expresión lambda\n",
        "    direcciones_email = list(filter(lambda x: re.match(patron_email, x) is not None, data_en_texto_plano))\n",
        "\n",
        "    print(f'En total hay {len(direcciones_email)} direcciones de correo electrónico')\n",
        "\n",
        "    # Regex para eliminar la parte del usuario de la dirección de email\n",
        "    patron_remplazo = '[A-Za-z0-9._%+-]+@'\n",
        "\n",
        "    # Vamos a remplazar la ocurrencia por vacío\n",
        "    remplazo = ''\n",
        "\n",
        "    # Se hace un mapeo para obtener una lista sin usuarios en los emails y así obtener los dominios\n",
        "    dominios_email = list(map(lambda x: re.sub(patron_remplazo, remplazo, x), direcciones_email))\n",
        "\n",
        "    # Se cuantan las ocurrencias de cada dominio\n",
        "    dict_dominio_ocurrencias = dict(Counter(dominios_email))\n",
        "\n",
        "    for key in dict_dominio_ocurrencias:\n",
        "        print(f'El dominio {key} tiene {dict_dominio_ocurrencias[key]} ocurrencias')\n",
        "\n",
        "\n",
        "imprimir_cantidad_emails_y_ocurrencias_por_dominio(data_en_texto_plano)\n",
        "\n"
      ],
      "metadata": {
        "id": "SMQWLfFhKsaO",
        "colab": {
          "base_uri": "https://localhost:8080/"
        },
        "outputId": "15988616-c0d0-4f81-de2b-c4dd46fda63f"
      },
      "execution_count": 81,
      "outputs": [
        {
          "output_type": "stream",
          "name": "stdout",
          "text": [
            "En total hay 31 direcciones de correo electrónico\n",
            "El dominio outlook.com tiene 6 ocurrencias\n",
            "El dominio icloud.com tiene 9 ocurrencias\n",
            "El dominio yahoo.com tiene 6 ocurrencias\n",
            "El dominio gmail.com tiene 4 ocurrencias\n",
            "El dominio hotmail.com tiene 6 ocurrencias\n"
          ]
        }
      ]
    },
    {
      "cell_type": "markdown",
      "source": [
        "## Ejercicio 01\n",
        "Escriba un programa que lea el archivo de referencia y extraiga todos los números de teléfono válidos contenidos en él. Los números de teléfono válidos deben seguir el formato XXX-XXX-XXXX."
      ],
      "metadata": {
        "id": "AWpJFnkfZE8X"
      }
    },
    {
      "cell_type": "code",
      "source": [
        "# Resuelva en esta casilla el ejercicio 01\n",
        "\n",
        "def imprimir_cantidad_y_telefonos_con_formato_valido(data_en_texto_plano):\n",
        "    \"\"\"\n",
        "    Imprime la cantidad de números de teléfono con formato válido y los números de teléfono válidos encontrados en el texto proporcionado.\n",
        "\n",
        "    Args:\n",
        "        data_en_texto_plano (list): Una lista de cadenas de texto que pueden contener números de teléfono.\n",
        "\n",
        "    Returns:\n",
        "        None\n",
        "\n",
        "    Prints:\n",
        "        Imprime la cantidad total de números de teléfono con formato válido encontrados en el texto proporcionado.\n",
        "        Imprime la lista de números de teléfono válidos.\n",
        "\n",
        "    \"\"\"\n",
        "\n",
        "    patron_telefno_valido = '\\d{3}-\\d{3}-\\d{4}'\n",
        "\n",
        "    telefonos_validos = list(filter(lambda x: re.match(patron_telefno_valido, x) is not None, data_en_texto_plano))\n",
        "\n",
        "    print(f'En total hay {len(telefonos_validos)} telefonos_validos')\n",
        "\n",
        "    print(f'Los cuales son: {telefonos_validos}')\n",
        "\n",
        "imprimir_cantidad_y_telefonos_con_formato_valido(data_en_texto_plano)\n"
      ],
      "metadata": {
        "id": "CN9EHSJKK1Sn",
        "colab": {
          "base_uri": "https://localhost:8080/"
        },
        "outputId": "77f2e110-5f0e-47ca-fc9e-e42d1dba55a1"
      },
      "execution_count": 82,
      "outputs": [
        {
          "output_type": "stream",
          "name": "stdout",
          "text": [
            "En total hay 32 telefonos_validos\n",
            "Los cuales son: ['421-255-3317', '968-555-8385', '536-899-3546', '904-919-2476', '315-704-2364', '253-891-3078', '287-521-8427', '294-145-9419', '108-493-4916', '243-604-3314', '879-353-9371', '117-474-9122', '462-545-7222', '736-406-6322', '598-321-2789', '492-156-5675', '668-739-1582', '329-246-7340', '643-870-3198', '420-465-4697', '996-993-2343', '866-826-5846', '214-363-5976', '931-393-4266', '976-368-8693', '208-380-3133', '864-140-8848', '564-546-6096', '863-317-6237', '858-889-1700', '729-904-6289', '579-895-9798']\n"
          ]
        }
      ]
    },
    {
      "cell_type": "markdown",
      "source": [
        "## Ejercicio 02\n",
        "\n",
        "Escriba un programa que lea el archivo de referencia y extraiga todas las fechas válidas contenidas. Las fechas válidas deben estar en formato \"DD/MM/AAAA\".\n"
      ],
      "metadata": {
        "id": "0hEyKcvlaM1p"
      }
    },
    {
      "cell_type": "code",
      "source": [
        "# Resuelva en esta casilla el ejercicio 02\n",
        "\n",
        "def imprimir_fechas_validas(data_en_texto_plano):\n",
        "    \"\"\"\n",
        "    Imprime la cantidad de fechas válidas y las fechas válidas encontradas en el texto proporcionado.\n",
        "\n",
        "    Args:\n",
        "        data_en_texto_plano (list): Una lista de cadenas de texto que pueden contener fechas en formato DD/MM/AAAA.\n",
        "\n",
        "    Returns:\n",
        "        None\n",
        "\n",
        "    Prints:\n",
        "        Imprime la cantidad total de fechas válidas encontradas en el texto proporcionado.\n",
        "        Imprime la lista de fechas válidas.\n",
        "    \"\"\"\n",
        "\n",
        "\n",
        "    patron_fecha_valida = '(0[1-9]|[1-2][0-9]|3[0-1])/(0[1-9]|1[0-2])/(\\d{4})'\n",
        "\n",
        "    fechas_validas = list(filter(lambda x: re.match(patron_fecha_valida, x) is not None, data_en_texto_plano))\n",
        "\n",
        "    print(f'En total hay {len(fechas_validas)} fechas validas')\n",
        "\n",
        "    print(f'Las cuales son: {fechas_validas}')\n",
        "\n",
        "\n",
        "imprimir_fechas_validas(data_en_texto_plano)\n",
        "\n"
      ],
      "metadata": {
        "id": "FifgJ7-EK2xH",
        "colab": {
          "base_uri": "https://localhost:8080/"
        },
        "outputId": "457085b4-5308-45e1-8d51-3864b694bd92"
      },
      "execution_count": 84,
      "outputs": [
        {
          "output_type": "stream",
          "name": "stdout",
          "text": [
            "En total hay 10 fechas validas\n",
            "Las cuales son: ['15/11/1995', '30/12/1960', '10/11/1987', '19/11/1989', '31/11/1963', '28/11/1987', '27/10/1951', '19/12/2018', '14/11/2016', '20/12/2012']\n"
          ]
        }
      ]
    },
    {
      "cell_type": "markdown",
      "source": [
        "## Ejercicio 03\n",
        "\n",
        "Escriba un programa que lea el archivo de referencia y extraiga todas las URLs válidas . Las URLs válidas deben comenzar con \"http://\" o \"https://\"."
      ],
      "metadata": {
        "id": "qj50yF_aP_yM"
      }
    },
    {
      "cell_type": "code",
      "source": [
        "# Resuelva en esta casilla el ejercicio 03\n",
        "\n",
        "def imprimir_urls_validas(data_en_texto_plano):\n",
        "    \"\"\"\n",
        "    Imprime la cantidad de URLs válidas y las URLs válidas encontradas en el texto proporcionado.\n",
        "\n",
        "    Args:\n",
        "        data_en_texto_plano (list): Una lista de cadenas de texto que pueden contener URLs.\n",
        "\n",
        "    Returns:\n",
        "        None\n",
        "\n",
        "    Prints:\n",
        "        Imprime la cantidad total de URLs válidas encontradas en el texto proporcionado.\n",
        "        Imprime la lista de URLs válidas.\n",
        "    \"\"\"\n",
        "\n",
        "    patron_url_valida = 'https?://\\S+'\n",
        "\n",
        "    urls_validas = list(filter(lambda x: re.match(patron_url_valida, x) is not None, data_en_texto_plano))\n",
        "\n",
        "    print(f'En total hay {len(urls_validas)} urls validas')\n",
        "\n",
        "    print(f'Las cuales son: {urls_validas}')\n",
        "\n",
        "\n",
        "imprimir_urls_validas(data_en_texto_plano)\n",
        "\n"
      ],
      "metadata": {
        "id": "bdS-Re69K4Gr",
        "colab": {
          "base_uri": "https://localhost:8080/"
        },
        "outputId": "7e5ce349-b6f4-4c02-bf2c-e800b29e6488"
      },
      "execution_count": 87,
      "outputs": [
        {
          "output_type": "stream",
          "name": "stdout",
          "text": [
            "En total hay 67 urls validas\n",
            "Las cuales son: ['http://example.com/image.jpg', 'http://example.com/27', 'http://example.com/image.gif', 'https://example.com/38', 'http://example.com/image.jpg', 'https://example.com/79', 'http://example.com/image.jpg', 'http://example.com/image.png', 'https://example.com/85', 'http://example.com/image.png', 'http://example.com/71', 'http://example.com/image.png', 'http://example.com/image.gif', 'http://example.com/100', 'https://example.com/26', 'http://example.com/image.jpg', 'http://example.com/36', 'https://example.com/90', 'http://example.com/image.png', 'https://example.com/94', 'http://example.com/image.png', 'http://example.com/image.gif', 'https://example.com/95', 'http://example.com/image.jpg', 'http://example.com/image.jpg', 'http://example.com/99', 'http://example.com/image.png', 'https://example.com/37', 'http://example.com/image.gif', 'http://example.com/image.jpg', 'http://example.com/47', 'https://example.com/49', 'https://example.com/65', 'https://example.com/68', 'https://example.com/21', 'http://example.com/image.jpg', 'http://example.com/9', 'http://example.com/38', 'https://example.com/74', 'http://example.com/image.gif', 'https://example.com/50', 'http://example.com/image.gif', 'http://example.com/42', 'http://example.com/image.png', 'http://example.com/46', 'http://example.com/image.jpg', 'http://example.com/image.jpg', 'https://example.com/90', 'http://example.com/image.png', 'http://example.com/image.png', 'https://example.com/34', 'http://example.com/image.jpg', 'https://example.com/36', 'https://example.com/96', 'https://example.com/59', 'http://example.com/image.jpg', 'http://example.com/image.jpg', 'http://example.com/92', 'http://example.com/image.png', 'http://example.com/79', 'http://example.com/image.jpg', 'http://example.com/image.gif', 'https://example.com/95', 'http://example.com/52', 'http://example.com/image.jpg', 'http://example.com/1', 'http://example.com/image.png']\n"
          ]
        }
      ]
    },
    {
      "cell_type": "markdown",
      "source": [
        "## Ejercicio 04\n",
        "\n",
        "Escriba un programa que lea el archivo de referencia y extraiga todas las direcciones IP válidas. Las direcciones IP válidas deben seguir el formato \"XXX.XXX.XXX.XXX\", donde cada parte puede tener uno, dos o tres dígitos."
      ],
      "metadata": {
        "id": "4852xGV9QBaQ"
      }
    },
    {
      "cell_type": "code",
      "source": [
        "# Resuelva en esta casilla el ejercicio 04\n",
        "\n",
        "def imprimir_ips_validas(data_en_texto_plano):\n",
        "    \"\"\"\n",
        "    Imprime la cantidad de direcciones IP válidas y las direcciones IP válidas encontradas en el texto proporcionado.\n",
        "\n",
        "    Args:\n",
        "        data_en_texto_plano (list): Una lista de cadenas de texto que pueden contener direcciones IP en formato XXX.XXX.XXX.XXX.\n",
        "\n",
        "    Returns:\n",
        "        None\n",
        "\n",
        "    Prints:\n",
        "        Imprime la cantidad total de direcciones IP válidas encontradas en el texto proporcionado.\n",
        "        Imprime la lista de direcciones IP válidas.\n",
        "    \"\"\"\n",
        "\n",
        "    patron_ip_valida = '\\d{3}\\.\\d{3}\\.\\d{3}\\.\\d{3}'\n",
        "\n",
        "    ips_validas = list(filter(lambda x: re.match(patron_ip_valida, x) is not None, data_en_texto_plano))\n",
        "\n",
        "    print(f'En total hay {len(ips_validas)} ips validas')\n",
        "\n",
        "    print(f'Las cuales son: {ips_validas}')\n",
        "\n",
        "\n",
        "imprimir_ips_validas(data_en_texto_plano)\n",
        "\n"
      ],
      "metadata": {
        "id": "IUhNlDkgK5l_",
        "colab": {
          "base_uri": "https://localhost:8080/"
        },
        "outputId": "c89d30fd-c8ac-4fd0-abfe-fb2830f95588"
      },
      "execution_count": 90,
      "outputs": [
        {
          "output_type": "stream",
          "name": "stdout",
          "text": [
            "En total hay 1 ips validas\n",
            "Las cuales son: ['131.193.107.113']\n"
          ]
        }
      ]
    },
    {
      "cell_type": "markdown",
      "source": [
        "## Ejercicio 05\n",
        "\n",
        "Escriba un programa que lea el archivo de referencia y extraiga todos los hashtags. Los hashtags deben comenzar con el símbolo \"#\" y pueden contener letras, números y guiones bajos."
      ],
      "metadata": {
        "id": "ztj4sS1hQDtc"
      }
    },
    {
      "cell_type": "code",
      "source": [
        "# Resuelva en esta casilla el ejercicio 05\n"
      ],
      "metadata": {
        "id": "GA_5dcsnK7Hr"
      },
      "execution_count": null,
      "outputs": []
    },
    {
      "cell_type": "markdown",
      "source": [
        "## Ejercicio 06\n",
        "\n",
        "Escriba un programa que lea el archivo de referencia y extraiga todos los nombres de usuario válidos de X. Los nombres de usuario válidos deben comenzar con el símbolo \"@\" y pueden contener letras, números y guiones bajos."
      ],
      "metadata": {
        "id": "hATd-LMUQGP_"
      }
    },
    {
      "cell_type": "code",
      "source": [
        "# Resuelva en esta casilla el ejercicio 06\n"
      ],
      "metadata": {
        "id": "2JuhtZdmK8tO"
      },
      "execution_count": null,
      "outputs": []
    },
    {
      "cell_type": "markdown",
      "source": [
        "## Ejercicio 07\n",
        "\n",
        "Escriba un programa que lea el archivo de referencia y extraiga todas las URLs de imágenes válidas. Las URLs de imágenes válidas pueden terminar en extensiones comunes como \".jpg\", \".png\" o \".gif\"."
      ],
      "metadata": {
        "id": "ZNOMGOKfQHkc"
      }
    },
    {
      "cell_type": "code",
      "source": [
        "# Resuelva en esta casilla el ejercicio 07\n"
      ],
      "metadata": {
        "id": "RXmZuoc_K-Uw"
      },
      "execution_count": null,
      "outputs": []
    },
    {
      "cell_type": "markdown",
      "source": [
        "## Ejercicio 08\n",
        "\n",
        "Escriba un programa que lea el archivo de referencia y extraiga los números de los documentos de identidad. Un número de documento de identidad válido es una cadena de siete números seguidos que no contiene comas ni puntos."
      ],
      "metadata": {
        "id": "k1SR_Y-RQJC1"
      }
    },
    {
      "cell_type": "code",
      "source": [
        "# Resuelva en esta casilla el ejercicio 08\n"
      ],
      "metadata": {
        "id": "-yFIOR5mLAal"
      },
      "execution_count": null,
      "outputs": []
    },
    {
      "cell_type": "markdown",
      "source": [
        "## Ejercicio 09\n",
        "\n",
        "Escriba un programa que lea el archivo de referencia y reporte cuántas palabras en mayúsculas contiene y cuántas veces aparece cada palabra.\n"
      ],
      "metadata": {
        "id": "VlxrpT47QKdX"
      }
    },
    {
      "cell_type": "code",
      "source": [
        "# Resuelva en esta casilla el ejercicio 09\n"
      ],
      "metadata": {
        "id": "3tJqbO68LB5C"
      },
      "execution_count": null,
      "outputs": []
    }
  ]
}