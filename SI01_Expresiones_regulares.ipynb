{
  "nbformat": 4,
  "nbformat_minor": 0,
  "metadata": {
    "colab": {
      "provenance": [],
      "toc_visible": true,
      "include_colab_link": true
    },
    "kernelspec": {
      "name": "python3",
      "display_name": "Python 3"
    },
    "language_info": {
      "name": "python"
    }
  },
  "cells": [
    {
      "cell_type": "markdown",
      "metadata": {
        "id": "view-in-github",
        "colab_type": "text"
      },
      "source": [
        "<a href=\"https://colab.research.google.com/github/SantiagoMaya10/PPI-MayaRestrepo-2024-1s/blob/main/SI01_Expresiones_regulares.ipynb\" target=\"_parent\"><img src=\"https://colab.research.google.com/assets/colab-badge.svg\" alt=\"Open In Colab\"/></a>"
      ]
    },
    {
      "cell_type": "markdown",
      "source": [
        "##«*Mira y escucha. Una rosa tiembla, agitada por la brisa, y el ruiseñor le canta un himno apasionado*».\n",
        "###[Omar Khayyam](https://en.wikipedia.org/wiki/Omar_Khayyam)\n"
      ],
      "metadata": {
        "id": "vw4vyHJgIWfA"
      }
    },
    {
      "cell_type": "markdown",
      "source": [
        "# SI01 Expresiones regulares\n",
        "\n",
        "Resuelva los siguientes ejercicios con códigos que se ajusten al PEP8. Recuerde incluir los comentarios en el código y documentar las funciones con docstrings al estilo de Google.\n",
        "\n",
        "**Descargue de [archivos datos regex](https://github.com/gabrielawad/talleresGoogleColab/tree/main/Archivo_datos/regex) el que corresponda con su número de documento de identidad**."
      ],
      "metadata": {
        "id": "dgqyju__IQ2K"
      }
    },
    {
      "cell_type": "markdown",
      "source": [
        "# Preparación del ejercicio\n",
        "\n",
        "*   Importe las librerías requeridas\n",
        "*   Lea el dataset a utilizar desde una url\n",
        "\n",
        "**Sugerencia**: suba el dataset a un repositorio de GitHub, o al Googledrive **de su cuenta personal de gmail** y luego publíquelo en la web como un archivo *.csv. El siguiente enlace le indica cómo hacerlo: [Cómo publicar archivos de Documentos, Hojas de cálculo, Presentaciones y Formularios de Google](https://support.google.com/docs/answer/183965?hl=es-419&co=GENIE.Platform%3DDesktop).\n",
        "\n",
        "Nota: si lo desea puede utilizar otro método para obtener la url del dataset.\n",
        "\n"
      ],
      "metadata": {
        "id": "rP2Y7el2JAp5"
      }
    },
    {
      "cell_type": "code",
      "source": [
        "# Escriba aquí su código\n",
        "\n",
        "# Importar las librerías necesarias\n",
        "\n",
        "\n",
        "# Conocer la versiones de las librerías instaladas\n",
        "\n",
        "\n",
        "# Guardar en la variable 'ruta' la url del dataset\n",
        "ruta =\n",
        "\n",
        "# Cargar el dataset a partir de la ruta establecida\n",
        "\n",
        "\n",
        "# Verificar la lectura del dataset\n"
      ],
      "metadata": {
        "id": "WDXlcxw2LUl5"
      },
      "execution_count": null,
      "outputs": []
    },
    {
      "cell_type": "markdown",
      "source": [
        "## Ejercicio 00\n",
        "\n",
        "Escriba un programa que lea el archivo de referencia y reporte cuántas direcciones de correo electrónico contiene en total y cuantas por cada dominio de correo electrónico.\n",
        "\n",
        "\n"
      ],
      "metadata": {
        "id": "4kpeP548VfWv"
      }
    },
    {
      "cell_type": "code",
      "source": [
        "  # Resuelva en esta casilla el ejercicio 00\n"
      ],
      "metadata": {
        "id": "SMQWLfFhKsaO"
      },
      "execution_count": null,
      "outputs": []
    },
    {
      "cell_type": "markdown",
      "source": [
        "## Ejercicio 01\n",
        "Escriba un programa que lea el archivo de referencia y extraiga todos los números de teléfono válidos contenidos en él. Los números de teléfono válidos deben seguir el formato XXX-XXX-XXXX."
      ],
      "metadata": {
        "id": "AWpJFnkfZE8X"
      }
    },
    {
      "cell_type": "code",
      "source": [
        "# Resuelva en esta casilla el ejercicio 01\n"
      ],
      "metadata": {
        "id": "CN9EHSJKK1Sn"
      },
      "execution_count": null,
      "outputs": []
    },
    {
      "cell_type": "markdown",
      "source": [
        "## Ejercicio 02\n",
        "\n",
        "Escriba un programa que lea el archivo de referencia y extraiga todas las fechas válidas contenidas. Las fechas válidas deben estar en formato \"DD/MM/AAAA\".\n"
      ],
      "metadata": {
        "id": "0hEyKcvlaM1p"
      }
    },
    {
      "cell_type": "code",
      "source": [
        "# Resuelva en esta casilla el ejercicio 02\n"
      ],
      "metadata": {
        "id": "FifgJ7-EK2xH"
      },
      "execution_count": null,
      "outputs": []
    },
    {
      "cell_type": "markdown",
      "source": [
        "## Ejercicio 03\n",
        "\n",
        "Escriba un programa que lea el archivo de referencia y extraiga todas las URLs válidas . Las URLs válidas deben comenzar con \"http://\" o \"https://\"."
      ],
      "metadata": {
        "id": "qj50yF_aP_yM"
      }
    },
    {
      "cell_type": "code",
      "source": [
        "# Resuelva en esta casilla el ejercicio 03\n"
      ],
      "metadata": {
        "id": "bdS-Re69K4Gr"
      },
      "execution_count": null,
      "outputs": []
    },
    {
      "cell_type": "markdown",
      "source": [
        "## Ejercicio 04\n",
        "\n",
        "Escriba un programa que lea el archivo de referencia y extraiga todas las direcciones IP válidas. Las direcciones IP válidas deben seguir el formato \"XXX.XXX.XXX.XXX\", donde cada parte puede tener uno, dos o tres dígitos."
      ],
      "metadata": {
        "id": "4852xGV9QBaQ"
      }
    },
    {
      "cell_type": "code",
      "source": [
        "# Resuelva en esta casilla el ejercicio 04\n"
      ],
      "metadata": {
        "id": "IUhNlDkgK5l_"
      },
      "execution_count": null,
      "outputs": []
    },
    {
      "cell_type": "markdown",
      "source": [
        "## Ejercicio 05\n",
        "\n",
        "Escriba un programa que lea el archivo de referencia y extraiga todos los hashtags. Los hashtags deben comenzar con el símbolo \"#\" y pueden contener letras, números y guiones bajos."
      ],
      "metadata": {
        "id": "ztj4sS1hQDtc"
      }
    },
    {
      "cell_type": "code",
      "source": [
        "# Resuelva en esta casilla el ejercicio 05\n"
      ],
      "metadata": {
        "id": "GA_5dcsnK7Hr"
      },
      "execution_count": null,
      "outputs": []
    },
    {
      "cell_type": "markdown",
      "source": [
        "## Ejercicio 06\n",
        "\n",
        "Escriba un programa que lea el archivo de referencia y extraiga todos los nombres de usuario válidos de X. Los nombres de usuario válidos deben comenzar con el símbolo \"@\" y pueden contener letras, números y guiones bajos."
      ],
      "metadata": {
        "id": "hATd-LMUQGP_"
      }
    },
    {
      "cell_type": "code",
      "source": [
        "# Resuelva en esta casilla el ejercicio 06\n"
      ],
      "metadata": {
        "id": "2JuhtZdmK8tO"
      },
      "execution_count": null,
      "outputs": []
    },
    {
      "cell_type": "markdown",
      "source": [
        "## Ejercicio 07\n",
        "\n",
        "Escriba un programa que lea el archivo de referencia y extraiga todas las URLs de imágenes válidas. Las URLs de imágenes válidas pueden terminar en extensiones comunes como \".jpg\", \".png\" o \".gif\"."
      ],
      "metadata": {
        "id": "ZNOMGOKfQHkc"
      }
    },
    {
      "cell_type": "code",
      "source": [
        "# Resuelva en esta casilla el ejercicio 07\n"
      ],
      "metadata": {
        "id": "RXmZuoc_K-Uw"
      },
      "execution_count": null,
      "outputs": []
    },
    {
      "cell_type": "markdown",
      "source": [
        "## Ejercicio 08\n",
        "\n",
        "Escriba un programa que lea el archivo de referencia y extraiga los números de los documentos de identidad. Un número de documento de identidad válido es una cadena de siete números seguidos que no contiene comas ni puntos."
      ],
      "metadata": {
        "id": "k1SR_Y-RQJC1"
      }
    },
    {
      "cell_type": "code",
      "source": [
        "# Resuelva en esta casilla el ejercicio 08\n"
      ],
      "metadata": {
        "id": "-yFIOR5mLAal"
      },
      "execution_count": null,
      "outputs": []
    },
    {
      "cell_type": "markdown",
      "source": [
        "## Ejercicio 09\n",
        "\n",
        "Escriba un programa que lea el archivo de referencia y reporte cuántas palabras en mayúsculas contiene y cuántas veces aparece cada palabra.\n"
      ],
      "metadata": {
        "id": "VlxrpT47QKdX"
      }
    },
    {
      "cell_type": "code",
      "source": [
        "# Resuelva en esta casilla el ejercicio 09\n"
      ],
      "metadata": {
        "id": "3tJqbO68LB5C"
      },
      "execution_count": null,
      "outputs": []
    }
  ]
}