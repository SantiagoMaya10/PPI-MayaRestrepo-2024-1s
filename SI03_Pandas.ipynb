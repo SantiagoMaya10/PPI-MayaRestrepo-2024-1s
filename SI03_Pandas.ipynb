{
  "nbformat": 4,
  "nbformat_minor": 0,
  "metadata": {
    "colab": {
      "provenance": [],
      "include_colab_link": true
    },
    "kernelspec": {
      "name": "python3",
      "display_name": "Python 3"
    }
  },
  "cells": [
    {
      "cell_type": "markdown",
      "metadata": {
        "id": "view-in-github",
        "colab_type": "text"
      },
      "source": [
        "<a href=\"https://colab.research.google.com/github/SantiagoMaya10/PPI-MayaRestrepo-2024-1s/blob/main/SI03_Pandas.ipynb\" target=\"_parent\"><img src=\"https://colab.research.google.com/assets/colab-badge.svg\" alt=\"Open In Colab\"/></a>"
      ]
    },
    {
      "cell_type": "markdown",
      "source": [
        "## «*El mundo exige resultados. No cuentes a otros tus dolores del parto. Muéstrales al niño.*»\n",
        "\n",
        "### [Indira Gandhi](https://es.wikipedia.org/wiki/Indira_Gandhi)"
      ],
      "metadata": {
        "id": "bJtz1A8wSiah"
      }
    },
    {
      "cell_type": "markdown",
      "metadata": {
        "id": "mCkyuX8p2SYu"
      },
      "source": [
        "# SI03 Pandas\n",
        "\n",
        "Actividad individual.\n",
        "\n",
        "Utilice el dataset asignado en [datasets panda](https://docs.google.com/spreadsheets/d/e/2PACX-1vQi3ziCNg_TlAHPvHceFDyqFZeouQk7-uWcSSv-VTsYHnzx5VEyp3u_rp5pNiuPdNta898xj7vJzZPL/pubhtml).\n",
        "\n",
        "Resuelva los siguientes ejercicios con códigos que se ajusten al PEP8. Recuerde incluir los comentarios en el código y documentar las funciones con docstrings al estilo de Google.\n",
        "\n",
        "**Importante:**\n",
        "\n",
        "**no se permite la utilización de ciclos (for or while) para resolver los ejercicios.**\n",
        "\n",
        "**todos los ejercicios deben ser resueltos con Pandas.**"
      ]
    },
    {
      "cell_type": "markdown",
      "source": [
        "# Preparación del ejercicio\n",
        "\n",
        "*   Importe las librerías requeridas\n",
        "*   Lea el dataset a utilizar desde una url\n",
        "\n",
        "**Sugerencia**: suba el dataset a un repositorio de GitHub, o al Googledrive de su **cuenta personal de gmail** y luego publíquelo en la web como un archivo *.csv.\n",
        "\n",
        "Nota: si lo desea puede utilizar otro método para obtener la url del dataset.\n"
      ],
      "metadata": {
        "id": "rP2Y7el2JAp5"
      }
    },
    {
      "cell_type": "code",
      "source": [
        "# Escriba aquí su código\n",
        "\n",
        "# Importar las librerías necesarias\n",
        "import pandas as pd\n",
        "\n",
        "# Conocer la versiones de las librerías instaladas\n",
        "print('Pandas version:', pd.__version__)\n",
        "\n",
        "# Guardar en la variable 'ruta' la url del dataset\n",
        "ruta = \"https://docs.google.com/spreadsheets/d/e/2PACX-1vTxRT0O2ix4OhCJNSBLF9Luq5KoC3jGbh-ZjWRjIl4bb7JJZuFc1qmzVphw0a6dRII0RcOiyuG-4caP/pub?gid=1349028561&single=true&output=csv\"\n",
        "\n",
        "# Cargar el dataset a partir de la ruta establecida\n",
        "data = pd.read_csv(ruta)\n",
        "\n",
        "# Verificar la lectura del dataset\n",
        "print(\"La forma del DataFrame es:\", data.shape, sep = \"\\n\")\n"
      ],
      "metadata": {
        "id": "WDXlcxw2LUl5",
        "colab": {
          "base_uri": "https://localhost:8080/"
        },
        "outputId": "081ec2f9-f944-4b9c-879a-c295cb284484"
      },
      "execution_count": 13,
      "outputs": [
        {
          "output_type": "stream",
          "name": "stdout",
          "text": [
            "Pandas version: 2.0.3\n",
            "La forma del DataFrame es:\n",
            "(4999, 25)\n"
          ]
        }
      ]
    },
    {
      "cell_type": "markdown",
      "source": [
        "## Ejercicio 00\n",
        "\n",
        "Muestre las principales características del dataset utilizando pandas.\n",
        "\n",
        "En particular muestre los nombres de las columnas y sus tipos; el índice del dataset; la forma del dataset."
      ],
      "metadata": {
        "id": "dCNcf3jj8NT6"
      }
    },
    {
      "cell_type": "code",
      "source": [
        "# Escriba su código aquí\n",
        "\n",
        "print(\"Los nombres de las columnas del DataFrame son:\")\n",
        "print(data.columns.tolist())\n",
        "\n",
        "print(\"\\nTipo de datos correspondendiente a las columnas:\")\n",
        "print(data.dtypes)\n",
        "\n",
        "\n",
        "print(\"\\nÍndice del dataset:\")\n",
        "print(data.index)\n",
        "\n",
        "print(\"\\nLa forma del DataFrame es:\")\n",
        "print(data.shape)\n"
      ],
      "metadata": {
        "id": "FEiDpoQ48JyJ",
        "colab": {
          "base_uri": "https://localhost:8080/"
        },
        "outputId": "e0890857-2fcd-4129-ed6a-3f372621c075"
      },
      "execution_count": 17,
      "outputs": [
        {
          "output_type": "stream",
          "name": "stdout",
          "text": [
            "Los nombres de las columnas del DataFrame son:\n",
            "['Year', 'Make', 'Model', 'Condition', 'Price', 'Consumer_Rating', 'Consumer_Review_#', 'Exterior_Color', 'Interior_Color', 'Drivetrain', 'MPG', 'Fuel_Type', 'Transmission', 'Engine', 'VIN', 'Stock_#', 'Mileage', 'Comfort_Rating', 'Interior_Design_Rating', 'Performance_Rating', 'Value_For_Money_Rating', 'Exterior_Styling_Rating', 'Reliability_Rating', 'State', 'Seller_Type']\n",
            "\n",
            "Tipo de datos correspondendiente a las columnas:\n",
            "Year                         int64\n",
            "Make                        object\n",
            "Model                       object\n",
            "Condition                   object\n",
            "Price                       object\n",
            "Consumer_Rating            float64\n",
            "Consumer_Review_#            int64\n",
            "Exterior_Color              object\n",
            "Interior_Color              object\n",
            "Drivetrain                  object\n",
            "MPG                         object\n",
            "Fuel_Type                   object\n",
            "Transmission                object\n",
            "Engine                      object\n",
            "VIN                         object\n",
            "Stock_#                     object\n",
            "Mileage                     object\n",
            "Comfort_Rating             float64\n",
            "Interior_Design_Rating     float64\n",
            "Performance_Rating         float64\n",
            "Value_For_Money_Rating     float64\n",
            "Exterior_Styling_Rating    float64\n",
            "Reliability_Rating         float64\n",
            "State                       object\n",
            "Seller_Type                 object\n",
            "dtype: object\n",
            "\n",
            "Índice del dataset:\n",
            "RangeIndex(start=0, stop=4999, step=1)\n",
            "\n",
            "La forma del DataFrame es:\n",
            "(4999, 25)\n"
          ]
        }
      ]
    },
    {
      "cell_type": "markdown",
      "source": [
        "## Ejercicio 01\n",
        "\n",
        "Cree el df_01 con las siguientes características:\n",
        "\n",
        "Diez columnas (dentro de las diez columnas deben estar la primera y la última columna del dataset original).\n",
        "\n",
        "Diez filas (las filas deben corresponder a las cinco primeras filas y las cinco últimas filas del dataset original).\n",
        "\n",
        "Muestre el resultado y las características del DataFrame."
      ],
      "metadata": {
        "id": "bFlwT6hK85sn"
      }
    },
    {
      "cell_type": "code",
      "source": [
        "# Escriba su código aquí\n"
      ],
      "metadata": {
        "id": "z1TXwWTFueAj"
      },
      "execution_count": null,
      "outputs": []
    },
    {
      "cell_type": "markdown",
      "source": [
        "## Ejercicio 02\n",
        "\n",
        "Modifique el índice del df_01 creado en el paso anterior.\n",
        "\n",
        "Opción 1: utilice una de las columnas de df_01 como el nuevo índice.\n",
        "\n",
        "Opción 2: cree el índice a partir de una secuencia cronológica.\n",
        "\n",
        "Cambie los nombres de las columnas del DataFrame a \"Primera\", \"segunda\", etcétera.\n",
        "\n",
        "Muestre el resultado y las características del DataFrame."
      ],
      "metadata": {
        "id": "hZT4gmkC9BUO"
      }
    },
    {
      "cell_type": "code",
      "source": [
        "# Escriba su código aquí\n"
      ],
      "metadata": {
        "id": "CrCNnQf59Dvo"
      },
      "execution_count": null,
      "outputs": []
    },
    {
      "cell_type": "markdown",
      "metadata": {
        "id": "Ps7TrVdHnUvw"
      },
      "source": [
        "## Ejercicio 03\n",
        "\n",
        "Utilizando el método **loc** seleccione los elementos que se encuentran entre la tercera y la sexta fila y en las columnas cuarta, quinta y octava de DataFrame modificado.\n",
        "\n",
        "Muestre el resultado y las características del DataFrame."
      ]
    },
    {
      "cell_type": "code",
      "source": [
        "# Escriba su código aquí\n"
      ],
      "metadata": {
        "id": "vzgQS4tO_nry"
      },
      "execution_count": null,
      "outputs": []
    },
    {
      "cell_type": "markdown",
      "source": [
        "## Ejercicio 04\n",
        "\n",
        "Utilizando el método **iloc** seleccione los elementos que se encuentran entre la tercera y la sexta fila y en las columnas cuarta, quinta y octava del DataFrame modificado.\n",
        "\n",
        "Muestre el resultado y las características del DataFrame."
      ],
      "metadata": {
        "id": "MEfmPlGL_ocW"
      }
    },
    {
      "cell_type": "code",
      "source": [
        "# Escriba su código aquí\n"
      ],
      "metadata": {
        "id": "JgFBI-6sAXRi"
      },
      "execution_count": null,
      "outputs": []
    },
    {
      "cell_type": "markdown",
      "source": [
        "## Ejercicio 05\n",
        "\n",
        "Calcule el promedio de una de las columnas numéricas del DataFrame modificado.\n",
        "\n",
        "Cree el DataFrame df_02 conservando todas las columnas del DataFrame modificado y seleccionando los valores superiores al promedio en la columna numérica que tomó como referencia para el ejercicio.\n",
        "\n",
        "Muestre el resultado y las características del DataFrame."
      ],
      "metadata": {
        "id": "Xk2C7EimAhwQ"
      }
    },
    {
      "cell_type": "code",
      "source": [
        "# Escriba su código aquí\n"
      ],
      "metadata": {
        "id": "HxiFE6FkBTy6"
      },
      "execution_count": null,
      "outputs": []
    },
    {
      "cell_type": "markdown",
      "source": [
        "## Ejercicio 06\n",
        "\n",
        "Seleccione una columna del DataFrame **original** que contenga una variable categórica (si no hay variables categóricas cree una columna con variables categóricas a partir de alguna columna numérica del DataFrame).\n",
        "\n",
        "Utilice el método **groupby** para analizar la información del DataFrame a partir de la variable categórica seleccionada.\n",
        "\n",
        "Muestre el resultado y las características del DataFrame."
      ],
      "metadata": {
        "id": "0hXp2oN_BVap"
      }
    },
    {
      "cell_type": "code",
      "source": [
        "# Escriba su código aquí\n"
      ],
      "metadata": {
        "id": "TonF9r9RBhRE"
      },
      "execution_count": null,
      "outputs": []
    },
    {
      "cell_type": "markdown",
      "source": [
        "## Ejercicio 07\n",
        "\n",
        "Cree una tabla dinámica, utilizando el método **pivottable**, para analizar la información del DataFrame **original**.\n",
        "\n",
        "Muestre el resultado y las características del DataFrame."
      ],
      "metadata": {
        "id": "6m4cwPKxBiLU"
      }
    },
    {
      "cell_type": "code",
      "source": [
        "# Escriba su código aquí\n"
      ],
      "metadata": {
        "id": "CAZgcumWC6Of"
      },
      "execution_count": null,
      "outputs": []
    },
    {
      "cell_type": "markdown",
      "source": [
        "## Ejercicio 08\n",
        "\n",
        "Encuentre todos los valores nulos del DataFrame original y cambie esos valores nulos con la media de la respectiva columna.\n",
        "\n",
        "Muestre el resultado y las características del DataFrame."
      ],
      "metadata": {
        "id": "VHi0_cAODjvM"
      }
    },
    {
      "cell_type": "code",
      "source": [
        "# Escriba su código aquí\n"
      ],
      "metadata": {
        "id": "hW6O_QNQDnbq"
      },
      "execution_count": null,
      "outputs": []
    },
    {
      "cell_type": "markdown",
      "source": [
        "## Ejercicio 09\n",
        "\n",
        "Encuentre todos los valores nulos del DataFrame original y elimine la fila correspondiente.\n",
        "\n",
        "Muestre el resultado y las características del DataFrame.\n",
        "\n"
      ],
      "metadata": {
        "id": "5TvYWBQ5DpOR"
      }
    },
    {
      "cell_type": "code",
      "source": [
        "# Escriba su código aquí\n"
      ],
      "metadata": {
        "id": "SOr5DFVZDsqk"
      },
      "execution_count": null,
      "outputs": []
    }
  ]
}