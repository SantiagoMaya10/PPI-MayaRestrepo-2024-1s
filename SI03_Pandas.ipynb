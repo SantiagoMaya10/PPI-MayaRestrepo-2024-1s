{
  "nbformat": 4,
  "nbformat_minor": 0,
  "metadata": {
    "colab": {
      "provenance": [],
      "include_colab_link": true
    },
    "kernelspec": {
      "name": "python3",
      "display_name": "Python 3"
    }
  },
  "cells": [
    {
      "cell_type": "markdown",
      "metadata": {
        "id": "view-in-github",
        "colab_type": "text"
      },
      "source": [
        "<a href=\"https://colab.research.google.com/github/SantiagoMaya10/PPI-MayaRestrepo-2024-1s/blob/main/SI03_Pandas.ipynb\" target=\"_parent\"><img src=\"https://colab.research.google.com/assets/colab-badge.svg\" alt=\"Open In Colab\"/></a>"
      ]
    },
    {
      "cell_type": "markdown",
      "source": [
        "## «*El mundo exige resultados. No cuentes a otros tus dolores del parto. Muéstrales al niño.*»\n",
        "\n",
        "### [Indira Gandhi](https://es.wikipedia.org/wiki/Indira_Gandhi)"
      ],
      "metadata": {
        "id": "bJtz1A8wSiah"
      }
    },
    {
      "cell_type": "markdown",
      "metadata": {
        "id": "mCkyuX8p2SYu"
      },
      "source": [
        "# SI03 Pandas\n",
        "\n",
        "Actividad individual.\n",
        "\n",
        "Utilice el dataset asignado en [datasets panda](https://docs.google.com/spreadsheets/d/e/2PACX-1vQi3ziCNg_TlAHPvHceFDyqFZeouQk7-uWcSSv-VTsYHnzx5VEyp3u_rp5pNiuPdNta898xj7vJzZPL/pubhtml).\n",
        "\n",
        "Resuelva los siguientes ejercicios con códigos que se ajusten al PEP8. Recuerde incluir los comentarios en el código y documentar las funciones con docstrings al estilo de Google.\n",
        "\n",
        "**Importante:**\n",
        "\n",
        "**no se permite la utilización de ciclos (for or while) para resolver los ejercicios.**\n",
        "\n",
        "**todos los ejercicios deben ser resueltos con Pandas.**"
      ]
    },
    {
      "cell_type": "markdown",
      "source": [
        "# Preparación del ejercicio\n",
        "\n",
        "*   Importe las librerías requeridas\n",
        "*   Lea el dataset a utilizar desde una url\n",
        "\n",
        "**Sugerencia**: suba el dataset a un repositorio de GitHub, o al Googledrive de su **cuenta personal de gmail** y luego publíquelo en la web como un archivo *.csv.\n",
        "\n",
        "Nota: si lo desea puede utilizar otro método para obtener la url del dataset.\n"
      ],
      "metadata": {
        "id": "rP2Y7el2JAp5"
      }
    },
    {
      "cell_type": "code",
      "source": [
        "# Escriba aquí su código\n",
        "\n",
        "# Importar las librerías necesarias\n",
        "import pandas as pd\n",
        "\n",
        "# Conocer la versiones de las librerías instaladas\n",
        "print('Pandas version:', pd.__version__)\n",
        "\n",
        "# Guardar en la variable 'ruta' la url del dataset\n",
        "ruta = \"https://docs.google.com/spreadsheets/d/e/2PACX-1vTxRT0O2ix4OhCJNSBLF9Luq5KoC3jGbh-ZjWRjIl4bb7JJZuFc1qmzVphw0a6dRII0RcOiyuG-4caP/pub?gid=1349028561&single=true&output=csv\"\n",
        "\n",
        "# Cargar el dataset a partir de la ruta establecida\n",
        "data = pd.read_csv(ruta)\n",
        "\n",
        "# Verificar la lectura del dataset\n",
        "print(\"La forma del DataFrame es:\", data.shape, sep = \"\\n\")\n"
      ],
      "metadata": {
        "id": "WDXlcxw2LUl5",
        "colab": {
          "base_uri": "https://localhost:8080/"
        },
        "outputId": "fee977e5-0081-4615-9608-f761fa34ef6f"
      },
      "execution_count": 63,
      "outputs": [
        {
          "output_type": "stream",
          "name": "stdout",
          "text": [
            "Pandas version: 2.0.3\n",
            "La forma del DataFrame es:\n",
            "(4999, 25)\n"
          ]
        }
      ]
    },
    {
      "cell_type": "markdown",
      "source": [
        "## Ejercicio 00\n",
        "\n",
        "Muestre las principales características del dataset utilizando pandas.\n",
        "\n",
        "En particular muestre los nombres de las columnas y sus tipos; el índice del dataset; la forma del dataset."
      ],
      "metadata": {
        "id": "dCNcf3jj8NT6"
      }
    },
    {
      "cell_type": "code",
      "source": [
        "# Escriba su código aquí\n",
        "\n",
        "print(\"Los nombres de las columnas del DataFrame son:\")\n",
        "print(data.columns.tolist())\n",
        "\n",
        "print(\"\\nTipo de datos correspondendiente a las columnas:\")\n",
        "print(data.dtypes)\n",
        "\n",
        "print(\"\\nÍndice del dataset:\")\n",
        "print(data.index)\n",
        "\n",
        "print(\"\\nLa forma del DataFrame es:\")\n",
        "print(data.shape)\n"
      ],
      "metadata": {
        "id": "FEiDpoQ48JyJ",
        "colab": {
          "base_uri": "https://localhost:8080/"
        },
        "outputId": "31431289-e1f2-4e08-8f71-97ffed737185"
      },
      "execution_count": 64,
      "outputs": [
        {
          "output_type": "stream",
          "name": "stdout",
          "text": [
            "Los nombres de las columnas del DataFrame son:\n",
            "['Year', 'Make', 'Model', 'Condition', 'Price', 'Consumer_Rating', 'Consumer_Review_#', 'Exterior_Color', 'Interior_Color', 'Drivetrain', 'MPG', 'Fuel_Type', 'Transmission', 'Engine', 'VIN', 'Stock_#', 'Mileage', 'Comfort_Rating', 'Interior_Design_Rating', 'Performance_Rating', 'Value_For_Money_Rating', 'Exterior_Styling_Rating', 'Reliability_Rating', 'State', 'Seller_Type']\n",
            "\n",
            "Tipo de datos correspondendiente a las columnas:\n",
            "Year                         int64\n",
            "Make                        object\n",
            "Model                       object\n",
            "Condition                   object\n",
            "Price                       object\n",
            "Consumer_Rating            float64\n",
            "Consumer_Review_#            int64\n",
            "Exterior_Color              object\n",
            "Interior_Color              object\n",
            "Drivetrain                  object\n",
            "MPG                         object\n",
            "Fuel_Type                   object\n",
            "Transmission                object\n",
            "Engine                      object\n",
            "VIN                         object\n",
            "Stock_#                     object\n",
            "Mileage                     object\n",
            "Comfort_Rating             float64\n",
            "Interior_Design_Rating     float64\n",
            "Performance_Rating         float64\n",
            "Value_For_Money_Rating     float64\n",
            "Exterior_Styling_Rating    float64\n",
            "Reliability_Rating         float64\n",
            "State                       object\n",
            "Seller_Type                 object\n",
            "dtype: object\n",
            "\n",
            "Índice del dataset:\n",
            "RangeIndex(start=0, stop=4999, step=1)\n",
            "\n",
            "La forma del DataFrame es:\n",
            "(4999, 25)\n"
          ]
        }
      ]
    },
    {
      "cell_type": "markdown",
      "source": [
        "## Ejercicio 01\n",
        "\n",
        "Cree el df_01 con las siguientes características:\n",
        "\n",
        "Diez columnas (dentro de las diez columnas deben estar la primera y la última columna del dataset original).\n",
        "\n",
        "Diez filas (las filas deben corresponder a las cinco primeras filas y las cinco últimas filas del dataset original).\n",
        "\n",
        "Muestre el resultado y las características del DataFrame."
      ],
      "metadata": {
        "id": "bFlwT6hK85sn"
      }
    },
    {
      "cell_type": "code",
      "source": [
        "# Escriba su código aquí\n",
        "\n",
        "# Seleccionamos la primera columna del dataset\n",
        "df_01_primera_columna = data.iloc[:,:1]\n",
        "\n",
        "# Seleccionamos la última columna del dataset\n",
        "df_01_ultima_columna = data.iloc[:,-1:]\n",
        "\n",
        "# Seleccionamos 8 columnas diferentes de la priemra y la última\n",
        "df_01_columnas_intermedias = data.iloc[:,1:9]\n",
        "\n",
        "# Juntamos las columnas anteriormente seleccionadas\n",
        "df_01_columnas = pd.concat([df_01_primera_columna, df_01_columnas_intermedias, df_01_ultima_columna], axis=1)\n",
        "\n",
        "# Seleccionamos las primeras 5 filas de df_01_columnas\n",
        "df_01_primeras_cinco = df_01_columnas.head(5)\n",
        "\n",
        "# Seleccionamos las últimas 5 filas de df_01_columnas\n",
        "df_01_ultimas_cinco = df_01_columnas.tail(5)\n",
        "\n",
        "# Juntamos df_01_primeras_cinco y df_01_ultimas_cinco\n",
        "df_01 = pd.concat([df_01_primeras_cinco, df_01_ultimas_cinco], axis=0)\n",
        "\n",
        "print(\"Los nombres de las columnas del DataFrame son:\")\n",
        "print(df_01.columns.tolist())\n",
        "\n",
        "print(\"\\nTipo de datos correspondendiente a las columnas:\")\n",
        "print(df_01.dtypes)\n",
        "\n",
        "print(\"\\nÍndice del dataset:\")\n",
        "print(df_01.index)\n",
        "\n",
        "print(\"\\nLa forma del DataFrame es:\")\n",
        "print(df_01.shape)\n",
        "\n",
        "print(\"\\nLos datos del DataFrame son:\")\n",
        "print(df_01)"
      ],
      "metadata": {
        "id": "z1TXwWTFueAj",
        "colab": {
          "base_uri": "https://localhost:8080/"
        },
        "outputId": "f643774e-9518-4287-f1be-547ab493b283"
      },
      "execution_count": 65,
      "outputs": [
        {
          "output_type": "stream",
          "name": "stdout",
          "text": [
            "Los nombres de las columnas del DataFrame son:\n",
            "['Year', 'Make', 'Model', 'Condition', 'Price', 'Consumer_Rating', 'Consumer_Review_#', 'Exterior_Color', 'Interior_Color', 'Seller_Type']\n",
            "\n",
            "Tipo de datos correspondendiente a las columnas:\n",
            "Year                   int64\n",
            "Make                  object\n",
            "Model                 object\n",
            "Condition             object\n",
            "Price                 object\n",
            "Consumer_Rating      float64\n",
            "Consumer_Review_#      int64\n",
            "Exterior_Color        object\n",
            "Interior_Color        object\n",
            "Seller_Type           object\n",
            "dtype: object\n",
            "\n",
            "Índice del dataset:\n",
            "Index([0, 1, 2, 3, 4, 4994, 4995, 4996, 4997, 4998], dtype='int64')\n",
            "\n",
            "La forma del DataFrame es:\n",
            "(10, 10)\n",
            "\n",
            "Los datos del DataFrame son:\n",
            "      Year   Make                      Model Condition    Price  \\\n",
            "0     2023  Honda              Ridgeline RTL       New  $46,370   \n",
            "1     2023  Honda          CR-V Hybrid Sport       New  $34,150   \n",
            "2     2023  Honda          CR-V Hybrid Sport       New  $34,245   \n",
            "3     2022  Honda           Pilot TrailSport       New  $46,500   \n",
            "4     2023  Honda  CR-V Hybrid Sport Touring       New  $40,395   \n",
            "4994  2018  Honda               Accord Sport      Used  $19,999   \n",
            "4995  2020  Honda                     Fit LX      Used  $17,495   \n",
            "4996  2018  Honda                Civic Sport      Used  $19,500   \n",
            "4997  2011  Honda                Accord EX-L      Used  $17,998   \n",
            "4998  2023  Honda                Pilot Elite       New  $53,325   \n",
            "\n",
            "      Consumer_Rating  Consumer_Review_#           Exterior_Color  \\\n",
            "0                 4.8                  9     Platinum White Pearl   \n",
            "1                 1.7                 24     Platinum White Pearl   \n",
            "2                 4.7               2869  Meteorite Gray Metallic   \n",
            "3                 5.0                 12         Sonic Gray Pearl   \n",
            "4                 4.4                 12      Crystal Black Pearl   \n",
            "4994              5.0               3234                    White   \n",
            "4995              4.3                 54                      Red   \n",
            "4996              4.3               1925       White Orchid Pearl   \n",
            "4997              4.6                  4                    Black   \n",
            "4998              4.3                240    Modern Steel Metallic   \n",
            "\n",
            "     Interior_Color Seller_Type  \n",
            "0             Beige      Dealer  \n",
            "1             Black      Dealer  \n",
            "2             Black      Dealer  \n",
            "3             Black      Dealer  \n",
            "4             Black      Dealer  \n",
            "4994          Black      Dealer  \n",
            "4995          Black      Dealer  \n",
            "4996          Beige      Dealer  \n",
            "4997          Black      Dealer  \n",
            "4998          Brown      Dealer  \n"
          ]
        }
      ]
    },
    {
      "cell_type": "markdown",
      "source": [
        "## Ejercicio 02\n",
        "\n",
        "Modifique el índice del df_01 creado en el paso anterior.\n",
        "\n",
        "Opción 1: utilice una de las columnas de df_01 como el nuevo índice.\n",
        "\n",
        "Opción 2: cree el índice a partir de una secuencia cronológica.\n",
        "\n",
        "Cambie los nombres de las columnas del DataFrame a \"Primera\", \"segunda\", etcétera.\n",
        "\n",
        "Muestre el resultado y las características del DataFrame."
      ],
      "metadata": {
        "id": "hZT4gmkC9BUO"
      }
    },
    {
      "cell_type": "code",
      "source": [
        "# Escriba su código aquí\n",
        "\n",
        "# Cambiamos el indice del arreglo\n",
        "# Opción 2\n",
        "# Creamos un índice de fechas cn frecuencia diaria\n",
        "fechas_d = pd.date_range('20240425', periods=10, freq='D')\n",
        "\n",
        "df_01_modificado = df_01\n",
        "\n",
        "# Remplazamos por el uevo índice de fechas\n",
        "df_01_modificado.index = fechas_d\n",
        "\n",
        "# Ahora cambiamos los nombres de las columnas\n",
        "df_01_modificado.columns = ['Primera', 'Segunda', 'Tercera', 'Cuarta', 'Quinta', 'Sexta', 'Séptima', 'Octava', 'Novena', 'Décima']\n",
        "\n",
        "\n",
        "print(\"Los nombres de las columnas del DataFrame son:\")\n",
        "print(df_01_modificado.columns.tolist())\n",
        "\n",
        "print(\"\\nTipo de datos correspondendiente a las columnas:\")\n",
        "print(df_01_modificado.dtypes)\n",
        "\n",
        "print(\"\\nÍndice del dataset:\")\n",
        "print(df_01_modificado.index)\n",
        "\n",
        "print(\"\\nLa forma del DataFrame es:\")\n",
        "print(df_01_modificado.shape)\n",
        "\n",
        "print(\"\\nLos datos del DataFrame son:\")\n",
        "print(df_01_modificado)"
      ],
      "metadata": {
        "id": "CrCNnQf59Dvo",
        "colab": {
          "base_uri": "https://localhost:8080/"
        },
        "outputId": "2e3c8189-639c-4071-c607-30324994278b"
      },
      "execution_count": 66,
      "outputs": [
        {
          "output_type": "stream",
          "name": "stdout",
          "text": [
            "Los nombres de las columnas del DataFrame son:\n",
            "['Primera', 'Segunda', 'Tercera', 'Cuarta', 'Quinta', 'Sexta', 'Séptima', 'Octava', 'Novena', 'Décima']\n",
            "\n",
            "Tipo de datos correspondendiente a las columnas:\n",
            "Primera      int64\n",
            "Segunda     object\n",
            "Tercera     object\n",
            "Cuarta      object\n",
            "Quinta      object\n",
            "Sexta      float64\n",
            "Séptima      int64\n",
            "Octava      object\n",
            "Novena      object\n",
            "Décima      object\n",
            "dtype: object\n",
            "\n",
            "Índice del dataset:\n",
            "DatetimeIndex(['2024-04-25', '2024-04-26', '2024-04-27', '2024-04-28',\n",
            "               '2024-04-29', '2024-04-30', '2024-05-01', '2024-05-02',\n",
            "               '2024-05-03', '2024-05-04'],\n",
            "              dtype='datetime64[ns]', freq='D')\n",
            "\n",
            "La forma del DataFrame es:\n",
            "(10, 10)\n",
            "\n",
            "Los datos del DataFrame son:\n",
            "            Primera Segunda                    Tercera Cuarta   Quinta  Sexta  \\\n",
            "2024-04-25     2023   Honda              Ridgeline RTL    New  $46,370    4.8   \n",
            "2024-04-26     2023   Honda          CR-V Hybrid Sport    New  $34,150    1.7   \n",
            "2024-04-27     2023   Honda          CR-V Hybrid Sport    New  $34,245    4.7   \n",
            "2024-04-28     2022   Honda           Pilot TrailSport    New  $46,500    5.0   \n",
            "2024-04-29     2023   Honda  CR-V Hybrid Sport Touring    New  $40,395    4.4   \n",
            "2024-04-30     2018   Honda               Accord Sport   Used  $19,999    5.0   \n",
            "2024-05-01     2020   Honda                     Fit LX   Used  $17,495    4.3   \n",
            "2024-05-02     2018   Honda                Civic Sport   Used  $19,500    4.3   \n",
            "2024-05-03     2011   Honda                Accord EX-L   Used  $17,998    4.6   \n",
            "2024-05-04     2023   Honda                Pilot Elite    New  $53,325    4.3   \n",
            "\n",
            "            Séptima                   Octava Novena  Décima  \n",
            "2024-04-25        9     Platinum White Pearl  Beige  Dealer  \n",
            "2024-04-26       24     Platinum White Pearl  Black  Dealer  \n",
            "2024-04-27     2869  Meteorite Gray Metallic  Black  Dealer  \n",
            "2024-04-28       12         Sonic Gray Pearl  Black  Dealer  \n",
            "2024-04-29       12      Crystal Black Pearl  Black  Dealer  \n",
            "2024-04-30     3234                    White  Black  Dealer  \n",
            "2024-05-01       54                      Red  Black  Dealer  \n",
            "2024-05-02     1925       White Orchid Pearl  Beige  Dealer  \n",
            "2024-05-03        4                    Black  Black  Dealer  \n",
            "2024-05-04      240    Modern Steel Metallic  Brown  Dealer  \n"
          ]
        }
      ]
    },
    {
      "cell_type": "markdown",
      "metadata": {
        "id": "Ps7TrVdHnUvw"
      },
      "source": [
        "## Ejercicio 03\n",
        "\n",
        "Utilizando el método **loc** seleccione los elementos que se encuentran entre la tercera y la sexta fila y en las columnas cuarta, quinta y octava de DataFrame modificado.\n",
        "\n",
        "Muestre el resultado y las características del DataFrame."
      ]
    },
    {
      "cell_type": "code",
      "source": [
        "# Escriba su código aquí\n",
        "\n",
        "# loc se utiliza con nombres de etiquetas de filas y columnas, ya que no tenemos índices numéricos\n",
        "df_01_modificado_eje_03 = df_01_modificado.loc[['2024-04-27', '2024-04-28', '2024-04-29', '2024-04-30'],['Cuarta', 'Quinta', 'Octava']]\n",
        "\n",
        "print(\"Los nombres de las columnas del DataFrame son:\")\n",
        "print(df_01_modificado_eje_03.columns.tolist())\n",
        "\n",
        "print(\"\\nTipo de datos correspondendiente a las columnas:\")\n",
        "print(df_01_modificado_eje_03.dtypes)\n",
        "\n",
        "print(\"\\nÍndice del dataset:\")\n",
        "print(df_01_modificado_eje_03.index)\n",
        "\n",
        "print(\"\\nLa forma del DataFrame es:\")\n",
        "print(df_01_modificado_eje_03.shape)\n",
        "\n",
        "print(\"\\nLos datos del DataFrame son:\")\n",
        "print(df_01_modificado_eje_03)"
      ],
      "metadata": {
        "id": "vzgQS4tO_nry",
        "colab": {
          "base_uri": "https://localhost:8080/"
        },
        "outputId": "c4375538-f4c9-4b85-fd28-faca5502abb1"
      },
      "execution_count": 67,
      "outputs": [
        {
          "output_type": "stream",
          "name": "stdout",
          "text": [
            "Los nombres de las columnas del DataFrame son:\n",
            "['Cuarta', 'Quinta', 'Octava']\n",
            "\n",
            "Tipo de datos correspondendiente a las columnas:\n",
            "Cuarta    object\n",
            "Quinta    object\n",
            "Octava    object\n",
            "dtype: object\n",
            "\n",
            "Índice del dataset:\n",
            "DatetimeIndex(['2024-04-27', '2024-04-28', '2024-04-29', '2024-04-30'], dtype='datetime64[ns]', freq=None)\n",
            "\n",
            "La forma del DataFrame es:\n",
            "(4, 3)\n",
            "\n",
            "Los datos del DataFrame son:\n",
            "           Cuarta   Quinta                   Octava\n",
            "2024-04-27    New  $34,245  Meteorite Gray Metallic\n",
            "2024-04-28    New  $46,500         Sonic Gray Pearl\n",
            "2024-04-29    New  $40,395      Crystal Black Pearl\n",
            "2024-04-30   Used  $19,999                    White\n"
          ]
        }
      ]
    },
    {
      "cell_type": "markdown",
      "source": [
        "## Ejercicio 04\n",
        "\n",
        "Utilizando el método **iloc** seleccione los elementos que se encuentran entre la tercera y la sexta fila y en las columnas cuarta, quinta y octava del DataFrame modificado.\n",
        "\n",
        "Muestre el resultado y las características del DataFrame."
      ],
      "metadata": {
        "id": "MEfmPlGL_ocW"
      }
    },
    {
      "cell_type": "code",
      "source": [
        "# Escriba su código aquí\n",
        "\n",
        "# Utilizamos iloc con posiciones ya que este metodo solo recibe numeros enteros\n",
        "df_01_modificado_eje_04 = df_01_modificado.iloc[2:6, [3, 4, 7]]\n",
        "\n",
        "print(\"Los nombres de las columnas del DataFrame son:\")\n",
        "print(df_01_modificado_eje_04.columns.tolist())\n",
        "\n",
        "print(\"\\nTipo de datos correspondendiente a las columnas:\")\n",
        "print(df_01_modificado_eje_04.dtypes)\n",
        "\n",
        "print(\"\\nÍndice del dataset:\")\n",
        "print(df_01_modificado_eje_04.index)\n",
        "\n",
        "print(\"\\nLa forma del DataFrame es:\")\n",
        "print(df_01_modificado_eje_04.shape)\n",
        "\n",
        "print(\"\\nLos datos del DataFrame son:\")\n",
        "print(df_01_modificado_eje_04)\n"
      ],
      "metadata": {
        "id": "JgFBI-6sAXRi",
        "colab": {
          "base_uri": "https://localhost:8080/"
        },
        "outputId": "8068e80f-8788-4bd1-b60d-8ff9b6777a04"
      },
      "execution_count": 68,
      "outputs": [
        {
          "output_type": "stream",
          "name": "stdout",
          "text": [
            "           Cuarta   Quinta                   Octava\n",
            "2024-04-27    New  $34,245  Meteorite Gray Metallic\n",
            "2024-04-28    New  $46,500         Sonic Gray Pearl\n",
            "2024-04-29    New  $40,395      Crystal Black Pearl\n",
            "2024-04-30   Used  $19,999                    White\n",
            "Los nombres de las columnas del DataFrame son:\n",
            "['Cuarta', 'Quinta', 'Octava']\n",
            "\n",
            "Tipo de datos correspondendiente a las columnas:\n",
            "Cuarta    object\n",
            "Quinta    object\n",
            "Octava    object\n",
            "dtype: object\n",
            "\n",
            "Índice del dataset:\n",
            "DatetimeIndex(['2024-04-27', '2024-04-28', '2024-04-29', '2024-04-30'], dtype='datetime64[ns]', freq='D')\n",
            "\n",
            "La forma del DataFrame es:\n",
            "(4, 3)\n",
            "\n",
            "Los datos del DataFrame son:\n",
            "           Cuarta   Quinta                   Octava\n",
            "2024-04-27    New  $34,245  Meteorite Gray Metallic\n",
            "2024-04-28    New  $46,500         Sonic Gray Pearl\n",
            "2024-04-29    New  $40,395      Crystal Black Pearl\n",
            "2024-04-30   Used  $19,999                    White\n"
          ]
        }
      ]
    },
    {
      "cell_type": "markdown",
      "source": [
        "## Ejercicio 05\n",
        "\n",
        "Calcule el promedio de una de las columnas numéricas del DataFrame modificado.\n",
        "\n",
        "Cree el DataFrame df_02 conservando todas las columnas del DataFrame modificado y seleccionando los valores superiores al promedio en la columna numérica que tomó como referencia para el ejercicio.\n",
        "\n",
        "Muestre el resultado y las características del DataFrame."
      ],
      "metadata": {
        "id": "Xk2C7EimAhwQ"
      }
    },
    {
      "cell_type": "code",
      "source": [
        "# Escriba su código aquí\n",
        "\n",
        "promedio = df_01_modificado['Sexta'].mean()\n",
        "\n",
        "# Se filtran los elements superiores al promedio\n",
        "df_02 = df_01_modificado[df_01_modificado.Sexta > promedio]\n",
        "\n",
        "print(f\"El promedio de la columna 'Sexta' es: {promedio}\")\n",
        "\n",
        "print(\"Los nombres de las columnas del DataFrame son:\")\n",
        "print(df_02.columns.tolist())\n",
        "\n",
        "print(\"\\nTipo de datos correspondendiente a las columnas:\")\n",
        "print(df_02.dtypes)\n",
        "\n",
        "print(\"\\nÍndice del dataset:\")\n",
        "print(df_02.index)\n",
        "\n",
        "print(\"\\nLa forma del DataFrame es:\")\n",
        "print(df_02.shape)\n",
        "\n",
        "print(\"\\nLos datos del DataFrame son:\")\n",
        "print(df_02)"
      ],
      "metadata": {
        "id": "HxiFE6FkBTy6",
        "colab": {
          "base_uri": "https://localhost:8080/"
        },
        "outputId": "e8071f8b-4b2a-48dd-9bbb-0892ab062755"
      },
      "execution_count": 78,
      "outputs": [
        {
          "output_type": "stream",
          "name": "stdout",
          "text": [
            "El promedio de la columna 'Sexta' es: 4.3100000000000005\n",
            "Los nombres de las columnas del DataFrame son:\n",
            "['Primera', 'Segunda', 'Tercera', 'Cuarta', 'Quinta', 'Sexta', 'Séptima', 'Octava', 'Novena', 'Décima']\n",
            "\n",
            "Tipo de datos correspondendiente a las columnas:\n",
            "Primera      int64\n",
            "Segunda     object\n",
            "Tercera     object\n",
            "Cuarta      object\n",
            "Quinta      object\n",
            "Sexta      float64\n",
            "Séptima      int64\n",
            "Octava      object\n",
            "Novena      object\n",
            "Décima      object\n",
            "dtype: object\n",
            "\n",
            "Índice del dataset:\n",
            "DatetimeIndex(['2024-04-25', '2024-04-27', '2024-04-28', '2024-04-29',\n",
            "               '2024-04-30', '2024-05-03'],\n",
            "              dtype='datetime64[ns]', freq=None)\n",
            "\n",
            "La forma del DataFrame es:\n",
            "(6, 10)\n",
            "\n",
            "Los datos del DataFrame son:\n",
            "            Primera Segunda                    Tercera Cuarta   Quinta  Sexta  \\\n",
            "2024-04-25     2023   Honda              Ridgeline RTL    New  $46,370    4.8   \n",
            "2024-04-27     2023   Honda          CR-V Hybrid Sport    New  $34,245    4.7   \n",
            "2024-04-28     2022   Honda           Pilot TrailSport    New  $46,500    5.0   \n",
            "2024-04-29     2023   Honda  CR-V Hybrid Sport Touring    New  $40,395    4.4   \n",
            "2024-04-30     2018   Honda               Accord Sport   Used  $19,999    5.0   \n",
            "2024-05-03     2011   Honda                Accord EX-L   Used  $17,998    4.6   \n",
            "\n",
            "            Séptima                   Octava Novena  Décima  \n",
            "2024-04-25        9     Platinum White Pearl  Beige  Dealer  \n",
            "2024-04-27     2869  Meteorite Gray Metallic  Black  Dealer  \n",
            "2024-04-28       12         Sonic Gray Pearl  Black  Dealer  \n",
            "2024-04-29       12      Crystal Black Pearl  Black  Dealer  \n",
            "2024-04-30     3234                    White  Black  Dealer  \n",
            "2024-05-03        4                    Black  Black  Dealer  \n"
          ]
        }
      ]
    },
    {
      "cell_type": "markdown",
      "source": [
        "## Ejercicio 06\n",
        "\n",
        "Seleccione una columna del DataFrame **original** que contenga una variable categórica (si no hay variables categóricas cree una columna con variables categóricas a partir de alguna columna numérica del DataFrame).\n",
        "\n",
        "Utilice el método **groupby** para analizar la información del DataFrame a partir de la variable categórica seleccionada.\n",
        "\n",
        "Muestre el resultado y las características del DataFrame."
      ],
      "metadata": {
        "id": "0hXp2oN_BVap"
      }
    },
    {
      "cell_type": "code",
      "source": [
        "# Escriba su código aquí\n"
      ],
      "metadata": {
        "id": "TonF9r9RBhRE"
      },
      "execution_count": 70,
      "outputs": []
    },
    {
      "cell_type": "markdown",
      "source": [
        "## Ejercicio 07\n",
        "\n",
        "Cree una tabla dinámica, utilizando el método **pivottable**, para analizar la información del DataFrame **original**.\n",
        "\n",
        "Muestre el resultado y las características del DataFrame."
      ],
      "metadata": {
        "id": "6m4cwPKxBiLU"
      }
    },
    {
      "cell_type": "code",
      "source": [
        "# Escriba su código aquí\n"
      ],
      "metadata": {
        "id": "CAZgcumWC6Of"
      },
      "execution_count": 71,
      "outputs": []
    },
    {
      "cell_type": "markdown",
      "source": [
        "## Ejercicio 08\n",
        "\n",
        "Encuentre todos los valores nulos del DataFrame original y cambie esos valores nulos con la media de la respectiva columna.\n",
        "\n",
        "Muestre el resultado y las características del DataFrame."
      ],
      "metadata": {
        "id": "VHi0_cAODjvM"
      }
    },
    {
      "cell_type": "code",
      "source": [
        "# Escriba su código aquí\n"
      ],
      "metadata": {
        "id": "hW6O_QNQDnbq"
      },
      "execution_count": 72,
      "outputs": []
    },
    {
      "cell_type": "markdown",
      "source": [
        "## Ejercicio 09\n",
        "\n",
        "Encuentre todos los valores nulos del DataFrame original y elimine la fila correspondiente.\n",
        "\n",
        "Muestre el resultado y las características del DataFrame.\n",
        "\n"
      ],
      "metadata": {
        "id": "5TvYWBQ5DpOR"
      }
    },
    {
      "cell_type": "code",
      "source": [
        "# Escriba su código aquí\n"
      ],
      "metadata": {
        "id": "SOr5DFVZDsqk"
      },
      "execution_count": 73,
      "outputs": []
    }
  ]
}