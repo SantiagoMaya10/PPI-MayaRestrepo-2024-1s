{
  "nbformat": 4,
  "nbformat_minor": 0,
  "metadata": {
    "colab": {
      "provenance": [],
      "include_colab_link": true
    },
    "kernelspec": {
      "name": "python3",
      "display_name": "Python 3"
    }
  },
  "cells": [
    {
      "cell_type": "markdown",
      "metadata": {
        "id": "view-in-github",
        "colab_type": "text"
      },
      "source": [
        "<a href=\"https://colab.research.google.com/github/SantiagoMaya10/PPI-MayaRestrepo-2024-1s/blob/main/SI03_Pandas.ipynb\" target=\"_parent\"><img src=\"https://colab.research.google.com/assets/colab-badge.svg\" alt=\"Open In Colab\"/></a>"
      ]
    },
    {
      "cell_type": "markdown",
      "source": [
        "## «*El mundo exige resultados. No cuentes a otros tus dolores del parto. Muéstrales al niño.*»\n",
        "\n",
        "### [Indira Gandhi](https://es.wikipedia.org/wiki/Indira_Gandhi)"
      ],
      "metadata": {
        "id": "bJtz1A8wSiah"
      }
    },
    {
      "cell_type": "markdown",
      "metadata": {
        "id": "mCkyuX8p2SYu"
      },
      "source": [
        "# SI03 Pandas\n",
        "\n",
        "Actividad individual.\n",
        "\n",
        "Utilice el dataset asignado en [datasets panda](https://docs.google.com/spreadsheets/d/e/2PACX-1vQi3ziCNg_TlAHPvHceFDyqFZeouQk7-uWcSSv-VTsYHnzx5VEyp3u_rp5pNiuPdNta898xj7vJzZPL/pubhtml).\n",
        "\n",
        "Resuelva los siguientes ejercicios con códigos que se ajusten al PEP8. Recuerde incluir los comentarios en el código y documentar las funciones con docstrings al estilo de Google.\n",
        "\n",
        "**Importante:**\n",
        "\n",
        "**no se permite la utilización de ciclos (for or while) para resolver los ejercicios.**\n",
        "\n",
        "**todos los ejercicios deben ser resueltos con Pandas.**"
      ]
    },
    {
      "cell_type": "markdown",
      "source": [
        "# Preparación del ejercicio\n",
        "\n",
        "*   Importe las librerías requeridas\n",
        "*   Lea el dataset a utilizar desde una url\n",
        "\n",
        "**Sugerencia**: suba el dataset a un repositorio de GitHub, o al Googledrive de su **cuenta personal de gmail** y luego publíquelo en la web como un archivo *.csv.\n",
        "\n",
        "Nota: si lo desea puede utilizar otro método para obtener la url del dataset.\n"
      ],
      "metadata": {
        "id": "rP2Y7el2JAp5"
      }
    },
    {
      "cell_type": "code",
      "source": [
        "# Escriba aquí su código\n",
        "\n",
        "# Importar las librerías necesarias\n",
        "import pandas as pd\n",
        "\n",
        "# Conocer la versiones de las librerías instaladas\n",
        "print('Pandas version:', pd.__version__)\n",
        "\n",
        "# Guardar en la variable 'ruta' la url del dataset\n",
        "ruta = \"https://docs.google.com/spreadsheets/d/e/2PACX-1vTxRT0O2ix4OhCJNSBLF9Luq5KoC3jGbh-ZjWRjIl4bb7JJZuFc1qmzVphw0a6dRII0RcOiyuG-4caP/pub?gid=1349028561&single=true&output=csv\"\n",
        "\n",
        "# Cargar el dataset a partir de la ruta establecida\n",
        "data = pd.read_csv(ruta)\n",
        "\n",
        "# Verificar la lectura del dataset\n",
        "print(\"La forma del DataFrame es:\", data.shape, sep = \"\\n\")\n"
      ],
      "metadata": {
        "id": "WDXlcxw2LUl5",
        "colab": {
          "base_uri": "https://localhost:8080/"
        },
        "outputId": "9cd69c39-1be6-4856-ff0a-391024d8aa80"
      },
      "execution_count": 42,
      "outputs": [
        {
          "output_type": "stream",
          "name": "stdout",
          "text": [
            "Pandas version: 2.0.3\n",
            "La forma del DataFrame es:\n",
            "(4999, 25)\n"
          ]
        }
      ]
    },
    {
      "cell_type": "markdown",
      "source": [
        "## Ejercicio 00\n",
        "\n",
        "Muestre las principales características del dataset utilizando pandas.\n",
        "\n",
        "En particular muestre los nombres de las columnas y sus tipos; el índice del dataset; la forma del dataset."
      ],
      "metadata": {
        "id": "dCNcf3jj8NT6"
      }
    },
    {
      "cell_type": "code",
      "source": [
        "# Escriba su código aquí\n",
        "\n",
        "print(\"Los nombres de las columnas del DataFrame son:\")\n",
        "print(data.columns.tolist())\n",
        "\n",
        "print(\"\\nTipo de datos correspondendiente a las columnas:\")\n",
        "print(data.dtypes)\n",
        "\n",
        "print(\"\\nÍndice del dataset:\")\n",
        "print(data.index)\n",
        "\n",
        "print(\"\\nLa forma del DataFrame es:\")\n",
        "print(data.shape)\n"
      ],
      "metadata": {
        "id": "FEiDpoQ48JyJ",
        "colab": {
          "base_uri": "https://localhost:8080/"
        },
        "outputId": "d016087f-90a8-45fd-c5c6-aed4e3b34443"
      },
      "execution_count": 43,
      "outputs": [
        {
          "output_type": "stream",
          "name": "stdout",
          "text": [
            "Los nombres de las columnas del DataFrame son:\n",
            "['Year', 'Make', 'Model', 'Condition', 'Price', 'Consumer_Rating', 'Consumer_Review_#', 'Exterior_Color', 'Interior_Color', 'Drivetrain', 'MPG', 'Fuel_Type', 'Transmission', 'Engine', 'VIN', 'Stock_#', 'Mileage', 'Comfort_Rating', 'Interior_Design_Rating', 'Performance_Rating', 'Value_For_Money_Rating', 'Exterior_Styling_Rating', 'Reliability_Rating', 'State', 'Seller_Type']\n",
            "\n",
            "Tipo de datos correspondendiente a las columnas:\n",
            "Year                         int64\n",
            "Make                        object\n",
            "Model                       object\n",
            "Condition                   object\n",
            "Price                       object\n",
            "Consumer_Rating            float64\n",
            "Consumer_Review_#            int64\n",
            "Exterior_Color              object\n",
            "Interior_Color              object\n",
            "Drivetrain                  object\n",
            "MPG                         object\n",
            "Fuel_Type                   object\n",
            "Transmission                object\n",
            "Engine                      object\n",
            "VIN                         object\n",
            "Stock_#                     object\n",
            "Mileage                     object\n",
            "Comfort_Rating             float64\n",
            "Interior_Design_Rating     float64\n",
            "Performance_Rating         float64\n",
            "Value_For_Money_Rating     float64\n",
            "Exterior_Styling_Rating    float64\n",
            "Reliability_Rating         float64\n",
            "State                       object\n",
            "Seller_Type                 object\n",
            "dtype: object\n",
            "\n",
            "Índice del dataset:\n",
            "RangeIndex(start=0, stop=4999, step=1)\n",
            "\n",
            "La forma del DataFrame es:\n",
            "(4999, 25)\n"
          ]
        }
      ]
    },
    {
      "cell_type": "markdown",
      "source": [
        "## Ejercicio 01\n",
        "\n",
        "Cree el df_01 con las siguientes características:\n",
        "\n",
        "Diez columnas (dentro de las diez columnas deben estar la primera y la última columna del dataset original).\n",
        "\n",
        "Diez filas (las filas deben corresponder a las cinco primeras filas y las cinco últimas filas del dataset original).\n",
        "\n",
        "Muestre el resultado y las características del DataFrame."
      ],
      "metadata": {
        "id": "bFlwT6hK85sn"
      }
    },
    {
      "cell_type": "code",
      "source": [
        "# Escriba su código aquí\n",
        "\n",
        "# Seleccionamos la primera columna del dataset\n",
        "df_01_primera_columna = data.iloc[:,:1]\n",
        "\n",
        "# Seleccionamos la última columna del dataset\n",
        "df_01_ultima_columna = data.iloc[:,-1:]\n",
        "\n",
        "# Seleccionamos 8 columnas diferentes de la priemra y la última\n",
        "df_01_columnas_intermedias = data.iloc[:,1:9]\n",
        "\n",
        "# Juntamos las columnas anteriormente seleccionadas\n",
        "df_01_columnas = pd.concat([df_01_primera_columna,\\\n",
        "                    df_01_columnas_intermedias, df_01_ultima_columna], axis=1)\n",
        "\n",
        "# Seleccionamos las primeras 5 filas de df_01_columnas\n",
        "df_01_primeras_cinco = df_01_columnas.head(5)\n",
        "\n",
        "# Seleccionamos las últimas 5 filas de df_01_columnas\n",
        "df_01_ultimas_cinco = df_01_columnas.tail(5)\n",
        "\n",
        "# Juntamos df_01_primeras_cinco y df_01_ultimas_cinco\n",
        "df_01 = pd.concat([df_01_primeras_cinco, df_01_ultimas_cinco], axis=0)\n",
        "\n",
        "print(\"Los nombres de las columnas del DataFrame son:\")\n",
        "print(df_01.columns.tolist())\n",
        "\n",
        "print(\"\\nTipo de datos correspondendiente a las columnas:\")\n",
        "print(df_01.dtypes)\n",
        "\n",
        "print(\"\\nÍndice del dataset:\")\n",
        "print(df_01.index)\n",
        "\n",
        "print(\"\\nLa forma del DataFrame es:\")\n",
        "print(df_01.shape)\n",
        "\n",
        "print(\"\\nLos datos del DataFrame son:\")\n",
        "print(df_01)"
      ],
      "metadata": {
        "id": "z1TXwWTFueAj",
        "colab": {
          "base_uri": "https://localhost:8080/"
        },
        "outputId": "73acaaa7-dc96-468b-cc3f-096082f32add"
      },
      "execution_count": 44,
      "outputs": [
        {
          "output_type": "stream",
          "name": "stdout",
          "text": [
            "Los nombres de las columnas del DataFrame son:\n",
            "['Year', 'Make', 'Model', 'Condition', 'Price', 'Consumer_Rating', 'Consumer_Review_#', 'Exterior_Color', 'Interior_Color', 'Seller_Type']\n",
            "\n",
            "Tipo de datos correspondendiente a las columnas:\n",
            "Year                   int64\n",
            "Make                  object\n",
            "Model                 object\n",
            "Condition             object\n",
            "Price                 object\n",
            "Consumer_Rating      float64\n",
            "Consumer_Review_#      int64\n",
            "Exterior_Color        object\n",
            "Interior_Color        object\n",
            "Seller_Type           object\n",
            "dtype: object\n",
            "\n",
            "Índice del dataset:\n",
            "Index([0, 1, 2, 3, 4, 4994, 4995, 4996, 4997, 4998], dtype='int64')\n",
            "\n",
            "La forma del DataFrame es:\n",
            "(10, 10)\n",
            "\n",
            "Los datos del DataFrame son:\n",
            "      Year   Make                      Model Condition    Price  \\\n",
            "0     2023  Honda              Ridgeline RTL       New  $46,370   \n",
            "1     2023  Honda          CR-V Hybrid Sport       New  $34,150   \n",
            "2     2023  Honda          CR-V Hybrid Sport       New  $34,245   \n",
            "3     2022  Honda           Pilot TrailSport       New  $46,500   \n",
            "4     2023  Honda  CR-V Hybrid Sport Touring       New  $40,395   \n",
            "4994  2018  Honda               Accord Sport      Used  $19,999   \n",
            "4995  2020  Honda                     Fit LX      Used  $17,495   \n",
            "4996  2018  Honda                Civic Sport      Used  $19,500   \n",
            "4997  2011  Honda                Accord EX-L      Used  $17,998   \n",
            "4998  2023  Honda                Pilot Elite       New  $53,325   \n",
            "\n",
            "      Consumer_Rating  Consumer_Review_#           Exterior_Color  \\\n",
            "0                 4.8                  9     Platinum White Pearl   \n",
            "1                 1.7                 24     Platinum White Pearl   \n",
            "2                 4.7               2869  Meteorite Gray Metallic   \n",
            "3                 5.0                 12         Sonic Gray Pearl   \n",
            "4                 4.4                 12      Crystal Black Pearl   \n",
            "4994              5.0               3234                    White   \n",
            "4995              4.3                 54                      Red   \n",
            "4996              4.3               1925       White Orchid Pearl   \n",
            "4997              4.6                  4                    Black   \n",
            "4998              4.3                240    Modern Steel Metallic   \n",
            "\n",
            "     Interior_Color Seller_Type  \n",
            "0             Beige      Dealer  \n",
            "1             Black      Dealer  \n",
            "2             Black      Dealer  \n",
            "3             Black      Dealer  \n",
            "4             Black      Dealer  \n",
            "4994          Black      Dealer  \n",
            "4995          Black      Dealer  \n",
            "4996          Beige      Dealer  \n",
            "4997          Black      Dealer  \n",
            "4998          Brown      Dealer  \n"
          ]
        }
      ]
    },
    {
      "cell_type": "markdown",
      "source": [
        "## Ejercicio 02\n",
        "\n",
        "Modifique el índice del df_01 creado en el paso anterior.\n",
        "\n",
        "Opción 1: utilice una de las columnas de df_01 como el nuevo índice.\n",
        "\n",
        "Opción 2: cree el índice a partir de una secuencia cronológica.\n",
        "\n",
        "Cambie los nombres de las columnas del DataFrame a \"Primera\", \"segunda\", etcétera.\n",
        "\n",
        "Muestre el resultado y las características del DataFrame."
      ],
      "metadata": {
        "id": "hZT4gmkC9BUO"
      }
    },
    {
      "cell_type": "code",
      "source": [
        "# Escriba su código aquí\n",
        "\n",
        "# Cambiamos el indice del arreglo\n",
        "# Opción 2\n",
        "# Creamos un índice de fechas cn frecuencia diaria\n",
        "fechas_d = pd.date_range('20240425', periods=10, freq='D')\n",
        "\n",
        "df_01_modificado = df_01\n",
        "\n",
        "# Remplazamos por el uevo índice de fechas\n",
        "df_01_modificado.index = fechas_d\n",
        "\n",
        "# Ahora cambiamos los nombres de las columnas\n",
        "df_01_modificado.columns = ['Primera', 'Segunda', 'Tercera',\\\n",
        "        'Cuarta', 'Quinta', 'Sexta', 'Séptima', 'Octava', 'Novena', 'Décima']\n",
        "\n",
        "\n",
        "print(\"Los nombres de las columnas del DataFrame son:\")\n",
        "print(df_01_modificado.columns.tolist())\n",
        "\n",
        "print(\"\\nTipo de datos correspondendiente a las columnas:\")\n",
        "print(df_01_modificado.dtypes)\n",
        "\n",
        "print(\"\\nÍndice del dataset:\")\n",
        "print(df_01_modificado.index)\n",
        "\n",
        "print(\"\\nLa forma del DataFrame es:\")\n",
        "print(df_01_modificado.shape)\n",
        "\n",
        "print(\"\\nLos datos del DataFrame son:\")\n",
        "print(df_01_modificado)"
      ],
      "metadata": {
        "id": "CrCNnQf59Dvo",
        "colab": {
          "base_uri": "https://localhost:8080/"
        },
        "outputId": "e67c08ac-3881-43ea-e0fa-eb9a66657433"
      },
      "execution_count": 45,
      "outputs": [
        {
          "output_type": "stream",
          "name": "stdout",
          "text": [
            "Los nombres de las columnas del DataFrame son:\n",
            "['Primera', 'Segunda', 'Tercera', 'Cuarta', 'Quinta', 'Sexta', 'Séptima', 'Octava', 'Novena', 'Décima']\n",
            "\n",
            "Tipo de datos correspondendiente a las columnas:\n",
            "Primera      int64\n",
            "Segunda     object\n",
            "Tercera     object\n",
            "Cuarta      object\n",
            "Quinta      object\n",
            "Sexta      float64\n",
            "Séptima      int64\n",
            "Octava      object\n",
            "Novena      object\n",
            "Décima      object\n",
            "dtype: object\n",
            "\n",
            "Índice del dataset:\n",
            "DatetimeIndex(['2024-04-25', '2024-04-26', '2024-04-27', '2024-04-28',\n",
            "               '2024-04-29', '2024-04-30', '2024-05-01', '2024-05-02',\n",
            "               '2024-05-03', '2024-05-04'],\n",
            "              dtype='datetime64[ns]', freq='D')\n",
            "\n",
            "La forma del DataFrame es:\n",
            "(10, 10)\n",
            "\n",
            "Los datos del DataFrame son:\n",
            "            Primera Segunda                    Tercera Cuarta   Quinta  Sexta  \\\n",
            "2024-04-25     2023   Honda              Ridgeline RTL    New  $46,370    4.8   \n",
            "2024-04-26     2023   Honda          CR-V Hybrid Sport    New  $34,150    1.7   \n",
            "2024-04-27     2023   Honda          CR-V Hybrid Sport    New  $34,245    4.7   \n",
            "2024-04-28     2022   Honda           Pilot TrailSport    New  $46,500    5.0   \n",
            "2024-04-29     2023   Honda  CR-V Hybrid Sport Touring    New  $40,395    4.4   \n",
            "2024-04-30     2018   Honda               Accord Sport   Used  $19,999    5.0   \n",
            "2024-05-01     2020   Honda                     Fit LX   Used  $17,495    4.3   \n",
            "2024-05-02     2018   Honda                Civic Sport   Used  $19,500    4.3   \n",
            "2024-05-03     2011   Honda                Accord EX-L   Used  $17,998    4.6   \n",
            "2024-05-04     2023   Honda                Pilot Elite    New  $53,325    4.3   \n",
            "\n",
            "            Séptima                   Octava Novena  Décima  \n",
            "2024-04-25        9     Platinum White Pearl  Beige  Dealer  \n",
            "2024-04-26       24     Platinum White Pearl  Black  Dealer  \n",
            "2024-04-27     2869  Meteorite Gray Metallic  Black  Dealer  \n",
            "2024-04-28       12         Sonic Gray Pearl  Black  Dealer  \n",
            "2024-04-29       12      Crystal Black Pearl  Black  Dealer  \n",
            "2024-04-30     3234                    White  Black  Dealer  \n",
            "2024-05-01       54                      Red  Black  Dealer  \n",
            "2024-05-02     1925       White Orchid Pearl  Beige  Dealer  \n",
            "2024-05-03        4                    Black  Black  Dealer  \n",
            "2024-05-04      240    Modern Steel Metallic  Brown  Dealer  \n"
          ]
        }
      ]
    },
    {
      "cell_type": "markdown",
      "metadata": {
        "id": "Ps7TrVdHnUvw"
      },
      "source": [
        "## Ejercicio 03\n",
        "\n",
        "Utilizando el método **loc** seleccione los elementos que se encuentran entre la tercera y la sexta fila y en las columnas cuarta, quinta y octava de DataFrame modificado.\n",
        "\n",
        "Muestre el resultado y las características del DataFrame."
      ]
    },
    {
      "cell_type": "code",
      "source": [
        "# Escriba su código aquí\n",
        "\n",
        "# loc se utiliza con nombres de etiquetas de filas y columnas, ya que no tenemos índices numéricos\n",
        "df_01_modificado_eje_03 = df_01_modificado.loc[['2024-04-27', '2024-04-28',\\\n",
        "                '2024-04-29', '2024-04-30'],['Cuarta', 'Quinta', 'Octava']]\n",
        "\n",
        "print(\"Los nombres de las columnas del DataFrame son:\")\n",
        "print(df_01_modificado_eje_03.columns.tolist())\n",
        "\n",
        "print(\"\\nTipo de datos correspondendiente a las columnas:\")\n",
        "print(df_01_modificado_eje_03.dtypes)\n",
        "\n",
        "print(\"\\nÍndice del dataset:\")\n",
        "print(df_01_modificado_eje_03.index)\n",
        "\n",
        "print(\"\\nLa forma del DataFrame es:\")\n",
        "print(df_01_modificado_eje_03.shape)\n",
        "\n",
        "print(\"\\nLos datos del DataFrame son:\")\n",
        "print(df_01_modificado_eje_03)"
      ],
      "metadata": {
        "id": "vzgQS4tO_nry",
        "colab": {
          "base_uri": "https://localhost:8080/"
        },
        "outputId": "b96a5931-6efd-4723-99b7-02ef58c26e14"
      },
      "execution_count": 46,
      "outputs": [
        {
          "output_type": "stream",
          "name": "stdout",
          "text": [
            "Los nombres de las columnas del DataFrame son:\n",
            "['Cuarta', 'Quinta', 'Octava']\n",
            "\n",
            "Tipo de datos correspondendiente a las columnas:\n",
            "Cuarta    object\n",
            "Quinta    object\n",
            "Octava    object\n",
            "dtype: object\n",
            "\n",
            "Índice del dataset:\n",
            "DatetimeIndex(['2024-04-27', '2024-04-28', '2024-04-29', '2024-04-30'], dtype='datetime64[ns]', freq=None)\n",
            "\n",
            "La forma del DataFrame es:\n",
            "(4, 3)\n",
            "\n",
            "Los datos del DataFrame son:\n",
            "           Cuarta   Quinta                   Octava\n",
            "2024-04-27    New  $34,245  Meteorite Gray Metallic\n",
            "2024-04-28    New  $46,500         Sonic Gray Pearl\n",
            "2024-04-29    New  $40,395      Crystal Black Pearl\n",
            "2024-04-30   Used  $19,999                    White\n"
          ]
        }
      ]
    },
    {
      "cell_type": "markdown",
      "source": [
        "## Ejercicio 04\n",
        "\n",
        "Utilizando el método **iloc** seleccione los elementos que se encuentran entre la tercera y la sexta fila y en las columnas cuarta, quinta y octava del DataFrame modificado.\n",
        "\n",
        "Muestre el resultado y las características del DataFrame."
      ],
      "metadata": {
        "id": "MEfmPlGL_ocW"
      }
    },
    {
      "cell_type": "code",
      "source": [
        "# Escriba su código aquí\n",
        "\n",
        "# Utilizamos iloc con posiciones ya que este metodo solo recibe numeros enteros\n",
        "df_01_modificado_eje_04 = df_01_modificado.iloc[2:6, [3, 4, 7]]\n",
        "\n",
        "print(\"Los nombres de las columnas del DataFrame son:\")\n",
        "print(df_01_modificado_eje_04.columns.tolist())\n",
        "\n",
        "print(\"\\nTipo de datos correspondendiente a las columnas:\")\n",
        "print(df_01_modificado_eje_04.dtypes)\n",
        "\n",
        "print(\"\\nÍndice del dataset:\")\n",
        "print(df_01_modificado_eje_04.index)\n",
        "\n",
        "print(\"\\nLa forma del DataFrame es:\")\n",
        "print(df_01_modificado_eje_04.shape)\n",
        "\n",
        "print(\"\\nLos datos del DataFrame son:\")\n",
        "print(df_01_modificado_eje_04)\n"
      ],
      "metadata": {
        "id": "JgFBI-6sAXRi",
        "colab": {
          "base_uri": "https://localhost:8080/"
        },
        "outputId": "0a832e97-9a35-4936-ddb4-12255c896fc5"
      },
      "execution_count": 47,
      "outputs": [
        {
          "output_type": "stream",
          "name": "stdout",
          "text": [
            "Los nombres de las columnas del DataFrame son:\n",
            "['Cuarta', 'Quinta', 'Octava']\n",
            "\n",
            "Tipo de datos correspondendiente a las columnas:\n",
            "Cuarta    object\n",
            "Quinta    object\n",
            "Octava    object\n",
            "dtype: object\n",
            "\n",
            "Índice del dataset:\n",
            "DatetimeIndex(['2024-04-27', '2024-04-28', '2024-04-29', '2024-04-30'], dtype='datetime64[ns]', freq='D')\n",
            "\n",
            "La forma del DataFrame es:\n",
            "(4, 3)\n",
            "\n",
            "Los datos del DataFrame son:\n",
            "           Cuarta   Quinta                   Octava\n",
            "2024-04-27    New  $34,245  Meteorite Gray Metallic\n",
            "2024-04-28    New  $46,500         Sonic Gray Pearl\n",
            "2024-04-29    New  $40,395      Crystal Black Pearl\n",
            "2024-04-30   Used  $19,999                    White\n"
          ]
        }
      ]
    },
    {
      "cell_type": "markdown",
      "source": [
        "## Ejercicio 05\n",
        "\n",
        "Calcule el promedio de una de las columnas numéricas del DataFrame modificado.\n",
        "\n",
        "Cree el DataFrame df_02 conservando todas las columnas del DataFrame modificado y seleccionando los valores superiores al promedio en la columna numérica que tomó como referencia para el ejercicio.\n",
        "\n",
        "Muestre el resultado y las características del DataFrame."
      ],
      "metadata": {
        "id": "Xk2C7EimAhwQ"
      }
    },
    {
      "cell_type": "code",
      "source": [
        "# Escriba su código aquí\n",
        "\n",
        "promedio = df_01_modificado['Sexta'].mean()\n",
        "\n",
        "# Se filtran los elements superiores al promedio\n",
        "df_02 = df_01_modificado[df_01_modificado.Sexta > promedio]\n",
        "\n",
        "print(f\"El promedio de la columna 'Sexta' es: {promedio}\")\n",
        "\n",
        "print(\"Los nombres de las columnas del DataFrame son:\")\n",
        "print(df_02.columns.tolist())\n",
        "\n",
        "print(\"\\nTipo de datos correspondendiente a las columnas:\")\n",
        "print(df_02.dtypes)\n",
        "\n",
        "print(\"\\nÍndice del dataset:\")\n",
        "print(df_02.index)\n",
        "\n",
        "print(\"\\nLa forma del DataFrame es:\")\n",
        "print(df_02.shape)\n",
        "\n",
        "print(\"\\nLos datos del DataFrame son:\")\n",
        "print(df_02)\n"
      ],
      "metadata": {
        "id": "HxiFE6FkBTy6",
        "colab": {
          "base_uri": "https://localhost:8080/"
        },
        "outputId": "ab7247c2-1476-4a8e-be23-6e82ec359188"
      },
      "execution_count": 48,
      "outputs": [
        {
          "output_type": "stream",
          "name": "stdout",
          "text": [
            "El promedio de la columna 'Sexta' es: 4.3100000000000005\n",
            "Los nombres de las columnas del DataFrame son:\n",
            "['Primera', 'Segunda', 'Tercera', 'Cuarta', 'Quinta', 'Sexta', 'Séptima', 'Octava', 'Novena', 'Décima']\n",
            "\n",
            "Tipo de datos correspondendiente a las columnas:\n",
            "Primera      int64\n",
            "Segunda     object\n",
            "Tercera     object\n",
            "Cuarta      object\n",
            "Quinta      object\n",
            "Sexta      float64\n",
            "Séptima      int64\n",
            "Octava      object\n",
            "Novena      object\n",
            "Décima      object\n",
            "dtype: object\n",
            "\n",
            "Índice del dataset:\n",
            "DatetimeIndex(['2024-04-25', '2024-04-27', '2024-04-28', '2024-04-29',\n",
            "               '2024-04-30', '2024-05-03'],\n",
            "              dtype='datetime64[ns]', freq=None)\n",
            "\n",
            "La forma del DataFrame es:\n",
            "(6, 10)\n",
            "\n",
            "Los datos del DataFrame son:\n",
            "            Primera Segunda                    Tercera Cuarta   Quinta  Sexta  \\\n",
            "2024-04-25     2023   Honda              Ridgeline RTL    New  $46,370    4.8   \n",
            "2024-04-27     2023   Honda          CR-V Hybrid Sport    New  $34,245    4.7   \n",
            "2024-04-28     2022   Honda           Pilot TrailSport    New  $46,500    5.0   \n",
            "2024-04-29     2023   Honda  CR-V Hybrid Sport Touring    New  $40,395    4.4   \n",
            "2024-04-30     2018   Honda               Accord Sport   Used  $19,999    5.0   \n",
            "2024-05-03     2011   Honda                Accord EX-L   Used  $17,998    4.6   \n",
            "\n",
            "            Séptima                   Octava Novena  Décima  \n",
            "2024-04-25        9     Platinum White Pearl  Beige  Dealer  \n",
            "2024-04-27     2869  Meteorite Gray Metallic  Black  Dealer  \n",
            "2024-04-28       12         Sonic Gray Pearl  Black  Dealer  \n",
            "2024-04-29       12      Crystal Black Pearl  Black  Dealer  \n",
            "2024-04-30     3234                    White  Black  Dealer  \n",
            "2024-05-03        4                    Black  Black  Dealer  \n"
          ]
        }
      ]
    },
    {
      "cell_type": "markdown",
      "source": [
        "## Ejercicio 06\n",
        "\n",
        "Seleccione una columna del DataFrame **original** que contenga una variable categórica (si no hay variables categóricas cree una columna con variables categóricas a partir de alguna columna numérica del DataFrame).\n",
        "\n",
        "Utilice el método **groupby** para analizar la información del DataFrame a partir de la variable categórica seleccionada.\n",
        "\n",
        "Muestre el resultado y las características del DataFrame."
      ],
      "metadata": {
        "id": "0hXp2oN_BVap"
      }
    },
    {
      "cell_type": "code",
      "source": [
        "# Escriba su código aquí\n",
        "\n",
        "# La columna seleccionada es la de Fuel_Type que tiene el tipo de\n",
        "# Combustible de lso vehículos vendidos por honda y también se ha seleccionado\n",
        "# El año promedio de las ventas por tipo de combustible y el rating promedio\n",
        "grouped_data = data.groupby('Fuel_Type').agg({'Fuel_Type': 'count', \\\n",
        "                                    'Year': 'mean', 'Consumer_Rating': 'mean'})\n",
        "\n",
        "# Remplazamos nombres de columnas para mayor claridad\n",
        "grouped_data.columns = ['Fuel_Type_Count', 'Mean_Year', 'Consumer_Rating_Mean']\n",
        "\n",
        "print(\"Los nombres de las columnas del DataFrame son:\")\n",
        "print(grouped_data.columns.tolist())\n",
        "\n",
        "print(\"\\nTipo de datos correspondendiente a las columnas:\")\n",
        "print(grouped_data.dtypes)\n",
        "\n",
        "print(\"\\nÍndice del dataset:\")\n",
        "print(grouped_data.index)\n",
        "\n",
        "print(\"\\nLa forma del DataFrame es:\")\n",
        "print(grouped_data.shape)\n",
        "\n",
        "print(\"\\nLos datos del DataFrame son:\")\n",
        "print(grouped_data)\n",
        "\n",
        "# Se hace un análisis breve de los datos agrupados\n",
        "print(\"\\nAnálisis breve: Se ve mayor cantidad de ventas de vehículos a \\\n",
        "\\ngasolina y el año de promedio en ventas fue el 2020. El año de promedio\\\n",
        "\\nen ventas de los híbridos es el 2021, que es superior al de gasolina, \\\n",
        "\\nlo que muestra el cambio gradual de la preferencia. Además se ve que aún \\\n",
        "\\nlos dueños de los vehículos a gasolina prefieren estos sobre los híbridos\\\n",
        "\\npor un pequeño márgen, esto se ve reflejado en el promedio de rating que\\\n",
        "\\ndieron los dueños\")\n"
      ],
      "metadata": {
        "id": "TonF9r9RBhRE",
        "colab": {
          "base_uri": "https://localhost:8080/"
        },
        "outputId": "847a6ed0-13c2-41d2-c449-e12f1d9783a5"
      },
      "execution_count": 49,
      "outputs": [
        {
          "output_type": "stream",
          "name": "stdout",
          "text": [
            "Los nombres de las columnas del DataFrame son:\n",
            "['Fuel_Type_Count', 'Mean_Year', 'Consumer_Rating_Mean']\n",
            "\n",
            "Tipo de datos correspondendiente a las columnas:\n",
            "Fuel_Type_Count           int64\n",
            "Mean_Year               float64\n",
            "Consumer_Rating_Mean    float64\n",
            "dtype: object\n",
            "\n",
            "Índice del dataset:\n",
            "Index(['5-Speed A/T', '6-Speed M/T', 'A/T', 'CVT Transmission',\n",
            "       'Compressed Natural Gas', 'Gasoline', 'Hybrid'],\n",
            "      dtype='object', name='Fuel_Type')\n",
            "\n",
            "La forma del DataFrame es:\n",
            "(7, 3)\n",
            "\n",
            "Los datos del DataFrame son:\n",
            "                        Fuel_Type_Count    Mean_Year  Consumer_Rating_Mean\n",
            "Fuel_Type                                                                 \n",
            "5-Speed A/T                           1  2012.000000              4.500000\n",
            "6-Speed M/T                           2  2010.500000              4.850000\n",
            "A/T                                   2  2007.500000              4.450000\n",
            "CVT Transmission                      1  2017.000000              4.600000\n",
            "Compressed Natural Gas                1  2009.000000              4.400000\n",
            "Gasoline                           4393  2020.417710              4.577145\n",
            "Hybrid                              588  2021.280612              4.514116\n",
            "\n",
            "Análisis breve: Se ve mayor cantidad de ventas de vehículos a \n",
            "gasolina y el año de promedio en ventas fue el 2020. El año de promedio\n",
            "en ventas de los híbridos es el 2021, que es superior al de gasolina, \n",
            "lo que muestra el cambio gradual de la preferencia. Además se ve que aún \n",
            "los dueños de los vehículos a gasolina prefieren estos sobre los híbridos\n",
            "por un pequeño márgen, esto se ve reflejado en el promedio de rating que\n",
            "dieron los dueños\n"
          ]
        }
      ]
    },
    {
      "cell_type": "markdown",
      "source": [
        "## Ejercicio 07\n",
        "\n",
        "Cree una tabla dinámica, utilizando el método **pivottable**, para analizar la información del DataFrame **original**.\n",
        "\n",
        "Muestre el resultado y las características del DataFrame."
      ],
      "metadata": {
        "id": "6m4cwPKxBiLU"
      }
    },
    {
      "cell_type": "code",
      "source": [
        "# Escriba su código aquí\n",
        "\n",
        "# Create a pivot table\n",
        "pivot = pd.pivot_table(data, index='Year', columns='Fuel_Type',\\\n",
        "                       values='Consumer_Rating', aggfunc='mean')\n",
        "\n",
        "selected_columns_from_pivot = pivot.loc[:,['Gasoline', 'Hybrid']]\n",
        "\n",
        "print(\"Los nombres de las columnas del DataFrame son:\")\n",
        "print(selected_columns_from_pivot.columns.tolist())\n",
        "\n",
        "print(\"\\nTipo de datos correspondendiente a las columnas:\")\n",
        "print(selected_columns_from_pivot.dtypes)\n",
        "\n",
        "print(\"\\nÍndice del dataset:\")\n",
        "print(selected_columns_from_pivot.index)\n",
        "\n",
        "print(\"\\nLa forma del DataFrame es:\")\n",
        "print(selected_columns_from_pivot.shape)\n",
        "\n",
        "print(\"\\nLos datos del DataFrame son:\")\n",
        "print(selected_columns_from_pivot)\n",
        "# Se hace un análisis breve de los datos agrupados\n",
        "print(\"\\nAnálisis breve: Se observa que a partir del 2010 se ve la entrada \\\n",
        "\\nmasiva de autos híbridos Honda al mercado. Se ve una calificación progresiva\\\n",
        "\\nen aumento por parte de los compradores. Las calificaciones de los autos a \\\n",
        "\\na gasolina siempre ha sifo positiva con valores por encima de 4 en su mayoría.\\\n",
        "\\nEn la actualidad se observa una aprobación general de ambos tipos de autos.\")\n"
      ],
      "metadata": {
        "id": "CAZgcumWC6Of",
        "colab": {
          "base_uri": "https://localhost:8080/"
        },
        "outputId": "79b35fb4-a399-4b1e-b9e4-ff14fe0be32a"
      },
      "execution_count": 50,
      "outputs": [
        {
          "output_type": "stream",
          "name": "stdout",
          "text": [
            "Los nombres de las columnas del DataFrame son:\n",
            "['Gasoline', 'Hybrid']\n",
            "\n",
            "Tipo de datos correspondendiente a las columnas:\n",
            "Fuel_Type\n",
            "Gasoline    float64\n",
            "Hybrid      float64\n",
            "dtype: object\n",
            "\n",
            "Índice del dataset:\n",
            "Index([1981, 1987, 1989, 1991, 1992, 1993, 1997, 1998, 1999, 2000, 2001, 2002,\n",
            "       2003, 2004, 2005, 2006, 2007, 2008, 2009, 2010, 2011, 2012, 2013, 2014,\n",
            "       2015, 2016, 2017, 2018, 2019, 2020, 2021, 2022, 2023],\n",
            "      dtype='int64', name='Year')\n",
            "\n",
            "La forma del DataFrame es:\n",
            "(33, 2)\n",
            "\n",
            "Los datos del DataFrame son:\n",
            "Fuel_Type  Gasoline    Hybrid\n",
            "Year                         \n",
            "1981       4.600000       NaN\n",
            "1987       4.300000       NaN\n",
            "1989       3.400000       NaN\n",
            "1991       4.600000       NaN\n",
            "1992       4.700000       NaN\n",
            "1993       3.500000       NaN\n",
            "1997       4.566667       NaN\n",
            "1998       4.450000       NaN\n",
            "1999       4.600000       NaN\n",
            "2000       4.666667       NaN\n",
            "2001       4.660000       NaN\n",
            "2002       4.150000       NaN\n",
            "2003       4.450000       NaN\n",
            "2004       4.540000       NaN\n",
            "2005       4.440000  2.200000\n",
            "2006       4.156250       NaN\n",
            "2007       4.311111       NaN\n",
            "2008       4.496154       NaN\n",
            "2009       4.459259       NaN\n",
            "2010       4.307692  4.333333\n",
            "2011       4.477778  3.700000\n",
            "2012       4.520690  4.060000\n",
            "2013       4.552941  4.340000\n",
            "2014       4.541667  4.700000\n",
            "2015       4.540000  4.333333\n",
            "2016       4.605128  4.850000\n",
            "2017       4.602400  4.572727\n",
            "2018       4.584916  4.392593\n",
            "2019       4.540227  4.529787\n",
            "2020       4.588679  4.653125\n",
            "2021       4.566555  4.494737\n",
            "2022       4.593923  4.579375\n",
            "2023       4.593498  4.497541\n",
            "\n",
            "Análisis breve: Se observa que a partir del 2010 se ve la entrada \n",
            "masiva de autos híbridos Honda al mercado. Se ve una calificación progresiva\n",
            "en aumento por parte de los compradores. Las calificaciones de los autos a \n",
            "a gasolina siempre ha sifo positiva con valores por encima de 4 en su mayoría.\n",
            "En la actualidad se observa una aprobación general de ambos tipos de autos.\n"
          ]
        }
      ]
    },
    {
      "cell_type": "markdown",
      "source": [
        "## Ejercicio 08\n",
        "\n",
        "Encuentre todos los valores nulos del DataFrame original y cambie esos valores nulos con la media de la respectiva columna.\n",
        "\n",
        "Muestre el resultado y las características del DataFrame."
      ],
      "metadata": {
        "id": "VHi0_cAODjvM"
      }
    },
    {
      "cell_type": "code",
      "source": [
        "# Escriba su código aquí\n",
        "\n",
        "# Chequear si hay columnas con valores NA\n",
        "print(\"\\nReporte de NAs por columnas del DataFrame original:\", \\\n",
        "      data.isna().sum(), sep = \"\\n\")\n",
        "\n",
        "# Calcular la media de cada columna numérica\n",
        "numeric_means = data.select_dtypes(include='number').mean()\n",
        "\n",
        "# Reemplazar los valores nulos con la media respectiva de la columna numérica\n",
        "df_filled_numeric = data.fillna(numeric_means)\n",
        "\n",
        "# Se muestra el reporte de valores NA después del proceso de relleno\n",
        "print(\"\\nReporte de NAs por columnas del DataFrame lleanod con promedios:\", \\\n",
        "      df_filled_numeric.isna().sum(), sep = \"\\n\")\n",
        "\n",
        "\n",
        "# Mostrar el resultado y las características del DataFrame\n",
        "print(\"\\nMedia de cada columna numérica:\")\n",
        "print(numeric_means)\n",
        "print(\"\\nDataFrame con valores nulos en columnas numéricas \\\n",
        "reemplazados por la media respectiva:\")\n",
        "print(df_filled_numeric.info())\n"
      ],
      "metadata": {
        "id": "hW6O_QNQDnbq",
        "colab": {
          "base_uri": "https://localhost:8080/"
        },
        "outputId": "456e4331-3506-4420-de5d-c71b75ac73f4"
      },
      "execution_count": 51,
      "outputs": [
        {
          "output_type": "stream",
          "name": "stdout",
          "text": [
            "\n",
            "Reporte de NAs por columnas del DataFrame original:\n",
            "Year                          0\n",
            "Make                          0\n",
            "Model                         0\n",
            "Condition                     0\n",
            "Price                         0\n",
            "Consumer_Rating               0\n",
            "Consumer_Review_#             0\n",
            "Exterior_Color               11\n",
            "Interior_Color               11\n",
            "Drivetrain                   11\n",
            "MPG                        1485\n",
            "Fuel_Type                    11\n",
            "Transmission                 11\n",
            "Engine                       11\n",
            "VIN                          11\n",
            "Stock_#                      11\n",
            "Mileage                      11\n",
            "Comfort_Rating              552\n",
            "Interior_Design_Rating      552\n",
            "Performance_Rating          552\n",
            "Value_For_Money_Rating      552\n",
            "Exterior_Styling_Rating     552\n",
            "Reliability_Rating          552\n",
            "State                        73\n",
            "Seller_Type                  73\n",
            "dtype: int64\n",
            "\n",
            "Reporte de NAs por columnas del DataFrame lleanod con promedios:\n",
            "Year                          0\n",
            "Make                          0\n",
            "Model                         0\n",
            "Condition                     0\n",
            "Price                         0\n",
            "Consumer_Rating               0\n",
            "Consumer_Review_#             0\n",
            "Exterior_Color               11\n",
            "Interior_Color               11\n",
            "Drivetrain                   11\n",
            "MPG                        1485\n",
            "Fuel_Type                    11\n",
            "Transmission                 11\n",
            "Engine                       11\n",
            "VIN                          11\n",
            "Stock_#                      11\n",
            "Mileage                      11\n",
            "Comfort_Rating                0\n",
            "Interior_Design_Rating        0\n",
            "Performance_Rating            0\n",
            "Value_For_Money_Rating        0\n",
            "Exterior_Styling_Rating       0\n",
            "Reliability_Rating            0\n",
            "State                        73\n",
            "Seller_Type                  73\n",
            "dtype: int64\n",
            "\n",
            "Media de cada columna numérica:\n",
            "Year                       2020.507702\n",
            "Consumer_Rating               4.569654\n",
            "Consumer_Review_#          1288.366673\n",
            "Comfort_Rating                4.817540\n",
            "Interior_Design_Rating        4.706814\n",
            "Performance_Rating            4.663931\n",
            "Value_For_Money_Rating        4.580976\n",
            "Exterior_Styling_Rating       4.731954\n",
            "Reliability_Rating            4.866269\n",
            "dtype: float64\n",
            "\n",
            "DataFrame con valores nulos en columnas numéricas reemplazados por la media respectiva:\n",
            "<class 'pandas.core.frame.DataFrame'>\n",
            "RangeIndex: 4999 entries, 0 to 4998\n",
            "Data columns (total 25 columns):\n",
            " #   Column                   Non-Null Count  Dtype  \n",
            "---  ------                   --------------  -----  \n",
            " 0   Year                     4999 non-null   int64  \n",
            " 1   Make                     4999 non-null   object \n",
            " 2   Model                    4999 non-null   object \n",
            " 3   Condition                4999 non-null   object \n",
            " 4   Price                    4999 non-null   object \n",
            " 5   Consumer_Rating          4999 non-null   float64\n",
            " 6   Consumer_Review_#        4999 non-null   int64  \n",
            " 7   Exterior_Color           4988 non-null   object \n",
            " 8   Interior_Color           4988 non-null   object \n",
            " 9   Drivetrain               4988 non-null   object \n",
            " 10  MPG                      3514 non-null   object \n",
            " 11  Fuel_Type                4988 non-null   object \n",
            " 12  Transmission             4988 non-null   object \n",
            " 13  Engine                   4988 non-null   object \n",
            " 14  VIN                      4988 non-null   object \n",
            " 15  Stock_#                  4988 non-null   object \n",
            " 16  Mileage                  4988 non-null   object \n",
            " 17  Comfort_Rating           4999 non-null   float64\n",
            " 18  Interior_Design_Rating   4999 non-null   float64\n",
            " 19  Performance_Rating       4999 non-null   float64\n",
            " 20  Value_For_Money_Rating   4999 non-null   float64\n",
            " 21  Exterior_Styling_Rating  4999 non-null   float64\n",
            " 22  Reliability_Rating       4999 non-null   float64\n",
            " 23  State                    4926 non-null   object \n",
            " 24  Seller_Type              4926 non-null   object \n",
            "dtypes: float64(7), int64(2), object(16)\n",
            "memory usage: 976.5+ KB\n",
            "None\n"
          ]
        }
      ]
    },
    {
      "cell_type": "markdown",
      "source": [
        "## Ejercicio 09\n",
        "\n",
        "Encuentre todos los valores nulos del DataFrame original y elimine la fila correspondiente.\n",
        "\n",
        "Muestre el resultado y las características del DataFrame.\n",
        "\n"
      ],
      "metadata": {
        "id": "5TvYWBQ5DpOR"
      }
    },
    {
      "cell_type": "code",
      "source": [
        "# Escriba su código aquí\n",
        "\n",
        "# Chequear si hay columnas con valores NA\n",
        "print(\"\\nReporte de NAs por columnas del DataFrame original:\", \\\n",
        "      data.isna().sum(), sep = \"\\n\")\n",
        "\n",
        "data_sin_na = data.dropna()\n",
        "print(\"\\nReporte de NAs por columnas después de eliminar las filas valores NA:\",\\\n",
        "      data_sin_na.isna().sum(), sep = \"\\n\")\n",
        "\n",
        "# Chequear la forma del DataFrame después de suprimir las filas con valores NA\n",
        "print(\"La forma del DataFrame original antes de suprimir las filas con valores \\\n",
        "NA es:\", data.shape, sep = \"\\n\")\n",
        "\n",
        "# Chequear la forma del DataFrame después de suprimir las filas con valores NA\n",
        "print(\"La forma del nuevo DataFrame después de suprimir las filas con valores \\\n",
        "NA es:\", data_sin_na.shape, sep = \"\\n\")\n"
      ],
      "metadata": {
        "id": "SOr5DFVZDsqk",
        "colab": {
          "base_uri": "https://localhost:8080/"
        },
        "outputId": "149a9981-5157-4a92-905d-54f13e1ff995"
      },
      "execution_count": 52,
      "outputs": [
        {
          "output_type": "stream",
          "name": "stdout",
          "text": [
            "\n",
            "Reporte de NAs por columnas del DataFrame original:\n",
            "Year                          0\n",
            "Make                          0\n",
            "Model                         0\n",
            "Condition                     0\n",
            "Price                         0\n",
            "Consumer_Rating               0\n",
            "Consumer_Review_#             0\n",
            "Exterior_Color               11\n",
            "Interior_Color               11\n",
            "Drivetrain                   11\n",
            "MPG                        1485\n",
            "Fuel_Type                    11\n",
            "Transmission                 11\n",
            "Engine                       11\n",
            "VIN                          11\n",
            "Stock_#                      11\n",
            "Mileage                      11\n",
            "Comfort_Rating              552\n",
            "Interior_Design_Rating      552\n",
            "Performance_Rating          552\n",
            "Value_For_Money_Rating      552\n",
            "Exterior_Styling_Rating     552\n",
            "Reliability_Rating          552\n",
            "State                        73\n",
            "Seller_Type                  73\n",
            "dtype: int64\n",
            "\n",
            "Reporte de NAs por columnas después de eliminar las filas valores NA:\n",
            "Year                       0\n",
            "Make                       0\n",
            "Model                      0\n",
            "Condition                  0\n",
            "Price                      0\n",
            "Consumer_Rating            0\n",
            "Consumer_Review_#          0\n",
            "Exterior_Color             0\n",
            "Interior_Color             0\n",
            "Drivetrain                 0\n",
            "MPG                        0\n",
            "Fuel_Type                  0\n",
            "Transmission               0\n",
            "Engine                     0\n",
            "VIN                        0\n",
            "Stock_#                    0\n",
            "Mileage                    0\n",
            "Comfort_Rating             0\n",
            "Interior_Design_Rating     0\n",
            "Performance_Rating         0\n",
            "Value_For_Money_Rating     0\n",
            "Exterior_Styling_Rating    0\n",
            "Reliability_Rating         0\n",
            "State                      0\n",
            "Seller_Type                0\n",
            "dtype: int64\n",
            "La forma del DataFrame original antes de suprimir las filas con valores NA es:\n",
            "(4999, 25)\n",
            "La forma del nuevo DataFrame después de suprimir las filas con valores NA es:\n",
            "(3385, 25)\n"
          ]
        }
      ]
    }
  ]
}