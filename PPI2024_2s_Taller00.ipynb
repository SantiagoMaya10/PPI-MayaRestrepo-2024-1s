{
  "nbformat": 4,
  "nbformat_minor": 0,
  "metadata": {
    "colab": {
      "provenance": [],
      "toc_visible": true,
      "authorship_tag": "ABX9TyMDPCSFGR9h+H2+bfJACkvd",
      "include_colab_link": true
    },
    "kernelspec": {
      "name": "python3",
      "display_name": "Python 3"
    },
    "language_info": {
      "name": "python"
    }
  },
  "cells": [
    {
      "cell_type": "markdown",
      "metadata": {
        "id": "view-in-github",
        "colab_type": "text"
      },
      "source": [
        "<a href=\"https://colab.research.google.com/github/SantiagoMaya10/PPI-MayaRestrepo-2024-2s/blob/main/PPI2024_2s_Taller00.ipynb\" target=\"_parent\"><img src=\"https://colab.research.google.com/assets/colab-badge.svg\" alt=\"Open In Colab\"/></a>"
      ]
    },
    {
      "cell_type": "markdown",
      "source": [
        "# Título principal: ejemplo de for en python"
      ],
      "metadata": {
        "id": "AgePjEh9-YQH"
      }
    },
    {
      "cell_type": "code",
      "execution_count": null,
      "metadata": {
        "id": "uKm8XP9a7X6N"
      },
      "outputs": [],
      "source": [
        "print(\"hola\")\n",
        "\n",
        "\n",
        "for i in range(10):\n",
        "  print(i)\n",
        "  for j in range(20):\n",
        "    print(10)"
      ]
    },
    {
      "cell_type": "markdown",
      "source": [
        "## Subtítulo anidado: ejemplo de while en python"
      ],
      "metadata": {
        "id": "e91pxG4e_mcT"
      }
    },
    {
      "cell_type": "code",
      "source": [
        "i=20\n",
        "condicion = True\n",
        "while (condicion):\n",
        "  print(i)\n",
        "  i=i-1\n",
        "  if(i== 10):\n",
        "    break"
      ],
      "metadata": {
        "colab": {
          "base_uri": "https://localhost:8080/"
        },
        "id": "y5AazS8q_0yr",
        "outputId": "70d6c474-4764-4493-9d4f-3d96261a253c"
      },
      "execution_count": 8,
      "outputs": [
        {
          "output_type": "stream",
          "name": "stdout",
          "text": [
            "20\n",
            "19\n",
            "18\n",
            "17\n",
            "16\n",
            "15\n",
            "14\n",
            "13\n",
            "12\n",
            "11\n"
          ]
        }
      ]
    }
  ]
}