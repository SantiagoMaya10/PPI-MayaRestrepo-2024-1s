{
  "nbformat": 4,
  "nbformat_minor": 0,
  "metadata": {
    "colab": {
      "provenance": [],
      "toc_visible": true,
      "include_colab_link": true
    },
    "kernelspec": {
      "name": "python3",
      "display_name": "Python 3"
    },
    "language_info": {
      "name": "python"
    }
  },
  "cells": [
    {
      "cell_type": "markdown",
      "metadata": {
        "id": "view-in-github",
        "colab_type": "text"
      },
      "source": [
        "<a href=\"https://colab.research.google.com/github/SantiagoMaya10/PPI-MayaRestrepo-2024-2s/blob/main/SI00_Gu%C3%ADa_de_estilo_de_Python.ipynb\" target=\"_parent\"><img src=\"https://colab.research.google.com/assets/colab-badge.svg\" alt=\"Open In Colab\"/></a>"
      ]
    },
    {
      "cell_type": "markdown",
      "source": [
        "##«*El pasado es un cadáver que debes sepultar*».\n",
        "###[Omar Khayyam](https://en.wikipedia.org/wiki/Omar_Khayyam)\n"
      ],
      "metadata": {
        "id": "vw4vyHJgIWfA"
      }
    },
    {
      "cell_type": "markdown",
      "source": [
        "# SI00 Guía de estilo de Python\n",
        "\n",
        "Modifique los códigos en las casillas indicadas para que el código funcione de forma correcta y se adapte al PEP8.\n",
        "\n",
        "Recuerde incluir los comentarios en el código y documentar las funciones con docstrings al estilo de Google."
      ],
      "metadata": {
        "id": "dgqyju__IQ2K"
      }
    },
    {
      "cell_type": "markdown",
      "source": [
        "## Ejercicio 00\n",
        "\n",
        "\n",
        "\n"
      ],
      "metadata": {
        "id": "4kpeP548VfWv"
      }
    },
    {
      "cell_type": "code",
      "source": [
        "def contador_palabras(cadena_texto):\n",
        "    contador=0\n",
        "    palabras=cadena_texto.split()\n",
        "    para palabra in palabras:\n",
        "        contador+=1\n",
        "    imprime(\"El número de palabras es:\",contador)\n",
        "\n",
        "cadena_texto=input(\"Ingrese una cadena de texto: \")\n",
        "contador_palabras(cadena_texto)"
      ],
      "metadata": {
        "id": "n2v2uvLkZD0s"
      },
      "execution_count": null,
      "outputs": []
    },
    {
      "cell_type": "code",
      "source": [
        "# Modifique en esta casilla el código anterior para que se ajuste al PEP8\n"
      ],
      "metadata": {
        "id": "SMQWLfFhKsaO"
      },
      "execution_count": null,
      "outputs": []
    },
    {
      "cell_type": "markdown",
      "source": [
        "## Ejercicio 01\n",
        "\n"
      ],
      "metadata": {
        "id": "AWpJFnkfZE8X"
      }
    },
    {
      "cell_type": "code",
      "source": [
        "def generar_primos(N):\n",
        "    primos=[2]\n",
        "    para num en rango(3,N+1):\n",
        "        para i en rango(2,num):\n",
        "            si(num%i)==0:\n",
        "                romper\n",
        "        demás:\n",
        "            primos.append(num)\n",
        "    imprime(\"Los primeros\", N, \"números primos son:\")\n",
        "    imprime(primos)\n",
        "\n",
        "N=int(input(\"Ingrese el número de primos a generar: \"))\n",
        "generar_primos(N)"
      ],
      "metadata": {
        "id": "nEHnjFNraLvf"
      },
      "execution_count": null,
      "outputs": []
    },
    {
      "cell_type": "code",
      "source": [
        "# Modifique en esta casilla el código anterior para que se ajuste al PEP8\n"
      ],
      "metadata": {
        "id": "CN9EHSJKK1Sn"
      },
      "execution_count": null,
      "outputs": []
    },
    {
      "cell_type": "markdown",
      "source": [
        "## Ejercicio 02"
      ],
      "metadata": {
        "id": "0hEyKcvlaM1p"
      }
    },
    {
      "cell_type": "code",
      "source": [
        "def calcular_promedio():\n",
        "    entrada=input(\"Ingrese los números separados por comas: \")\n",
        "    números=[int(x) para x en entrada.split(\",\")]\n",
        "    suma=sum(números)\n",
        "    promedio=suma/len(números)\n",
        "    imprime(\"El promedio es: \",promedio)\n",
        "\n",
        "calcular_promedio()"
      ],
      "metadata": {
        "id": "yN0MvrQ4ao7v"
      },
      "execution_count": null,
      "outputs": []
    },
    {
      "cell_type": "code",
      "source": [
        "# Modifique en esta casilla el código anterior para que se ajuste al PEP8\n"
      ],
      "metadata": {
        "id": "FifgJ7-EK2xH"
      },
      "execution_count": null,
      "outputs": []
    },
    {
      "cell_type": "markdown",
      "source": [
        "## Ejercicio 03"
      ],
      "metadata": {
        "id": "qj50yF_aP_yM"
      }
    },
    {
      "cell_type": "code",
      "source": [
        "def convertir_temperatura():\n",
        "    temp=input(\"Ingrese la temperatura (ej. 32C o 90F): \")\n",
        "    escala=temp[-1]\n",
        "    temperatura=int(temp[:-1])\n",
        "    si escala=='C':\n",
        "        resultado=(temperatura*9/5)+32\n",
        "        imprime(\"La temperatura en Fahrenheit es: \", resultado)\n",
        "    demás si escala=='F':\n",
        "        resultado=(temperatura-32)*5/9\n",
        "        imprime(\"La temperatura en Celsius es: \", resultado)\n",
        "    demás:\n",
        "        imprime(\"Por favor, ingrese una temperatura válida.\")\n",
        "\n",
        "convertir_temperatura()"
      ],
      "metadata": {
        "id": "YDbBS606QSxx"
      },
      "execution_count": null,
      "outputs": []
    },
    {
      "cell_type": "code",
      "source": [
        "# Modifique en esta casilla el código anterior para que se ajuste al PEP8\n"
      ],
      "metadata": {
        "id": "bdS-Re69K4Gr"
      },
      "execution_count": null,
      "outputs": []
    },
    {
      "cell_type": "markdown",
      "source": [
        "## Ejercicio 04"
      ],
      "metadata": {
        "id": "4852xGV9QBaQ"
      }
    },
    {
      "cell_type": "code",
      "source": [
        "import random\n",
        "\n",
        "def adivina_el_numero():\n",
        "    numero_aleatorio=random.randint(1,100)\n",
        "    adivinado=False\n",
        "    intentos=0\n",
        "    mientras no adivinado:\n",
        "        intento=int(input(\"Adivina el número: \"))\n",
        "        si intento<numero_aleatorio:\n",
        "            imprime(\"El número es más grande.\")\n",
        "        si no, si intento>numero_aleatorio:\n",
        "            imprime(\"El número es más pequeño.\")\n",
        "        demás:\n",
        "            imprime(\"¡Felicidades! Adivinaste el número en\", intentos, \"intentos.\")\n",
        "            adivinado=True\n",
        "        intentos+=1\n",
        "\n",
        "adivina_el_numero()"
      ],
      "metadata": {
        "id": "xNrof7kmQUED"
      },
      "execution_count": null,
      "outputs": []
    },
    {
      "cell_type": "code",
      "source": [
        "# Modifique en esta casilla el código anterior para que se ajuste al PEP8\n"
      ],
      "metadata": {
        "id": "IUhNlDkgK5l_"
      },
      "execution_count": null,
      "outputs": []
    },
    {
      "cell_type": "markdown",
      "source": [
        "## Ejercicio 05"
      ],
      "metadata": {
        "id": "ztj4sS1hQDtc"
      }
    },
    {
      "cell_type": "code",
      "source": [
        "import random\n",
        "import string\n",
        "\n",
        "def generar_contraseña(longitud):\n",
        "    caracteres=string.ascii_letters+string.digits+string.punctuation\n",
        "    contraseña=''.join(random.choice(caracteres) para i en rango(longitud))\n",
        "    imprime(\"La contraseña generada es: \", contraseña)\n",
        "\n",
        "longitud=int(input(\"Ingrese la longitud de la contraseña: \"))\n",
        "generar_contraseña(longitud)"
      ],
      "metadata": {
        "id": "jg0TczRIQVsk"
      },
      "execution_count": null,
      "outputs": []
    },
    {
      "cell_type": "code",
      "source": [
        "# Modifique en esta casilla el código anterior para que se ajuste al PEP8\n"
      ],
      "metadata": {
        "id": "GA_5dcsnK7Hr"
      },
      "execution_count": null,
      "outputs": []
    },
    {
      "cell_type": "markdown",
      "source": [
        "## Ejercicio 06"
      ],
      "metadata": {
        "id": "hATd-LMUQGP_"
      }
    },
    {
      "cell_type": "code",
      "source": [
        "def calcular_interes_compuesto():\n",
        "    principal=float(input(\"Ingrese el monto principal: \"))\n",
        "    tasa=float(input(\"Ingrese la tasa de interés anual (en porcentaje): \"))\n",
        "    años=int(input(\"Ingrese el número de años: \"))\n",
        "    resultado=principal*(1+tasa/100)**años\n",
        "    imprime(\"El valor futuro de la inversión es: \", resultado)\n",
        "\n",
        "calcular_interes_compuesto()"
      ],
      "metadata": {
        "id": "KWFwRqE7QX0H"
      },
      "execution_count": null,
      "outputs": []
    },
    {
      "cell_type": "code",
      "source": [
        "# Modifique en esta casilla el código anterior para que se ajuste al PEP8\n"
      ],
      "metadata": {
        "id": "2JuhtZdmK8tO"
      },
      "execution_count": null,
      "outputs": []
    },
    {
      "cell_type": "markdown",
      "source": [
        "## Ejercicio 07"
      ],
      "metadata": {
        "id": "ZNOMGOKfQHkc"
      }
    },
    {
      "cell_type": "code",
      "source": [
        "def ordenar_lista():\n",
        "    lista=[int(x) para x en input(\"Ingrese los números separados por comas: \").split(\",\")]\n",
        "    orden=input(\"¿Ordenar en orden ascendente (a) o descendente (d)? \")\n",
        "    si orden=='a':\n",
        "        lista.sort()\n",
        "    demás si orden=='d':\n",
        "        lista.sort(reverse=Verdadero)\n",
        "    imprime(\"La lista ordenada es: \", lista)\n",
        "\n",
        "ordenar_lista()"
      ],
      "metadata": {
        "id": "EFyBSu0OQZ5X"
      },
      "execution_count": null,
      "outputs": []
    },
    {
      "cell_type": "code",
      "source": [
        "# Modifique en esta casilla el código anterior para que se ajuste al PEP8\n"
      ],
      "metadata": {
        "id": "RXmZuoc_K-Uw"
      },
      "execution_count": null,
      "outputs": []
    },
    {
      "cell_type": "markdown",
      "source": [
        "## Ejercicio 08"
      ],
      "metadata": {
        "id": "k1SR_Y-RQJC1"
      }
    },
    {
      "cell_type": "code",
      "source": [
        "def calcular_imc():\n",
        "    peso=float(input(\"Ingrese su peso en kilogramos: \"))\n",
        "    altura=float(input(\"Ingrese su altura en metros: \"))\n",
        "    imc=peso/(altura**2)\n",
        "    imprime(\"Su IMC es: \", imc)\n",
        "    si imc<18.5:\n",
        "        imprime(\"Usted está bajo peso.\")\n",
        "    demás si 18.5<=imc<25:\n",
        "        imprime(\"Usted tiene un peso normal.\")\n",
        "    demás si 25<=imc<30:\n",
        "        imprime(\"Usted tiene sobrepeso.\")\n",
        "    demás:\n",
        "        imprime(\"Usted tiene obesidad.\")\n",
        "\n",
        "calcular_imc()"
      ],
      "metadata": {
        "id": "1Wky-Hp7Qa1P"
      },
      "execution_count": null,
      "outputs": []
    },
    {
      "cell_type": "code",
      "source": [
        "# Modifique en esta casilla el código anterior para que se ajuste al PEP8\n"
      ],
      "metadata": {
        "id": "-yFIOR5mLAal"
      },
      "execution_count": null,
      "outputs": []
    },
    {
      "cell_type": "markdown",
      "source": [
        "## Ejercicio 09"
      ],
      "metadata": {
        "id": "VlxrpT47QKdX"
      }
    },
    {
      "cell_type": "code",
      "source": [
        "def generar_patron(filas):\n",
        "    para i en rango(1,filas+1):\n",
        "        imprime(\"*\"*i)\n",
        "\n",
        "filas=int(input(\"Ingrese el número de filas del patrón: \"))\n",
        "generar_patron(filas)"
      ],
      "metadata": {
        "id": "lwx5c9ecQeTD"
      },
      "execution_count": null,
      "outputs": []
    },
    {
      "cell_type": "code",
      "source": [
        "# Modifique en esta casilla el código anterior para que se ajuste al PEP8\n"
      ],
      "metadata": {
        "id": "3tJqbO68LB5C"
      },
      "execution_count": null,
      "outputs": []
    }
  ]
}