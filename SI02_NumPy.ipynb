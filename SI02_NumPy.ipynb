{
  "nbformat": 4,
  "nbformat_minor": 0,
  "metadata": {
    "colab": {
      "provenance": [],
      "toc_visible": true,
      "include_colab_link": true
    },
    "kernelspec": {
      "name": "python3",
      "display_name": "Python 3"
    }
  },
  "cells": [
    {
      "cell_type": "markdown",
      "metadata": {
        "id": "view-in-github",
        "colab_type": "text"
      },
      "source": [
        "<a href=\"https://colab.research.google.com/github/SantiagoMaya10/PPI-MayaRestrepo-2024-1s/blob/main/SI02_NumPy.ipynb\" target=\"_parent\"><img src=\"https://colab.research.google.com/assets/colab-badge.svg\" alt=\"Open In Colab\"/></a>"
      ]
    },
    {
      "cell_type": "markdown",
      "source": [
        "## «*Olvidaba que en todo combate entre el fanatismo y el sentido común, pocas veces logra este último imponerse*».\n",
        "### [Marguerite Yourcenar](https://es.wikipedia.org/wiki/Marguerite_Yourcenar)"
      ],
      "metadata": {
        "id": "bDjqO634RdpU"
      }
    },
    {
      "cell_type": "markdown",
      "metadata": {
        "id": "mCkyuX8p2SYu"
      },
      "source": [
        "# SI02 NumPy\n",
        "\n",
        "Actividad individual.\n",
        "\n",
        "Resuelva los siguientes ejercicios con códigos que se ajusten al PEP8. Recuerde incluir los comentarios en el código y documentar las funciones con docstrings al estilo de Google.\n",
        "\n",
        "**Importante:**\n",
        "\n",
        "**no se permite la utilización de ciclos (for or while) para resolver los ejercicios.**\n",
        "\n",
        "**todos los ejercicios deben ser resueltos con NumPy.**"
      ]
    },
    {
      "cell_type": "markdown",
      "source": [
        "## Ejercicio 00\n",
        "\n",
        "Cree el arreglo_00 de 15 **columnas** y 1000 **filas** de la siguiente manera:\n",
        "\n",
        "* cinco columnas con números aleatorios provenientes de una distribución normal de media 0 y desviación típica 1. Utilice como semilla el número de su documento de identidad sumado con el número de la columna.\n",
        "\n",
        "* cinco columnas con números aleatorios enteros en los siguientes intervalos: 200 a 300, 400 a 600, 0 a 360, 100 a 900, y 1000 a 2000. Utilice como semilla el número de su documento de identidad.\n",
        "\n",
        "* cinco columnas con números aleatorios binarios (0,1)\n",
        "\n",
        "Muestre el resultado y las características del arreglo."
      ],
      "metadata": {
        "id": "EcsCzNpONXPs"
      }
    },
    {
      "cell_type": "code",
      "source": [
        "# Escriba aquí su códig\n",
        "import numpy as np\n",
        "\n",
        "def crear_arreglo():\n",
        "    # Semilla para generar números aleatorios\n",
        "    semilla = 1017276204  # Número de documento de identidad\n",
        "\n",
        "    # Generar cinco columnas con números aleatorios de distribución normal\n",
        "    np.random.seed(semilla+1)\n",
        "    normal_column_1 = np.random.normal(0, 1, size=(1000, 1))\n",
        "    np.random.seed(semilla+2)\n",
        "    normal_column_2 = np.random.normal(0, 1, size=(1000, 1))\n",
        "    np.random.seed(semilla+3)\n",
        "    normal_column_3 = np.random.normal(0, 1, size=(1000, 1))\n",
        "    np.random.seed(semilla+4)\n",
        "    normal_column_4 = np.random.normal(0, 1, size=(1000, 1))\n",
        "    np.random.seed(semilla+5)\n",
        "    normal_column_5 = np.random.normal(0, 1, size=(1000, 1))\n",
        "\n",
        "    normal_columns = np.column_stack([normal_column_1,\n",
        "                               normal_column_2,\n",
        "                               normal_column_3,\n",
        "                               normal_column_4,\n",
        "                               normal_column_5])\n",
        "    print(\"Foma de la sprimeras 5 columnas: \")\n",
        "    print(normal_columns.shape)\n",
        "\n",
        "\n",
        "    # Generar cinco columnas con números aleatorios enteros en diferentes intervalos\n",
        "    np.random.seed(semilla)\n",
        "    entero_columns = np.column_stack([\n",
        "        np.random.randint(200, 301, size=1000),  # Intervalo 200 a 300\n",
        "        np.random.randint(400, 601, size=1000),  # Intervalo 400 a 600\n",
        "        np.random.randint(0, 361, size=1000),    # Intervalo 0 a 360\n",
        "        np.random.randint(100, 901, size=1000),  # Intervalo 100 a 900\n",
        "        np.random.randint(1000, 2001, size=1000) # Intervalo 1000 a 2000\n",
        "    ])\n",
        "    print(\"Foma de la segundas 5 columnas: \")\n",
        "    print(normal_columns.shape)\n",
        "\n",
        "\n",
        "    # Generar cinco columnas con números aleatorios binarios\n",
        "    binario_columns = np.random.randint(0, 2, size=(1000, 5))\n",
        "    print(\"Foma de la terceras 5 columnas: \")\n",
        "    print(normal_columns.shape)\n",
        "\n",
        "    # Concatenar las columnas para formar el arreglo completo\n",
        "    arreglo_00 = np.column_stack([normal_columns, entero_columns, binario_columns])\n",
        "\n",
        "    return arreglo_00\n",
        "\n",
        "# Crear el arreglo\n",
        "arreglo_00 = crear_arreglo()\n",
        "\n",
        "# Mostrar el arreglo y sus características\n",
        "print(\"Arreglo:\")\n",
        "print(arreglo_00)\n",
        "print(\"\\nDimensiones del arreglo:\", arreglo_00.shape)\n",
        "print(\"Tipo de datos del arreglo:\", arreglo_00.dtype)\n",
        "print(\"Valor máximo en el arreglo:\", np.max(arreglo_00))\n",
        "print(\"Valor mínimo en el arreglo:\", np.min(arreglo_00))\n"
      ],
      "metadata": {
        "id": "RfYApVxRNj0N",
        "outputId": "455ebe39-e14f-48fd-d0dd-e995999fdbe5",
        "colab": {
          "base_uri": "https://localhost:8080/"
        }
      },
      "execution_count": 17,
      "outputs": [
        {
          "output_type": "stream",
          "name": "stdout",
          "text": [
            "Foma de la sprimeras 5 columnas: \n",
            "(1000, 5)\n",
            "Foma de la segundas 5 columnas: \n",
            "(1000, 5)\n",
            "Foma de la terceras 5 columnas: \n",
            "(1000, 5)\n",
            "Arreglo:\n",
            "[[ 1.82228728  0.10334738  0.31070983 ...  1.          0.\n",
            "   1.        ]\n",
            " [ 1.62350749  0.96107289  1.13073118 ...  0.          1.\n",
            "   0.        ]\n",
            " [ 0.76672338  1.52463954 -0.88588701 ...  0.          0.\n",
            "   1.        ]\n",
            " ...\n",
            " [-0.92884616  1.23811536  0.47602158 ...  0.          0.\n",
            "   0.        ]\n",
            " [-0.20577863 -0.03659333  0.77829626 ...  1.          1.\n",
            "   1.        ]\n",
            " [-0.33570516 -1.80734874 -1.39017678 ...  1.          0.\n",
            "   1.        ]]\n",
            "\n",
            "Dimensiones del arreglo: (1000, 15)\n",
            "Tipo de datos del arreglo: float64\n",
            "Valor máximo en el arreglo: 1997.0\n",
            "Valor mínimo en el arreglo: -3.434243141672083\n"
          ]
        }
      ]
    },
    {
      "cell_type": "markdown",
      "source": [
        "## Ejercicio 01\n",
        "\n",
        "Cree dos arreglos, de 15 columnas y 20 filas cada uno, a partir del arreglo_00.\n",
        "\n",
        "Calcule el producto elemento a elemento entre los dos arreglos creados\n",
        "\n",
        "Muestre el resultado y las características del arreglo que contiene el producto elemento a elemento."
      ],
      "metadata": {
        "id": "C8qnYPetOZrJ"
      }
    },
    {
      "cell_type": "code",
      "source": [
        "# Escriba aquí su código\n"
      ],
      "metadata": {
        "id": "sQBykAAQPcOl"
      },
      "execution_count": null,
      "outputs": []
    },
    {
      "cell_type": "markdown",
      "source": [
        "## Ejercicio 02\n",
        "\n",
        "Cree dos arreglos, de 10 columnas y 10 filas cada uno, a partir del arreglo_00.\n",
        "\n",
        "Calcule el producto matricial entre los dos arreglos creados\n",
        "\n",
        "Muestre el resultado y las características del arreglo que contiene el producto matricial."
      ],
      "metadata": {
        "id": "QAq6pletPk8r"
      }
    },
    {
      "cell_type": "code",
      "metadata": {
        "id": "mOgOJmG7wAl9"
      },
      "source": [
        "# Escriba aquí su código\n"
      ],
      "execution_count": null,
      "outputs": []
    },
    {
      "cell_type": "markdown",
      "metadata": {
        "id": "8VqifPnzyMwO"
      },
      "source": [
        "## Ejercicio 03\n",
        "\n",
        "Cree un arreglo, de 15 columnas y 10 filas, a partir del arreglo_00.\n",
        "\n",
        "Calcule y muestre la suma de cada una de las columnas y de cada una de las filas."
      ]
    },
    {
      "cell_type": "code",
      "metadata": {
        "id": "20rAG6ONnlxL"
      },
      "source": [
        "# Escriba aquí su código\n"
      ],
      "execution_count": null,
      "outputs": []
    },
    {
      "cell_type": "markdown",
      "metadata": {
        "id": "CJOrRBf9nlxV"
      },
      "source": [
        "## Ejercicio 04\n",
        "\n",
        "Utilice el arreglo creado en el ejercicio anterior. Reconvierta el arreglo a uno de dimensión 5 columnas y 30 filas.\n",
        "\n",
        "A partir de ese arreglo cree otro nuevo en el cual cada uno de los elementos de las filas es mayor que el promedio de la respectiva columna.\n",
        "\n",
        "Muestre el arreglo obtenido y sus características."
      ]
    },
    {
      "cell_type": "code",
      "source": [
        "# Escriba aquí su código\n"
      ],
      "metadata": {
        "id": "P0eXc0A2VfGI"
      },
      "execution_count": null,
      "outputs": []
    },
    {
      "cell_type": "markdown",
      "source": [
        "## Ejercicio 05\n",
        "\n",
        "Utilice el arreglo creado en el ejercicio 03.\n",
        "\n",
        "Ordene cada columna de forma descendente, de mayor a menor, de forma independiente. Luego cree un nuevo arreglo con la concatenación de todas las columnas ordenadas.\n",
        "\n",
        "Muestre el resultado y las características del arreglo."
      ],
      "metadata": {
        "id": "zi_nxZp1V96s"
      }
    },
    {
      "cell_type": "code",
      "metadata": {
        "id": "oJj_vrFbnlxW"
      },
      "source": [
        "# Escriba aquí su código\n"
      ],
      "execution_count": null,
      "outputs": []
    },
    {
      "cell_type": "markdown",
      "source": [
        "## Ejercicio 06\n",
        "\n",
        "Cree un arreglo, de 9 columnas y 9 filas, a partir del arreglo_00.\n",
        "\n",
        "Agregue una nueva columna al final del arreglo que contenga la suma de cada una de las filas y otra columna que contenga el promedio de las nueve columnas originales del arreglo.\n",
        "\n",
        "Muestre el resultado y las características del arreglo."
      ],
      "metadata": {
        "id": "DDurE6R_hyrI"
      }
    },
    {
      "cell_type": "code",
      "source": [
        "# Escriba aquí su código\n"
      ],
      "metadata": {
        "id": "B2RFQrlFXNW6"
      },
      "execution_count": null,
      "outputs": []
    },
    {
      "cell_type": "markdown",
      "source": [
        "## Ejercicio 07\n",
        "\n",
        "A partir de la columna del arreglo 00 que contiene los números enteros entre 0 y 360, genere un nuevo arreglo de 10 x 100.\n",
        "\n",
        "Genere un nuevo arreglo en el que cada valor corresponda a la conversión de grados sexagesimales a radianes del arreglo que acaba de crear\n",
        "\n",
        "Muestre el resultado y las características del arreglo."
      ],
      "metadata": {
        "id": "u2KW_i-8TxS1"
      }
    },
    {
      "cell_type": "code",
      "source": [
        "# Escriba aquí su código\n"
      ],
      "metadata": {
        "id": "cVaOujCeY_nk"
      },
      "execution_count": null,
      "outputs": []
    },
    {
      "cell_type": "markdown",
      "source": [
        "## Ejercicio 08\n",
        "\n",
        "Cree un arreglo, de 15 columnas y 15 filas seleccionadas aleatoriamente (utilice el número de su documento de identidad como semilla), a partir del arreglo_00.\n",
        "\n",
        "Calcule y muestre el determinante del arreglo, la transpuesta y la inversa."
      ],
      "metadata": {
        "id": "L8lgdKHiZEZi"
      }
    },
    {
      "cell_type": "code",
      "source": [
        "# Escriba aquí su código\n"
      ],
      "metadata": {
        "id": "_JBLayQcUsJh"
      },
      "execution_count": null,
      "outputs": []
    },
    {
      "cell_type": "markdown",
      "source": [
        "## Ejercicio 09\n",
        "\n",
        "Cree un arreglo, de 8 columnas y  8 filas, ambas seleccionadas aleatoriamente (utilice el número de su documento de identidad como semilla), a partir del arreglo_00.\n",
        "\n",
        "Luego cree un arreglo de dimensión 1x8 con número reales aleatorios en el intervalo 0,10 (utilice el número de su documento de identidad como semilla).\n",
        "\n",
        "Asuma que el primer arreglo representa los coeficientes de un sistema de ecuaciones lineales, y el segundo arreglo contiene las respectivas constantes. Encuentre la solución al sistema utilizando funciones de álgebra lineal de NumPy.\n",
        "\n",
        "Muestre el valor de cada una de las variables que resuelve el sistema de ecuaciones."
      ],
      "metadata": {
        "id": "PvhPpHf_Ao29"
      }
    },
    {
      "cell_type": "code",
      "source": [
        "# Escriba aquí su código\n"
      ],
      "metadata": {
        "id": "9j976yi6AtGR"
      },
      "execution_count": null,
      "outputs": []
    }
  ]
}