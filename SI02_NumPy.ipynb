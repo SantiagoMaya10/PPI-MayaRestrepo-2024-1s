{
  "nbformat": 4,
  "nbformat_minor": 0,
  "metadata": {
    "colab": {
      "provenance": [],
      "include_colab_link": true
    },
    "kernelspec": {
      "name": "python3",
      "display_name": "Python 3"
    }
  },
  "cells": [
    {
      "cell_type": "markdown",
      "metadata": {
        "id": "view-in-github",
        "colab_type": "text"
      },
      "source": [
        "<a href=\"https://colab.research.google.com/github/SantiagoMaya10/PPI-MayaRestrepo-2024-1s/blob/main/SI02_NumPy.ipynb\" target=\"_parent\"><img src=\"https://colab.research.google.com/assets/colab-badge.svg\" alt=\"Open In Colab\"/></a>"
      ]
    },
    {
      "cell_type": "markdown",
      "source": [
        "## «*Olvidaba que en todo combate entre el fanatismo y el sentido común, pocas veces logra este último imponerse*».\n",
        "### [Marguerite Yourcenar](https://es.wikipedia.org/wiki/Marguerite_Yourcenar)"
      ],
      "metadata": {
        "id": "bDjqO634RdpU"
      }
    },
    {
      "cell_type": "markdown",
      "metadata": {
        "id": "mCkyuX8p2SYu"
      },
      "source": [
        "# SI02 NumPy\n",
        "\n",
        "Actividad individual.\n",
        "\n",
        "Resuelva los siguientes ejercicios con códigos que se ajusten al PEP8. Recuerde incluir los comentarios en el código y documentar las funciones con docstrings al estilo de Google.\n",
        "\n",
        "**Importante:**\n",
        "\n",
        "**no se permite la utilización de ciclos (for or while) para resolver los ejercicios.**\n",
        "\n",
        "**todos los ejercicios deben ser resueltos con NumPy.**"
      ]
    },
    {
      "cell_type": "markdown",
      "source": [
        "## Ejercicio 00\n",
        "\n",
        "Cree el arreglo_00 de 15 **columnas** y 1000 **filas** de la siguiente manera:\n",
        "\n",
        "* cinco columnas con números aleatorios provenientes de una distribución normal de media 0 y desviación típica 1. Utilice como semilla el número de su documento de identidad sumado con el número de la columna.\n",
        "\n",
        "* cinco columnas con números aleatorios enteros en los siguientes intervalos: 200 a 300, 400 a 600, 0 a 360, 100 a 900, y 1000 a 2000. Utilice como semilla el número de su documento de identidad.\n",
        "\n",
        "* cinco columnas con números aleatorios binarios (0,1)\n",
        "\n",
        "Muestre el resultado y las características del arreglo."
      ],
      "metadata": {
        "id": "EcsCzNpONXPs"
      }
    },
    {
      "cell_type": "code",
      "source": [
        "# Escriba aquí su códig\n",
        "import numpy as np\n",
        "\n",
        "def crear_arreglo():\n",
        "    \"\"\"\n",
        "    Crea un arreglo de 1000 filas y 15 columnas con números aleatorios siguiendo las siguientes especificaciones:\n",
        "\n",
        "    - Las primeras cinco columnas contienen números aleatorios provenientes de una distribución normal con media 0 y desviación típica 1.\n",
        "    - Las siguientes cinco columnas contienen números aleatorios enteros en diferentes intervalos: 200 a 300, 400 a 600, 0 a 360, 100 a 900, y 1000 a 2000.\n",
        "    - Las últimas cinco columnas contienen números aleatorios binarios (0 o 1).\n",
        "\n",
        "    Returns:\n",
        "    numpy.ndarray: Un arreglo de dimensiones (1000, 15) con los números aleatorios generados según las especificaciones.\n",
        "    \"\"\"\n",
        "    # Semilla para generar números aleatorios\n",
        "    semilla = 1017276204  # Número de documento de identidad\n",
        "\n",
        "    # Generar cinco columnas con números aleatorios de distribución normal\n",
        "    np.random.seed(semilla+1)\n",
        "    normal_column_1 = np.random.normal(0, 1, size=(1000, 1))\n",
        "    np.random.seed(semilla+2)\n",
        "    normal_column_2 = np.random.normal(0, 1, size=(1000, 1))\n",
        "    np.random.seed(semilla+3)\n",
        "    normal_column_3 = np.random.normal(0, 1, size=(1000, 1))\n",
        "    np.random.seed(semilla+4)\n",
        "    normal_column_4 = np.random.normal(0, 1, size=(1000, 1))\n",
        "    np.random.seed(semilla+5)\n",
        "    normal_column_5 = np.random.normal(0, 1, size=(1000, 1))\n",
        "\n",
        "    normal_columns = np.column_stack([normal_column_1,\n",
        "                               normal_column_2,\n",
        "                               normal_column_3,\n",
        "                               normal_column_4,\n",
        "                               normal_column_5])\n",
        "    print(\"Foma de la sprimeras 5 columnas: \")\n",
        "    print(normal_columns.shape)\n",
        "\n",
        "\n",
        "    # Generar cinco columnas con números aleatorios enteros en diferentes intervalos\n",
        "    np.random.seed(semilla)\n",
        "    entero_columns = np.column_stack([\n",
        "        np.random.randint(200, 301, size=1000),  # Intervalo 200 a 300\n",
        "        np.random.randint(400, 601, size=1000),  # Intervalo 400 a 600\n",
        "        np.random.randint(0, 361, size=1000),    # Intervalo 0 a 360\n",
        "        np.random.randint(100, 901, size=1000),  # Intervalo 100 a 900\n",
        "        np.random.randint(1000, 2001, size=1000) # Intervalo 1000 a 2000\n",
        "    ])\n",
        "    print(\"Foma de la segundas 5 columnas: \")\n",
        "    print(normal_columns.shape)\n",
        "\n",
        "\n",
        "    # Generar cinco columnas con números aleatorios binarios\n",
        "    binario_columns = np.random.randint(0, 2, size=(1000, 5))\n",
        "    print(\"Foma de la terceras 5 columnas: \")\n",
        "    print(normal_columns.shape)\n",
        "\n",
        "    # Concatenar las columnas para formar el arreglo completo\n",
        "    arreglo_00 = np.column_stack([normal_columns, entero_columns, binario_columns])\n",
        "\n",
        "    return arreglo_00\n",
        "\n",
        "# Crear el arreglo\n",
        "arreglo_00 = crear_arreglo()\n",
        "\n",
        "# Mostrar el arreglo y sus características\n",
        "print(\"Arreglo:\")\n",
        "print(arreglo_00)\n",
        "print(\"\\nDimensiones del arreglo:\", arreglo_00.shape)\n",
        "print(\"Tipo de datos del arreglo:\", arreglo_00.dtype)\n",
        "print(\"Valor máximo en el arreglo:\", np.max(arreglo_00))\n",
        "print(\"Valor mínimo en el arreglo:\", np.min(arreglo_00))\n"
      ],
      "metadata": {
        "id": "RfYApVxRNj0N",
        "colab": {
          "base_uri": "https://localhost:8080/"
        },
        "outputId": "07d7581c-a1fa-4da3-9557-c7fc032e8e15"
      },
      "execution_count": 54,
      "outputs": [
        {
          "output_type": "stream",
          "name": "stdout",
          "text": [
            "Foma de la sprimeras 5 columnas: \n",
            "(1000, 5)\n",
            "Foma de la segundas 5 columnas: \n",
            "(1000, 5)\n",
            "Foma de la terceras 5 columnas: \n",
            "(1000, 5)\n",
            "Arreglo:\n",
            "[[ 1.82228728  0.10334738  0.31070983 ...  1.          0.\n",
            "   1.        ]\n",
            " [ 1.62350749  0.96107289  1.13073118 ...  0.          1.\n",
            "   0.        ]\n",
            " [ 0.76672338  1.52463954 -0.88588701 ...  0.          0.\n",
            "   1.        ]\n",
            " ...\n",
            " [-0.92884616  1.23811536  0.47602158 ...  0.          0.\n",
            "   0.        ]\n",
            " [-0.20577863 -0.03659333  0.77829626 ...  1.          1.\n",
            "   1.        ]\n",
            " [-0.33570516 -1.80734874 -1.39017678 ...  1.          0.\n",
            "   1.        ]]\n",
            "\n",
            "Dimensiones del arreglo: (1000, 15)\n",
            "Tipo de datos del arreglo: float64\n",
            "Valor máximo en el arreglo: 1997.0\n",
            "Valor mínimo en el arreglo: -3.434243141672083\n"
          ]
        }
      ]
    },
    {
      "cell_type": "markdown",
      "source": [
        "## Ejercicio 01\n",
        "\n",
        "Cree dos arreglos, de 15 columnas y 20 filas cada uno, a partir del arreglo_00.\n",
        "\n",
        "Calcule el producto elemento a elemento entre los dos arreglos creados\n",
        "\n",
        "Muestre el resultado y las características del arreglo que contiene el producto elemento a elemento."
      ],
      "metadata": {
        "id": "C8qnYPetOZrJ"
      }
    },
    {
      "cell_type": "code",
      "source": [
        "# Escriba aquí su código\n",
        "\n",
        "import numpy as np\n",
        "\n",
        "# Se extraen las primeras 20 filas del arreglo_00 y se obtiene una submatrix de 20x15\n",
        "submatrix_1 = arreglo_00[0:20]\n",
        "print(f\"Dimensiones submatriz 1: {submatrix_1.shape}\")\n",
        "\n",
        "# Se extraen las filas de la 20 a la 40 del arreglo_00 y se obtiene una submatrix de 20x15\n",
        "submatrix_2 = arreglo_00[20:40]\n",
        "print(f\"Dimensiones submatriz 2: {submatrix_2.shape}\")\n",
        "\n",
        "# Se multiplican elemento a elemento\n",
        "matriz_final = submatrix_1 * submatrix_2\n",
        "\n",
        "print(f\"Dimensiones de la submatriz obtenida\\\n",
        " después de multiplicar: {matriz_final.shape}\")\n",
        "\n",
        "print(\"\\nDimensiones de la matrixz:\", matriz_final.shape)\n",
        "print(\"Tipo de datos de la matriz:\", matriz_final.dtype)\n",
        "print(\"Valor máximo en la matriz:\", np.max(matriz_final))\n",
        "print(\"Valor mínimo en la amtriz:\", np.min(matriz_final))"
      ],
      "metadata": {
        "id": "sQBykAAQPcOl",
        "colab": {
          "base_uri": "https://localhost:8080/"
        },
        "outputId": "f7942e58-d085-4ffb-ab29-b46ec0d4442f"
      },
      "execution_count": 55,
      "outputs": [
        {
          "output_type": "stream",
          "name": "stdout",
          "text": [
            "Dimensiones submatriz 1: (20, 15)\n",
            "Dimensiones submatriz 2: (20, 15)\n",
            "Dimensiones de la submatriz obtenida después de multiplicar: (20, 15)\n",
            "\n",
            "Dimensiones de la matrixz: (20, 15)\n",
            "Tipo de datos de la matriz: float64\n",
            "Valor máximo en la matriz: 3478120.0\n",
            "Valor mínimo en la amtriz: -2.9528470858958733\n"
          ]
        }
      ]
    },
    {
      "cell_type": "markdown",
      "source": [
        "## Ejercicio 02\n",
        "\n",
        "Cree dos arreglos, de 10 columnas y 10 filas cada uno, a partir del arreglo_00.\n",
        "\n",
        "Calcule el producto matricial entre los dos arreglos creados\n",
        "\n",
        "Muestre el resultado y las características del arreglo que contiene el producto matricial."
      ],
      "metadata": {
        "id": "QAq6pletPk8r"
      }
    },
    {
      "cell_type": "code",
      "metadata": {
        "id": "mOgOJmG7wAl9",
        "colab": {
          "base_uri": "https://localhost:8080/"
        },
        "outputId": "b4af4613-df6b-4cb1-8b0c-716a2ae99d2c"
      },
      "source": [
        "# Escriba aquí su código\n",
        "\n",
        "import numpy as np\n",
        "\n",
        "print(arreglo_00.shape)\n",
        "\n",
        "# Se extraen las primeras 10 filas del arreglo_00 y luego se aplica slicing para obtener 10 columnas\n",
        "submatrix_1 = arreglo_00[0:10][0:,0:10]\n",
        "submatrix_2 = arreglo_00[10:20][0:,0:10]\n",
        "\n",
        "print(f\"Dimensiones submatriz 1: {submatrix_1.shape}\")\n",
        "print(f\"Dimensiones submatriz 2: {submatrix_2.shape}\")\n",
        "\n",
        "matrix_product = np.matmul(submatrix_1, submatrix_2)\n",
        "\n",
        "\n",
        "print(f\"Dimensiones de la submatriz obtenida\\\n",
        " después de multiplicar matricialmente: {matrix_product.shape}\")\n",
        "\n",
        "print(\"\\nDimensiones de la matriz:\", matrix_product.shape)\n",
        "print(\"Tipo de datos de la matriz:\", matrix_product.dtype)\n",
        "print(\"Valor máximo en la matriz:\", np.max(matrix_product))\n",
        "print(\"Valor mínimo en la amtriz:\", np.min(matrix_product))\n"
      ],
      "execution_count": 72,
      "outputs": [
        {
          "output_type": "stream",
          "name": "stdout",
          "text": [
            "(1000, 15)\n",
            "Dimensiones submatriz 1: (10, 10)\n",
            "Dimensiones submatriz 2: (10, 10)\n",
            "Dimensiones de la submatriz obtenida después de multiplicar matricialmente: (10, 10)\n",
            "\n",
            "Dimensiones de la matriz: (10, 10)\n",
            "Tipo de datos de la matriz: float64\n",
            "Valor máximo en la matriz: 4596897.846962875\n",
            "Valor mínimo en la amtriz: -4027.6173890144914\n"
          ]
        }
      ]
    },
    {
      "cell_type": "markdown",
      "metadata": {
        "id": "8VqifPnzyMwO"
      },
      "source": [
        "## Ejercicio 03\n",
        "\n",
        "Cree un arreglo, de 15 columnas y 10 filas, a partir del arreglo_00.\n",
        "\n",
        "Calcule y muestre la suma de cada una de las columnas y de cada una de las filas."
      ]
    },
    {
      "cell_type": "code",
      "metadata": {
        "id": "20rAG6ONnlxL",
        "colab": {
          "base_uri": "https://localhost:8080/"
        },
        "outputId": "d753d8f1-42e5-452a-af71-f0bfcde82367"
      },
      "source": [
        "# Escriba aquí su código\n",
        "\n",
        "# Import numpy\n",
        "import numpy as np\n",
        "\n",
        "# Se extraen las primeras 10 filas del arreglo_00\n",
        "submatrix = arreglo_00[0:10]\n",
        "print(f\"Dimensiones submatriz: {submatrix.shape}\")\n",
        "\n",
        "# Calcular la suma de cada columna\n",
        "suma_columnas = np.sum(submatrix, axis=0)\n",
        "\n",
        "# Calcular la suma de cada fila\n",
        "suma_filas = np.sum(submatrix, axis=1)\n",
        "\n",
        "# Mostrar resultados\n",
        "print(\"Suma de cada columna:\")\n",
        "print(suma_columnas)\n",
        "print(\"Suma de cada fila:\")\n",
        "print(suma_filas)\n",
        "\n"
      ],
      "execution_count": 79,
      "outputs": [
        {
          "output_type": "stream",
          "name": "stdout",
          "text": [
            "Dimensiones submatriz: (10, 15)\n",
            "Suma de cada columna:\n",
            "[ 6.24075679e+00  2.56298612e+00  1.14411375e+00  5.70646225e+00\n",
            " -1.27345502e-01  2.63600000e+03  5.11300000e+03  1.81200000e+03\n",
            "  5.03700000e+03  1.39300000e+04  7.00000000e+00  5.00000000e+00\n",
            "  5.00000000e+00  5.00000000e+00  5.00000000e+00]\n",
            "Suma de cada fila:\n",
            "[2672.20636721 3156.60716772 2466.15746407 2615.59741239 3360.5573504\n",
            " 2447.80424569 2569.73270014 3071.11425737 2938.50456053 3272.24544789]\n"
          ]
        }
      ]
    },
    {
      "cell_type": "markdown",
      "metadata": {
        "id": "CJOrRBf9nlxV"
      },
      "source": [
        "## Ejercicio 04\n",
        "\n",
        "Utilice el arreglo creado en el ejercicio anterior. Reconvierta el arreglo a uno de dimensión 5 columnas y 30 filas.\n",
        "\n",
        "A partir de ese arreglo cree otro nuevo en el cual cada uno de los elementos de las filas es mayor que el promedio de la respectiva columna.\n",
        "\n",
        "Muestre el arreglo obtenido y sus características."
      ]
    },
    {
      "cell_type": "code",
      "source": [
        "# Escriba aquí su código\n",
        "\n",
        "# Rconvertimos de 10*15 a 30*5\n",
        "arreglo_30x5 = submatrix.reshape(30, 5)\n",
        "\n",
        "print(f\"Dimensiones submatriz: {arreglo_30x5.shape}\")\n",
        "\n",
        "# Calcular el promedio de cada columna\n",
        "promedio_columnas = np.mean(arreglo_30x5, axis=0)\n",
        "\n",
        "# Crear un arreglo booleano indicando si cada elemento es mayor que el promedio de su columna\n",
        "mayor_que_promedio = arreglo_30x5 > promedio_columnas\n",
        "\n",
        "# Crear un nuevo arreglo con los elementos que son mayores que el promedio de su columna\n",
        "nuevo_arreglo = np.where(mayor_que_promedio, arreglo_30x5, 0)\n",
        "\n",
        "# Mostrar el nuevo arreglo\n",
        "print(\"Nuevo arreglo:\")\n",
        "print(nuevo_arreglo)"
      ],
      "metadata": {
        "id": "P0eXc0A2VfGI",
        "colab": {
          "base_uri": "https://localhost:8080/"
        },
        "outputId": "5cb0e09e-6722-4572-f1b3-66a5ca798435"
      },
      "execution_count": 83,
      "outputs": [
        {
          "output_type": "stream",
          "name": "stdout",
          "text": [
            "Dimensiones submatriz: (30, 5)\n",
            "Nuevo arreglo:\n",
            "[[  0   0   0   0   0]\n",
            " [  0   0   0   0   0]\n",
            " [  0   0   0   0   0]\n",
            " [  0   0   0   0   0]\n",
            " [  0   0   0   0   0]\n",
            " [  0   0   0   0   0]\n",
            " [  0   0   0   0   0]\n",
            " [  0   0   0   0   0]\n",
            " [  0   0   0   0   0]\n",
            " [  0   0   0   0   0]\n",
            " [  0   0   0   0   0]\n",
            " [  0   0   0   0   0]\n",
            " [  0   0   0   0   0]\n",
            " [  0   0   0   0   0]\n",
            " [  0   0   0   0   0]\n",
            " [ 76  77  78  79  80]\n",
            " [ 81  82  83  84  85]\n",
            " [ 86  87  88  89  90]\n",
            " [ 91  92  93  94  95]\n",
            " [ 96  97  98  99 100]\n",
            " [101 102 103 104 105]\n",
            " [106 107 108 109 110]\n",
            " [111 112 113 114 115]\n",
            " [116 117 118 119 120]\n",
            " [121 122 123 124 125]\n",
            " [126 127 128 129 130]\n",
            " [131 132 133 134 135]\n",
            " [136 137 138 139 140]\n",
            " [141 142 143 144 145]\n",
            " [146 147 148 149 150]]\n"
          ]
        }
      ]
    },
    {
      "cell_type": "markdown",
      "source": [
        "## Ejercicio 05\n",
        "\n",
        "Utilice el arreglo creado en el ejercicio 03.\n",
        "\n",
        "Ordene cada columna de forma descendente, de mayor a menor, de forma independiente. Luego cree un nuevo arreglo con la concatenación de todas las columnas ordenadas.\n",
        "\n",
        "Muestre el resultado y las características del arreglo."
      ],
      "metadata": {
        "id": "zi_nxZp1V96s"
      }
    },
    {
      "cell_type": "code",
      "metadata": {
        "id": "oJj_vrFbnlxW",
        "colab": {
          "base_uri": "https://localhost:8080/"
        },
        "outputId": "32e2e1b2-63c7-478e-da60-8915d4eccd7f"
      },
      "source": [
        "# Escriba aquí su código\n",
        "\n",
        "import numpy as np\n",
        "\n",
        "\n",
        "submatrix = arreglo_00[0:10]\n",
        "print(f\"Dimensiones submatriz: {submatrix.shape}\")\n",
        "# Ordenar cada columna de forma descendente\n",
        "columnas_ordenadas_desc = np.sort(submatrix, axis=0)[::-1]\n",
        "\n",
        "# Concatenar las columnas ordenadas para formar un nuevo arreglo\n",
        "nuevo_arreglo = columnas_ordenadas_desc.flatten()\n",
        "\n",
        "# Mostrar el nuevo arreglo\n",
        "print(\"Nuevo arreglo con columnas ordenadas de forma descendente:\")\n",
        "print(nuevo_arreglo)\n",
        "print(f\"Dimensiones del nuevo arreglo {nuevo_arreglo.shape}\")\n",
        "print(\"Tipo de datos del nuevo arreglo:\", nuevo_arreglo.dtype)\n",
        "print(\"Valor máximo del nuevo arreglo:\", np.max(nuevo_arreglo))\n",
        "print(\"Valor mínimo del nuevo arreglo:\", np.min(nuevo_arreglo))"
      ],
      "execution_count": 87,
      "outputs": [
        {
          "output_type": "stream",
          "name": "stdout",
          "text": [
            "Dimensiones submatriz: (10, 15)\n",
            "Nuevo arreglo con columnas ordenadas de forma descendente:\n",
            "[ 1.82228728e+00  1.96534960e+00  1.13073118e+00  2.23747485e+00\n",
            "  6.85409007e-01  2.96000000e+02  5.73000000e+02  3.48000000e+02\n",
            "  8.72000000e+02  1.95400000e+03  1.00000000e+00  1.00000000e+00\n",
            "  1.00000000e+00  1.00000000e+00  1.00000000e+00  1.73624873e+00\n",
            "  1.52463954e+00  9.17828716e-01  1.87951890e+00  6.30451771e-01\n",
            "  2.91000000e+02  5.72000000e+02  3.16000000e+02  7.40000000e+02\n",
            "  1.81200000e+03  1.00000000e+00  1.00000000e+00  1.00000000e+00\n",
            "  1.00000000e+00  1.00000000e+00  1.67135274e+00  1.20853097e+00\n",
            "  6.17746939e-01  1.74843767e+00  3.56164600e-01  2.89000000e+02\n",
            "  5.36000000e+02  2.00000000e+02  6.62000000e+02  1.62100000e+03\n",
            "  1.00000000e+00  1.00000000e+00  1.00000000e+00  1.00000000e+00\n",
            "  1.00000000e+00  1.62350749e+00  9.61072890e-01  3.10709829e-01\n",
            "  6.57413562e-01  2.27921025e-01  2.80000000e+02  5.28000000e+02\n",
            "  1.77000000e+02  5.05000000e+02  1.42600000e+03  1.00000000e+00\n",
            "  1.00000000e+00  1.00000000e+00  1.00000000e+00  1.00000000e+00\n",
            "  7.66723384e-01  8.27223677e-01  2.32767548e-01  2.84613704e-01\n",
            "  4.05630958e-02  2.78000000e+02  5.24000000e+02  1.70000000e+02\n",
            "  4.95000000e+02  1.36500000e+03  1.00000000e+00  1.00000000e+00\n",
            "  1.00000000e+00  1.00000000e+00  1.00000000e+00  9.89657643e-02\n",
            "  1.03347384e-01 -2.69443260e-03  2.50454599e-01 -3.04255122e-01\n",
            "  2.59000000e+02  5.21000000e+02  1.70000000e+02  4.66000000e+02\n",
            "  1.26100000e+03  1.00000000e+00  0.00000000e+00  0.00000000e+00\n",
            "  0.00000000e+00  0.00000000e+00  2.21698482e-02 -1.59072155e-01\n",
            " -9.26928528e-02  2.03426808e-01 -3.11570639e-01  2.55000000e+02\n",
            "  4.84000000e+02  1.34000000e+02  4.21000000e+02  1.23800000e+03\n",
            "  1.00000000e+00  0.00000000e+00  0.00000000e+00  0.00000000e+00\n",
            "  0.00000000e+00 -2.48982011e-01 -2.79405042e-01 -3.47880269e-01\n",
            "  1.48430850e-01 -3.93785502e-01  2.37000000e+02  4.69000000e+02\n",
            "  1.16000000e+02  3.40000000e+02  1.21600000e+03  0.00000000e+00\n",
            "  0.00000000e+00  0.00000000e+00  0.00000000e+00  0.00000000e+00\n",
            " -3.79214864e-01 -6.08726828e-01 -7.36515891e-01 -1.77419649e-01\n",
            " -3.96442692e-01  2.34000000e+02  4.59000000e+02  9.90000000e+01\n",
            "  3.06000000e+02  1.03400000e+03  0.00000000e+00  0.00000000e+00\n",
            "  0.00000000e+00  0.00000000e+00  0.00000000e+00 -8.72301573e-01\n",
            " -2.97997391e+00 -8.85887015e-01 -1.52588903e+00 -6.61801045e-01\n",
            "  2.17000000e+02  4.47000000e+02  8.20000000e+01  2.30000000e+02\n",
            "  1.00300000e+03  0.00000000e+00  0.00000000e+00  0.00000000e+00\n",
            "  0.00000000e+00  0.00000000e+00]\n",
            "Dimensiones del nuevo arreglo (150,)\n",
            "Tipo de datos del nuevo arreglo: float64\n",
            "Valor máximo del nuevo arreglo: 1954.0\n",
            "Valor mínimo del nuevo arreglo: -2.9799739139035917\n"
          ]
        }
      ]
    },
    {
      "cell_type": "markdown",
      "source": [
        "## Ejercicio 06\n",
        "\n",
        "Cree un arreglo, de 9 columnas y 9 filas, a partir del arreglo_00.\n",
        "\n",
        "Agregue una nueva columna al final del arreglo que contenga la suma de cada una de las filas y otra columna que contenga el promedio de las nueve columnas originales del arreglo.\n",
        "\n",
        "Muestre el resultado y las características del arreglo."
      ],
      "metadata": {
        "id": "DDurE6R_hyrI"
      }
    },
    {
      "cell_type": "code",
      "source": [
        "# Escriba aquí su código\n",
        "\n",
        "# Se seleccionan 9 dilas y luego se seleccionan 9 columans de cada una de esas filas\n",
        "arreglo_9x9 = arreglo_00[0:9][0:,0:9]\n",
        "\n",
        "print(f\"Dimensiones arreglo_9x9: {arreglo_9x9.shape}\")\n",
        "\n",
        "\n",
        "# Calcular la suma de cada fila\n",
        "suma_filas = np.sum(arreglo_9x9, axis=1)\n",
        "\n",
        "# Calcular el promedio de las nueve columnas originales\n",
        "promedio_columnas = np.mean(arreglo_9x9, axis=0)\n",
        "\n",
        "arreglo_final = np.column_stack([arreglo_9x9, suma_filas, promedio_columnas])\n",
        "\n",
        "# Mostrar el nuevo arreglo final\n",
        "print(f\"Nuevo arreglo {arreglo_final}\")\n",
        "print(f\"Dimensiones del nuevo arreglo {arreglo_final.shape}\")\n",
        "print(\"Tipo de datos del nuevo arreglo:\", arreglo_final.dtype)\n",
        "print(\"Valor máximo del nuevo arreglo:\", np.max(arreglo_final))\n",
        "print(\"Valor mínimo del nuevo arreglo:\", np.min(arreglo_final))"
      ],
      "metadata": {
        "id": "B2RFQrlFXNW6",
        "colab": {
          "base_uri": "https://localhost:8080/"
        },
        "outputId": "ee5d6291-e56d-42a9-9c7f-fd149a176d7a"
      },
      "execution_count": 92,
      "outputs": [
        {
          "output_type": "stream",
          "name": "stdout",
          "text": [
            "Dimensiones arreglo_9x9: (9, 9)\n",
            "Nuevo arreglo [[ 1.82228728e+00  1.03347384e-01  3.10709829e-01  2.84613704e-01\n",
            "   6.85409007e-01  2.91000000e+02  5.36000000e+02  1.34000000e+02\n",
            "   3.40000000e+02  1.30420637e+03  6.90954105e-01]\n",
            " [ 1.62350749e+00  9.61072890e-01  1.13073118e+00  2.03426808e-01\n",
            "  -3.11570639e-01  2.89000000e+02  4.47000000e+02  9.90000000e+01\n",
            "   5.05000000e+02  1.34360717e+03  1.50495017e-01]\n",
            " [ 7.66723384e-01  1.52463954e+00 -8.85887015e-01  1.48430850e-01\n",
            "  -3.96442692e-01  2.78000000e+02  5.72000000e+02  3.48000000e+02\n",
            "   2.30000000e+02  1.42915746e+03  1.37422956e-01]\n",
            " [ 9.89657643e-02 -6.08726828e-01 -7.36515891e-01  2.23747485e+00\n",
            "  -3.93785502e-01  2.34000000e+02  5.28000000e+02  1.70000000e+02\n",
            "   4.66000000e+02  1.39859741e+03  4.25215928e-01]\n",
            " [-2.48982011e-01 -2.97997391e+00 -2.69443260e-03  1.74843767e+00\n",
            "   4.05630958e-02  2.37000000e+02  4.59000000e+02  1.70000000e+02\n",
            "   8.72000000e+02  1.73655735e+03 -3.94740586e-02]\n",
            " [ 1.73624873e+00  8.27223677e-01 -3.47880269e-01  2.50454599e-01\n",
            "  -6.61801045e-01  2.96000000e+02  5.21000000e+02  3.16000000e+02\n",
            "   3.06000000e+02  1.44080425e+03  2.68777778e+02]\n",
            " [-3.79214864e-01 -1.59072155e-01  9.17828716e-01  6.57413562e-01\n",
            "  -3.04255122e-01  2.59000000e+02  4.69000000e+02  1.77000000e+02\n",
            "   4.21000000e+02  1.32673270e+03  5.14333333e+02]\n",
            " [ 1.67135274e+00 -2.79405042e-01  6.17746939e-01 -1.52588903e+00\n",
            "   6.30451771e-01  2.55000000e+02  5.24000000e+02  2.00000000e+02\n",
            "   6.62000000e+02  1.64211426e+03  1.88444444e+02]\n",
            " [-8.72301573e-01  1.96534960e+00  2.32767548e-01 -1.77419649e-01\n",
            "   3.56164600e-01  2.80000000e+02  5.73000000e+02  8.20000000e+01\n",
            "   7.40000000e+02  1.67650456e+03  5.04666667e+02]]\n",
            "Dimensiones del nuevo arreglo (9, 11)\n",
            "Tipo de datos del nuevo arreglo: float64\n",
            "Valor máximo del nuevo arreglo: 1736.5573504045583\n",
            "Valor mínimo del nuevo arreglo: -2.9799739139035917\n"
          ]
        }
      ]
    },
    {
      "cell_type": "markdown",
      "source": [
        "## Ejercicio 07\n",
        "\n",
        "A partir de la columna del arreglo 00 que contiene los números enteros entre 0 y 360, genere un nuevo arreglo de 10 x 100.\n",
        "\n",
        "Genere un nuevo arreglo en el que cada valor corresponda a la conversión de grados sexagesimales a radianes del arreglo que acaba de crear\n",
        "\n",
        "Muestre el resultado y las características del arreglo."
      ],
      "metadata": {
        "id": "u2KW_i-8TxS1"
      }
    },
    {
      "cell_type": "code",
      "source": [
        "# Escriba aquí su código\n",
        "\n",
        "# Crear una máscara booleana para identificar las columnas que cumplen con la condición\n",
        "mascara = np.logical_and(arreglo_00 > 0, arreglo_00 < 360)\n",
        "\n",
        "# Filtrar las columnas que cumplen con la condición\n",
        "arreglo_filtrado = arreglo_00[:, mascara.any(axis=0)]\n",
        "arreglo_radianes = np.radians(arreglo_filtrado)\n",
        "\n",
        "# Mostrar el resultado y las características del arreglo\n",
        "print(\"Nuevo arreglo de 10x100:\")\n",
        "print(arreglo_filtrado)\n",
        "print(\"\\nArreglo de radianes:\")\n",
        "print(arreglo_radianes)\n",
        "print(\"\\nDimensiones del arreglo de radianes:\", arreglo_radianes.shape)\n",
        "print(\"Tipo de datos del arreglo de radianes:\", arreglo_radianes.dtype)\n",
        "print(\"Valor máximo en el arreglo de radianes:\", np.max(arreglo_radianes))\n",
        "print(\"Valor mínimo en el arreglo de radianes:\", np.min(arreglo_radianes))\n",
        "\n",
        "print(f\"Dimensiones arreglo_9x9: {arreglo_filtrado.shape}\")\n",
        "print(arreglo_filtrado)\n",
        "\n",
        "\n"
      ],
      "metadata": {
        "id": "cVaOujCeY_nk",
        "colab": {
          "base_uri": "https://localhost:8080/"
        },
        "outputId": "d3251718-60b8-4adf-d5ae-3d0f15d43402"
      },
      "execution_count": 99,
      "outputs": [
        {
          "output_type": "stream",
          "name": "stdout",
          "text": [
            "Nuevo arreglo de 10x100:\n",
            "[[ 1.82228728  0.10334738  0.31070983 ...  1.          0.\n",
            "   1.        ]\n",
            " [ 1.62350749  0.96107289  1.13073118 ...  0.          1.\n",
            "   0.        ]\n",
            " [ 0.76672338  1.52463954 -0.88588701 ...  0.          0.\n",
            "   1.        ]\n",
            " ...\n",
            " [-0.92884616  1.23811536  0.47602158 ...  0.          0.\n",
            "   0.        ]\n",
            " [-0.20577863 -0.03659333  0.77829626 ...  1.          1.\n",
            "   1.        ]\n",
            " [-0.33570516 -1.80734874 -1.39017678 ...  1.          0.\n",
            "   1.        ]]\n",
            "\n",
            "Arreglo de radianes:\n",
            "[[ 0.03180491  0.00180375  0.00542291 ...  0.01745329  0.\n",
            "   0.01745329]\n",
            " [ 0.02833555  0.01677389  0.01973498 ...  0.          0.01745329\n",
            "   0.        ]\n",
            " [ 0.01338185  0.02660998 -0.01546165 ...  0.          0.\n",
            "   0.01745329]\n",
            " ...\n",
            " [-0.01621142  0.02160919  0.00830814 ...  0.          0.\n",
            "   0.        ]\n",
            " [-0.00359151 -0.00063867  0.01358383 ...  0.01745329  0.01745329\n",
            "   0.01745329]\n",
            " [-0.00585916 -0.03154419 -0.02426316 ...  0.01745329  0.\n",
            "   0.01745329]]\n",
            "\n",
            "Dimensiones del arreglo de radianes: (1000, 13)\n",
            "Tipo de datos del arreglo de radianes: float64\n",
            "Valor máximo en el arreglo de radianes: 15.690509975429023\n",
            "Valor mínimo en el arreglo de radianes: -0.059938850136211926\n",
            "Dimensiones arreglo_9x9: (1000, 13)\n",
            "[[ 1.82228728  0.10334738  0.31070983 ...  1.          0.\n",
            "   1.        ]\n",
            " [ 1.62350749  0.96107289  1.13073118 ...  0.          1.\n",
            "   0.        ]\n",
            " [ 0.76672338  1.52463954 -0.88588701 ...  0.          0.\n",
            "   1.        ]\n",
            " ...\n",
            " [-0.92884616  1.23811536  0.47602158 ...  0.          0.\n",
            "   0.        ]\n",
            " [-0.20577863 -0.03659333  0.77829626 ...  1.          1.\n",
            "   1.        ]\n",
            " [-0.33570516 -1.80734874 -1.39017678 ...  1.          0.\n",
            "   1.        ]]\n"
          ]
        }
      ]
    },
    {
      "cell_type": "markdown",
      "source": [
        "## Ejercicio 08\n",
        "\n",
        "Cree un arreglo, de 15 columnas y 15 filas seleccionadas aleatoriamente (utilice el número de su documento de identidad como semilla), a partir del arreglo_00.\n",
        "\n",
        "Calcule y muestre el determinante del arreglo, la transpuesta y la inversa."
      ],
      "metadata": {
        "id": "L8lgdKHiZEZi"
      }
    },
    {
      "cell_type": "code",
      "source": [
        "# Escriba aquí su código\n",
        "import numpy as np\n",
        "\n",
        "# Semilla para generar números aleatorios\n",
        "semilla = 1017276204  # Número de documento de identidad\n",
        "\n",
        "# Utilizar la semilla para seleccionar aleatoriamente 15 filas del arreglo\n",
        "np.random.seed(semilla)\n",
        "filas_seleccionadas = np.random.choice(arreglo_00.shape[0], size=15, replace=False)\n",
        "arreglo_seleccionado = arreglo_00[filas_seleccionadas]\n",
        "\n",
        "# Calcular el determinante del arreglo\n",
        "determinante = np.linalg.det(arreglo_seleccionado)\n",
        "\n",
        "# Calcular la transpuesta del arreglo\n",
        "transpuesta = arreglo_seleccionado.T\n",
        "\n",
        "# Calcular la inversa del arreglo\n",
        "inversa = np.linalg.inv(arreglo_seleccionado)\n",
        "\n",
        "# Mostrar los resultados\n",
        "print(\"Arreglo seleccionado de 15x15:\")\n",
        "print(arreglo_seleccionado)\n",
        "print(\"\\nDeterminante del arreglo:\", determinante)\n",
        "print(\"\\nTranspuesta del arreglo:\")\n",
        "print(transpuesta)\n",
        "print(\"\\nInversa del arreglo:\")\n",
        "print(inversa)\n"
      ],
      "metadata": {
        "id": "_JBLayQcUsJh",
        "colab": {
          "base_uri": "https://localhost:8080/"
        },
        "outputId": "f0b4e3bb-f950-4589-bf1f-43903e9a5578"
      },
      "execution_count": 100,
      "outputs": [
        {
          "output_type": "stream",
          "name": "stdout",
          "text": [
            "Arreglo seleccionado de 15x15:\n",
            "[[-8.93954659e-01  1.37088535e+00  4.30971571e-01  1.07600344e+00\n",
            "  -1.32893411e+00  2.23000000e+02  4.35000000e+02  2.36000000e+02\n",
            "   5.40000000e+02  1.03200000e+03  0.00000000e+00  1.00000000e+00\n",
            "   0.00000000e+00  1.00000000e+00  1.00000000e+00]\n",
            " [-1.63282527e+00  6.35492167e-01  5.00840085e-01  4.08966814e-01\n",
            "   7.48620841e-01  2.70000000e+02  4.23000000e+02  8.20000000e+01\n",
            "   1.97000000e+02  1.51500000e+03  0.00000000e+00  1.00000000e+00\n",
            "   1.00000000e+00  1.00000000e+00  0.00000000e+00]\n",
            " [ 1.14093221e-01 -4.21085336e-01 -4.12196978e-01  1.02061536e-01\n",
            "   2.77813168e-01  2.15000000e+02  4.08000000e+02  8.80000000e+01\n",
            "   7.05000000e+02  1.66600000e+03  0.00000000e+00  0.00000000e+00\n",
            "   0.00000000e+00  0.00000000e+00  1.00000000e+00]\n",
            " [-1.92923464e+00 -2.09847357e+00  9.97322772e-01  2.99575804e+00\n",
            "   8.33605412e-02  3.00000000e+02  4.81000000e+02  4.10000000e+01\n",
            "   1.20000000e+02  1.48500000e+03  0.00000000e+00  1.00000000e+00\n",
            "   1.00000000e+00  1.00000000e+00  1.00000000e+00]\n",
            " [-6.44432741e-01 -1.45987043e+00 -6.59924678e-02  1.71365966e-01\n",
            "   1.05384494e-01  2.39000000e+02  4.31000000e+02  3.60000000e+02\n",
            "   1.60000000e+02  1.48700000e+03  0.00000000e+00  0.00000000e+00\n",
            "   1.00000000e+00  0.00000000e+00  0.00000000e+00]\n",
            " [ 1.99955971e-01 -6.76389880e-01 -1.57686663e-01  7.20276979e-01\n",
            "   2.16066365e+00  2.19000000e+02  4.92000000e+02  3.33000000e+02\n",
            "   7.60000000e+02  1.04000000e+03  1.00000000e+00  1.00000000e+00\n",
            "   0.00000000e+00  1.00000000e+00  1.00000000e+00]\n",
            " [ 1.27624877e+00  1.30903740e+00  5.46888663e-01  6.61339886e-02\n",
            "  -8.17933165e-01  2.41000000e+02  5.98000000e+02  1.16000000e+02\n",
            "   1.08000000e+02  1.88400000e+03  0.00000000e+00  1.00000000e+00\n",
            "   0.00000000e+00  0.00000000e+00  1.00000000e+00]\n",
            " [ 6.29191316e-02  1.98184065e+00 -8.15845433e-01 -6.30817378e-01\n",
            "   8.89612746e-01  2.90000000e+02  5.02000000e+02  2.88000000e+02\n",
            "   8.30000000e+02  1.53100000e+03  1.00000000e+00  1.00000000e+00\n",
            "   0.00000000e+00  1.00000000e+00  1.00000000e+00]\n",
            " [ 2.22001471e+00 -2.50896054e-01 -7.40183534e-01 -4.60232860e-01\n",
            "  -6.30604900e-01  2.73000000e+02  5.05000000e+02  1.68000000e+02\n",
            "   5.13000000e+02  1.78700000e+03  1.00000000e+00  1.00000000e+00\n",
            "   0.00000000e+00  0.00000000e+00  1.00000000e+00]\n",
            " [-3.12416203e-01 -2.42304022e+00  7.16810445e-01 -9.92910902e-01\n",
            "  -7.05788213e-01  2.53000000e+02  4.46000000e+02  2.81000000e+02\n",
            "   6.10000000e+02  1.24500000e+03  1.00000000e+00  0.00000000e+00\n",
            "   1.00000000e+00  0.00000000e+00  0.00000000e+00]\n",
            " [-2.33378881e-01  1.85977592e+00 -1.55611798e-01  1.68350348e+00\n",
            "  -4.09936214e-01  2.85000000e+02  4.90000000e+02  2.74000000e+02\n",
            "   3.94000000e+02  1.09900000e+03  1.00000000e+00  0.00000000e+00\n",
            "   1.00000000e+00  0.00000000e+00  0.00000000e+00]\n",
            " [ 4.12988817e-01 -1.10512786e+00 -9.13331405e-01  1.37535685e+00\n",
            "   5.97349871e-01  2.70000000e+02  4.89000000e+02  4.10000000e+01\n",
            "   8.57000000e+02  1.33500000e+03  1.00000000e+00  0.00000000e+00\n",
            "   1.00000000e+00  1.00000000e+00  1.00000000e+00]\n",
            " [ 7.87213567e-01  1.86875054e-01  1.54800326e+00  1.68482292e+00\n",
            "   8.94949999e-03  2.93000000e+02  4.56000000e+02  1.95000000e+02\n",
            "   7.59000000e+02  1.76400000e+03  1.00000000e+00  0.00000000e+00\n",
            "   0.00000000e+00  1.00000000e+00  0.00000000e+00]\n",
            " [ 1.59354425e+00  5.42944540e-01  1.42140766e+00  6.71374272e-01\n",
            "   7.39676610e-01  2.70000000e+02  4.86000000e+02  5.90000000e+01\n",
            "   3.06000000e+02  1.17100000e+03  1.00000000e+00  0.00000000e+00\n",
            "   0.00000000e+00  0.00000000e+00  1.00000000e+00]\n",
            " [-1.74983225e+00  2.03248982e+00  2.56090099e+00 -8.81678060e-01\n",
            "  -4.25131310e-01  2.63000000e+02  5.03000000e+02  1.73000000e+02\n",
            "   6.99000000e+02  1.00100000e+03  1.00000000e+00  0.00000000e+00\n",
            "   1.00000000e+00  1.00000000e+00  1.00000000e+00]]\n",
            "\n",
            "Determinante del arreglo: -9632217966803146.0\n",
            "\n",
            "Transpuesta del arreglo:\n",
            "[[-8.93954659e-01 -1.63282527e+00  1.14093221e-01 -1.92923464e+00\n",
            "  -6.44432741e-01  1.99955971e-01  1.27624877e+00  6.29191316e-02\n",
            "   2.22001471e+00 -3.12416203e-01 -2.33378881e-01  4.12988817e-01\n",
            "   7.87213567e-01  1.59354425e+00 -1.74983225e+00]\n",
            " [ 1.37088535e+00  6.35492167e-01 -4.21085336e-01 -2.09847357e+00\n",
            "  -1.45987043e+00 -6.76389880e-01  1.30903740e+00  1.98184065e+00\n",
            "  -2.50896054e-01 -2.42304022e+00  1.85977592e+00 -1.10512786e+00\n",
            "   1.86875054e-01  5.42944540e-01  2.03248982e+00]\n",
            " [ 4.30971571e-01  5.00840085e-01 -4.12196978e-01  9.97322772e-01\n",
            "  -6.59924678e-02 -1.57686663e-01  5.46888663e-01 -8.15845433e-01\n",
            "  -7.40183534e-01  7.16810445e-01 -1.55611798e-01 -9.13331405e-01\n",
            "   1.54800326e+00  1.42140766e+00  2.56090099e+00]\n",
            " [ 1.07600344e+00  4.08966814e-01  1.02061536e-01  2.99575804e+00\n",
            "   1.71365966e-01  7.20276979e-01  6.61339886e-02 -6.30817378e-01\n",
            "  -4.60232860e-01 -9.92910902e-01  1.68350348e+00  1.37535685e+00\n",
            "   1.68482292e+00  6.71374272e-01 -8.81678060e-01]\n",
            " [-1.32893411e+00  7.48620841e-01  2.77813168e-01  8.33605412e-02\n",
            "   1.05384494e-01  2.16066365e+00 -8.17933165e-01  8.89612746e-01\n",
            "  -6.30604900e-01 -7.05788213e-01 -4.09936214e-01  5.97349871e-01\n",
            "   8.94949999e-03  7.39676610e-01 -4.25131310e-01]\n",
            " [ 2.23000000e+02  2.70000000e+02  2.15000000e+02  3.00000000e+02\n",
            "   2.39000000e+02  2.19000000e+02  2.41000000e+02  2.90000000e+02\n",
            "   2.73000000e+02  2.53000000e+02  2.85000000e+02  2.70000000e+02\n",
            "   2.93000000e+02  2.70000000e+02  2.63000000e+02]\n",
            " [ 4.35000000e+02  4.23000000e+02  4.08000000e+02  4.81000000e+02\n",
            "   4.31000000e+02  4.92000000e+02  5.98000000e+02  5.02000000e+02\n",
            "   5.05000000e+02  4.46000000e+02  4.90000000e+02  4.89000000e+02\n",
            "   4.56000000e+02  4.86000000e+02  5.03000000e+02]\n",
            " [ 2.36000000e+02  8.20000000e+01  8.80000000e+01  4.10000000e+01\n",
            "   3.60000000e+02  3.33000000e+02  1.16000000e+02  2.88000000e+02\n",
            "   1.68000000e+02  2.81000000e+02  2.74000000e+02  4.10000000e+01\n",
            "   1.95000000e+02  5.90000000e+01  1.73000000e+02]\n",
            " [ 5.40000000e+02  1.97000000e+02  7.05000000e+02  1.20000000e+02\n",
            "   1.60000000e+02  7.60000000e+02  1.08000000e+02  8.30000000e+02\n",
            "   5.13000000e+02  6.10000000e+02  3.94000000e+02  8.57000000e+02\n",
            "   7.59000000e+02  3.06000000e+02  6.99000000e+02]\n",
            " [ 1.03200000e+03  1.51500000e+03  1.66600000e+03  1.48500000e+03\n",
            "   1.48700000e+03  1.04000000e+03  1.88400000e+03  1.53100000e+03\n",
            "   1.78700000e+03  1.24500000e+03  1.09900000e+03  1.33500000e+03\n",
            "   1.76400000e+03  1.17100000e+03  1.00100000e+03]\n",
            " [ 0.00000000e+00  0.00000000e+00  0.00000000e+00  0.00000000e+00\n",
            "   0.00000000e+00  1.00000000e+00  0.00000000e+00  1.00000000e+00\n",
            "   1.00000000e+00  1.00000000e+00  1.00000000e+00  1.00000000e+00\n",
            "   1.00000000e+00  1.00000000e+00  1.00000000e+00]\n",
            " [ 1.00000000e+00  1.00000000e+00  0.00000000e+00  1.00000000e+00\n",
            "   0.00000000e+00  1.00000000e+00  1.00000000e+00  1.00000000e+00\n",
            "   1.00000000e+00  0.00000000e+00  0.00000000e+00  0.00000000e+00\n",
            "   0.00000000e+00  0.00000000e+00  0.00000000e+00]\n",
            " [ 0.00000000e+00  1.00000000e+00  0.00000000e+00  1.00000000e+00\n",
            "   1.00000000e+00  0.00000000e+00  0.00000000e+00  0.00000000e+00\n",
            "   0.00000000e+00  1.00000000e+00  1.00000000e+00  1.00000000e+00\n",
            "   0.00000000e+00  0.00000000e+00  1.00000000e+00]\n",
            " [ 1.00000000e+00  1.00000000e+00  0.00000000e+00  1.00000000e+00\n",
            "   0.00000000e+00  1.00000000e+00  0.00000000e+00  1.00000000e+00\n",
            "   0.00000000e+00  0.00000000e+00  0.00000000e+00  1.00000000e+00\n",
            "   1.00000000e+00  0.00000000e+00  1.00000000e+00]\n",
            " [ 1.00000000e+00  0.00000000e+00  1.00000000e+00  1.00000000e+00\n",
            "   0.00000000e+00  1.00000000e+00  1.00000000e+00  1.00000000e+00\n",
            "   1.00000000e+00  0.00000000e+00  0.00000000e+00  1.00000000e+00\n",
            "   0.00000000e+00  1.00000000e+00  1.00000000e+00]]\n",
            "\n",
            "Inversa del arreglo:\n",
            "[[ 4.05094463e-01  4.92481069e-01 -2.38161521e-02 -5.22665074e-01\n",
            "   3.46842176e-01  2.59015014e-01 -5.00693045e-01 -9.43751982e-01\n",
            "   8.10519556e-01 -5.32133228e-01 -1.02149017e-01  1.32530635e-01\n",
            "  -7.79756369e-03  1.98673147e-01  1.85093439e-01]\n",
            " [ 6.33402705e-03  1.17311763e-01  7.12455665e-02 -1.16439910e-01\n",
            "   3.01512943e-02  4.31820084e-02 -8.93673710e-02 -1.50857903e-01\n",
            "   1.89837386e-01 -2.65423023e-01  1.35562598e-01 -5.46435276e-02\n",
            "   1.63273727e-03 -5.27710817e-02  1.53480806e-01]\n",
            " [ 1.30236561e-01  3.30311239e-01  1.72469151e-01 -1.93322821e-01\n",
            "   8.50369029e-02  3.24937003e-01 -3.80696229e-01 -8.07550621e-01\n",
            "   5.96084869e-01 -3.45511856e-01 -8.85179360e-03 -2.39572247e-01\n",
            "   8.30503105e-02  2.55037595e-02  3.71910576e-01]\n",
            " [-1.03913328e-02 -2.92122474e-02  1.16430548e-01  8.08618249e-02\n",
            "  -2.96357989e-02  1.81357324e-01 -1.09287133e-01 -3.21172030e-01\n",
            "   2.07843595e-01 -2.46490836e-01  2.25012669e-01 -6.63791413e-02\n",
            "   9.90920732e-02 -1.45107183e-01  6.58435295e-02]\n",
            " [-1.05582970e-01  2.65194074e-01  1.60962066e-01 -1.25496688e-01\n",
            "   7.76157277e-02  2.78332665e-01 -1.95668719e-01 -2.47370927e-01\n",
            "   1.30592565e-01 -2.27125189e-01  1.81135539e-02 -7.76786634e-02\n",
            "  -5.67746758e-02  1.12533486e-01  6.93771847e-02]\n",
            " [ 8.08183177e-03  6.27171703e-03  1.67495828e-04 -2.77323606e-03\n",
            "   2.54984722e-03 -3.94027433e-03 -1.01137210e-02 -9.60040542e-04\n",
            "   3.43372314e-03 -1.37051494e-04 -1.86592840e-03 -8.25055320e-04\n",
            "  -2.63464957e-03  1.01495695e-02 -3.22029297e-03]\n",
            " [-1.14848182e-03 -3.03012935e-03 -2.20371869e-03  9.05086555e-04\n",
            "  -3.49902036e-03 -8.46682424e-04  8.64779763e-03  5.93803050e-03\n",
            "  -1.04656211e-02  6.77259530e-03  4.86898457e-05  2.63129433e-03\n",
            "  -6.20601470e-04  3.70811336e-04 -3.82851633e-03]\n",
            " [ 8.71002250e-04 -4.55588901e-04 -2.40059689e-04 -7.12775591e-04\n",
            "   3.36879968e-03  1.50204237e-03 -2.27439065e-03 -2.08870877e-03\n",
            "   3.15841929e-03 -2.81918409e-03  9.88403381e-05 -1.14786005e-03\n",
            "   3.64120066e-04 -7.35437780e-04  1.66776862e-03]\n",
            " [ 1.28651722e-03  1.91114170e-03  1.73278045e-03 -1.53833826e-03\n",
            "  -4.91642253e-04  1.48210183e-03 -1.96243128e-03 -3.46337349e-03\n",
            "   2.28438229e-03 -8.79200521e-04  5.36908487e-04 -2.95563919e-04\n",
            "  -1.39179839e-04 -2.82769603e-04  7.56694770e-04]\n",
            " [-1.29742453e-03 -6.08191023e-04  3.27512332e-04  6.59591839e-04\n",
            "   2.48316949e-04 -2.96457704e-05  3.84203284e-04  3.03588265e-04\n",
            "   5.87877939e-04 -6.92062179e-04  9.31041456e-05 -3.69401558e-04\n",
            "   6.72840955e-04 -1.23494362e-03  6.68641826e-04]\n",
            " [-1.24811001e+00 -1.21352188e+00 -4.81102086e-01  1.02587495e+00\n",
            "  -5.59973839e-01 -3.49435969e-01  9.00480469e-01  1.61694731e+00\n",
            "  -7.32234873e-01  6.26051384e-01  2.62207859e-01 -1.24381013e-01\n",
            "   3.08884079e-01 -5.91781306e-01 -1.62574699e-02]\n",
            " [ 3.11870259e-01  8.96389447e-01  3.03704042e-01 -2.82404328e-01\n",
            "  -2.96277336e-01  7.36666572e-01 -6.88479347e-01 -1.32889233e+00\n",
            "   1.35484972e+00 -4.27021723e-01  2.57327957e-01 -4.59488375e-01\n",
            "  -1.85615607e-01 -2.59300577e-01  3.11474357e-01]\n",
            " [ 2.65109743e-01  1.05714236e+00  2.95064945e-01 -7.25567694e-01\n",
            "   6.65356168e-01  7.63848270e-01 -1.18746442e+00 -2.27580520e+00\n",
            "   2.10273694e+00 -1.38859132e+00  2.56060924e-01  8.23062254e-02\n",
            "  -2.20327033e-01 -3.73522146e-01  1.05329333e+00]\n",
            " [ 4.29522062e-02 -4.05309164e-01 -8.68332757e-01  1.14392107e-01\n",
            "   3.25556979e-01 -4.98514105e-01  5.60753487e-01  1.02162043e+00\n",
            "  -8.35894964e-01  1.84336008e-01 -6.39202709e-01  6.55314580e-01\n",
            "   3.04631743e-01  4.27968131e-02 -2.35087800e-01]\n",
            " [-5.06221668e-02 -3.47473369e-01  1.64193640e-01  2.32869233e-01\n",
            "   5.05478418e-01  9.16691640e-02 -4.82187745e-01 -2.83817154e-01\n",
            "   8.39562037e-01 -8.18068944e-01 -1.23928863e-01 -7.99004305e-02\n",
            "  -1.93749232e-01 -6.27905321e-02  6.31023955e-01]]\n"
          ]
        }
      ]
    },
    {
      "cell_type": "markdown",
      "source": [
        "## Ejercicio 09\n",
        "\n",
        "Cree un arreglo, de 8 columnas y  8 filas, ambas seleccionadas aleatoriamente (utilice el número de su documento de identidad como semilla), a partir del arreglo_00.\n",
        "\n",
        "Luego cree un arreglo de dimensión 1x8 con número reales aleatorios en el intervalo 0,10 (utilice el número de su documento de identidad como semilla).\n",
        "\n",
        "Asuma que el primer arreglo representa los coeficientes de un sistema de ecuaciones lineales, y el segundo arreglo contiene las respectivas constantes. Encuentre la solución al sistema utilizando funciones de álgebra lineal de NumPy.\n",
        "\n",
        "Muestre el valor de cada una de las variables que resuelve el sistema de ecuaciones."
      ],
      "metadata": {
        "id": "PvhPpHf_Ao29"
      }
    },
    {
      "cell_type": "code",
      "source": [
        "# Escriba aquí su código\n"
      ],
      "metadata": {
        "id": "9j976yi6AtGR"
      },
      "execution_count": null,
      "outputs": []
    }
  ]
}